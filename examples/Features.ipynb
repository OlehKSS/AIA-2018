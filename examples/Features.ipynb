{
 "cells": [
  {
   "cell_type": "markdown",
   "metadata": {},
   "source": [
    "# Examples of feature extraction"
   ]
  },
  {
   "cell_type": "code",
   "execution_count": 20,
   "metadata": {},
   "outputs": [],
   "source": [
    "import cv2\n",
    "import matplotlib.pyplot as plt\n",
    "import numpy as np\n",
    "\n",
    "import immas\n",
    "from immas import MammogramImage\n",
    "from immas.basic_functions import show_image_plt"
   ]
  },
  {
   "cell_type": "markdown",
   "metadata": {},
   "source": [
    "## Feature extraction using MammogramImage class"
   ]
  },
  {
   "cell_type": "markdown",
   "metadata": {},
   "source": [
    "Let's read sample mammogram image first"
   ]
  },
  {
   "cell_type": "code",
   "execution_count": 21,
   "metadata": {},
   "outputs": [
    {
     "data": {
      "image/png": "[encoded data removed]",
      "text/plain": [
       "<Figure size 432x288 with 1 Axes>"
      ]
     },
     "metadata": {},
     "output_type": "display_data"
    },
    {
     "data": {
      "image/png": "[encoded data removed]",
      "text/plain": [
       "<Figure size 432x288 with 1 Axes>"
      ]
     },
     "metadata": {},
     "output_type": "display_data"
    }
   ],
   "source": [
    "path_image = \"../dataset/images/22579730_bbd6a3a35438c11b_MG_R_ML_ANON.tif\"\n",
    "path_mask = \"../dataset/masks/22579730_bbd6a3a35438c11b_MG_R_ML_ANON.png\"\n",
    "path_ground_truth = \"../dataset/groundtruth/22579730_bbd6a3a35438c11b_MG_R_ML_ANON.tif\"\n",
    "pectoral_muscle = \"../dataset/pectoral_muscle_masks/22579730_bbd6a3a35438c11b_MG_R_ML_ANON.tif\"\n",
    "\n",
    "mm = MammogramImage(path_image, path_mask, ground_truth_path=path_ground_truth, pmuscle_mask_path=pectoral_muscle)\n",
    "\n",
    "show_image_plt(mm.image_data,'Cropped image')\n",
    "show_image_plt(mm.cropped_ground_truth,'Ground truth')"
   ]
  },
  {
   "cell_type": "markdown",
   "metadata": {},
   "source": [
    "Now we can do features and contours extraction using `get_img_features` function, by default it selects 10 biggest (by area) false positive contours, and true positive contours (masses) if any available."
   ]
  },
  {
   "cell_type": "code",
   "execution_count": 22,
   "metadata": {},
   "outputs": [
    {
     "name": "stderr",
     "output_type": "stream",
     "text": [
      "/home/okozyn/Projects/immas/immas/segmentation.py:50: RuntimeWarning: invalid value encountered in double_scalars\n",
      "  M1 = float(M1K/W1K)\n"
     ]
    },
    {
     "name": "stdout",
     "output_type": "stream",
     "text": [
      "Help on method get_img_features in module immas.io.mammogram:\n",
      "\n",
      "get_img_features(contour_max_number=10) method of immas.io.mammogram.MammogramImage instance\n",
      "    Finds mass candidates contours and their features.\n",
      "    \n",
      "    Args:\n",
      "        contour_max_number (int): maximum number of contours (without groundtruth) \n",
      "        to take into account, default is 10. In case you do not want to limit the number \n",
      "        of contours provide None as the parameter value.\n",
      "    \n",
      "    Returns:\n",
      "        (pandas.DataFrame, [opencv.contour]): features of selected contours \n",
      "        and list of contours.\n",
      "\n"
     ]
    }
   ],
   "source": [
    "features, contours = mm.get_img_features()\n",
    "\n",
    "help(mm.get_img_features)"
   ]
  },
  {
   "cell_type": "markdown",
   "metadata": {},
   "source": [
    "Let's check what output we have. `class_id` field equals to 1 for true positive (masses) and -1 for false positive (not masses). Please pay attention that features are returned in `pandas.DataFrame` format."
   ]
  },
  {
   "cell_type": "code",
   "execution_count": 23,
   "metadata": {},
   "outputs": [
    {
     "data": {
      "text/html": [
       "<div>\n",
       "<style scoped>\n",
       "    .dataframe tbody tr th:only-of-type {\n",
       "        vertical-align: middle;\n",
       "    }\n",
       "\n",
       "    .dataframe tbody tr th {\n",
       "        vertical-align: top;\n",
       "    }\n",
       "\n",
       "    .dataframe thead th {\n",
       "        text-align: right;\n",
       "    }\n",
       "</style>\n",
       "<table border=\"1\" class=\"dataframe\">\n",
       "  <thead>\n",
       "    <tr style=\"text-align: right;\">\n",
       "      <th></th>\n",
       "      <th>perimeter</th>\n",
       "      <th>area</th>\n",
       "      <th>circularity</th>\n",
       "      <th>ac</th>\n",
       "      <th>mean_intensity</th>\n",
       "      <th>standard_deviation</th>\n",
       "      <th>smoothness</th>\n",
       "      <th>skewness</th>\n",
       "      <th>class_id</th>\n",
       "    </tr>\n",
       "  </thead>\n",
       "  <tbody>\n",
       "    <tr>\n",
       "      <th>0</th>\n",
       "      <td>4224.076784</td>\n",
       "      <td>23302.5</td>\n",
       "      <td>60.932813</td>\n",
       "      <td>382.429415</td>\n",
       "      <td>32682.298070</td>\n",
       "      <td>19071.931634</td>\n",
       "      <td>1.0</td>\n",
       "      <td>-2.158255e+10</td>\n",
       "      <td>-1.0</td>\n",
       "    </tr>\n",
       "    <tr>\n",
       "      <th>1</th>\n",
       "      <td>2123.929265</td>\n",
       "      <td>12183.0</td>\n",
       "      <td>29.465648</td>\n",
       "      <td>413.464526</td>\n",
       "      <td>32596.632523</td>\n",
       "      <td>18801.860807</td>\n",
       "      <td>1.0</td>\n",
       "      <td>-2.345094e+09</td>\n",
       "      <td>-1.0</td>\n",
       "    </tr>\n",
       "    <tr>\n",
       "      <th>2</th>\n",
       "      <td>964.354461</td>\n",
       "      <td>7791.5</td>\n",
       "      <td>9.498225</td>\n",
       "      <td>820.311172</td>\n",
       "      <td>32766.357361</td>\n",
       "      <td>18938.463817</td>\n",
       "      <td>1.0</td>\n",
       "      <td>4.447417e+10</td>\n",
       "      <td>-1.0</td>\n",
       "    </tr>\n",
       "    <tr>\n",
       "      <th>3</th>\n",
       "      <td>1184.888512</td>\n",
       "      <td>5667.5</td>\n",
       "      <td>19.713039</td>\n",
       "      <td>287.500063</td>\n",
       "      <td>33529.324276</td>\n",
       "      <td>18959.452991</td>\n",
       "      <td>1.0</td>\n",
       "      <td>-1.479250e+11</td>\n",
       "      <td>-1.0</td>\n",
       "    </tr>\n",
       "    <tr>\n",
       "      <th>4</th>\n",
       "      <td>1136.420477</td>\n",
       "      <td>4818.0</td>\n",
       "      <td>21.330520</td>\n",
       "      <td>225.873538</td>\n",
       "      <td>32298.799508</td>\n",
       "      <td>18939.138184</td>\n",
       "      <td>1.0</td>\n",
       "      <td>1.376212e+11</td>\n",
       "      <td>-1.0</td>\n",
       "    </tr>\n",
       "    <tr>\n",
       "      <th>5</th>\n",
       "      <td>1393.682449</td>\n",
       "      <td>4751.5</td>\n",
       "      <td>32.530225</td>\n",
       "      <td>146.064161</td>\n",
       "      <td>32703.288885</td>\n",
       "      <td>18810.358412</td>\n",
       "      <td>1.0</td>\n",
       "      <td>4.602172e+10</td>\n",
       "      <td>-1.0</td>\n",
       "    </tr>\n",
       "    <tr>\n",
       "      <th>6</th>\n",
       "      <td>549.612259</td>\n",
       "      <td>3826.0</td>\n",
       "      <td>6.282869</td>\n",
       "      <td>608.957485</td>\n",
       "      <td>32882.951665</td>\n",
       "      <td>19062.852484</td>\n",
       "      <td>1.0</td>\n",
       "      <td>-1.526180e+11</td>\n",
       "      <td>-1.0</td>\n",
       "    </tr>\n",
       "    <tr>\n",
       "      <th>7</th>\n",
       "      <td>1219.917949</td>\n",
       "      <td>2752.5</td>\n",
       "      <td>43.025314</td>\n",
       "      <td>63.973966</td>\n",
       "      <td>32506.762227</td>\n",
       "      <td>18756.725175</td>\n",
       "      <td>1.0</td>\n",
       "      <td>2.003122e+11</td>\n",
       "      <td>-1.0</td>\n",
       "    </tr>\n",
       "    <tr>\n",
       "      <th>8</th>\n",
       "      <td>550.139171</td>\n",
       "      <td>1592.5</td>\n",
       "      <td>15.123623</td>\n",
       "      <td>105.298845</td>\n",
       "      <td>33364.647771</td>\n",
       "      <td>19043.606217</td>\n",
       "      <td>1.0</td>\n",
       "      <td>-5.853688e+11</td>\n",
       "      <td>-1.0</td>\n",
       "    </tr>\n",
       "    <tr>\n",
       "      <th>9</th>\n",
       "      <td>705.962545</td>\n",
       "      <td>1480.5</td>\n",
       "      <td>26.788293</td>\n",
       "      <td>55.266679</td>\n",
       "      <td>32823.145928</td>\n",
       "      <td>18891.401731</td>\n",
       "      <td>1.0</td>\n",
       "      <td>-1.780862e+11</td>\n",
       "      <td>-1.0</td>\n",
       "    </tr>\n",
       "    <tr>\n",
       "      <th>10</th>\n",
       "      <td>1743.599186</td>\n",
       "      <td>120333.5</td>\n",
       "      <td>2.010467</td>\n",
       "      <td>59853.513050</td>\n",
       "      <td>32640.330093</td>\n",
       "      <td>18904.684220</td>\n",
       "      <td>1.0</td>\n",
       "      <td>6.647140e+08</td>\n",
       "      <td>1.0</td>\n",
       "    </tr>\n",
       "    <tr>\n",
       "      <th>11</th>\n",
       "      <td>485.043720</td>\n",
       "      <td>11603.0</td>\n",
       "      <td>1.613547</td>\n",
       "      <td>7190.989862</td>\n",
       "      <td>32559.567073</td>\n",
       "      <td>18845.800389</td>\n",
       "      <td>1.0</td>\n",
       "      <td>1.638218e+10</td>\n",
       "      <td>1.0</td>\n",
       "    </tr>\n",
       "  </tbody>\n",
       "</table>\n",
       "</div>"
      ],
      "text/plain": [
       "      perimeter      area  circularity            ac  mean_intensity  \\\n",
       "0   4224.076784   23302.5    60.932813    382.429415    32682.298070   \n",
       "1   2123.929265   12183.0    29.465648    413.464526    32596.632523   \n",
       "2    964.354461    7791.5     9.498225    820.311172    32766.357361   \n",
       "3   1184.888512    5667.5    19.713039    287.500063    33529.324276   \n",
       "4   1136.420477    4818.0    21.330520    225.873538    32298.799508   \n",
       "5   1393.682449    4751.5    32.530225    146.064161    32703.288885   \n",
       "6    549.612259    3826.0     6.282869    608.957485    32882.951665   \n",
       "7   1219.917949    2752.5    43.025314     63.973966    32506.762227   \n",
       "8    550.139171    1592.5    15.123623    105.298845    33364.647771   \n",
       "9    705.962545    1480.5    26.788293     55.266679    32823.145928   \n",
       "10  1743.599186  120333.5     2.010467  59853.513050    32640.330093   \n",
       "11   485.043720   11603.0     1.613547   7190.989862    32559.567073   \n",
       "\n",
       "    standard_deviation  smoothness      skewness  class_id  \n",
       "0         19071.931634         1.0 -2.158255e+10      -1.0  \n",
       "1         18801.860807         1.0 -2.345094e+09      -1.0  \n",
       "2         18938.463817         1.0  4.447417e+10      -1.0  \n",
       "3         18959.452991         1.0 -1.479250e+11      -1.0  \n",
       "4         18939.138184         1.0  1.376212e+11      -1.0  \n",
       "5         18810.358412         1.0  4.602172e+10      -1.0  \n",
       "6         19062.852484         1.0 -1.526180e+11      -1.0  \n",
       "7         18756.725175         1.0  2.003122e+11      -1.0  \n",
       "8         19043.606217         1.0 -5.853688e+11      -1.0  \n",
       "9         18891.401731         1.0 -1.780862e+11      -1.0  \n",
       "10        18904.684220         1.0  6.647140e+08       1.0  \n",
       "11        18845.800389         1.0  1.638218e+10       1.0  "
      ]
     },
     "execution_count": 23,
     "metadata": {},
     "output_type": "execute_result"
    }
   ],
   "source": [
    "features"
   ]
  },
  {
   "cell_type": "code",
   "execution_count": 24,
   "metadata": {},
   "outputs": [
    {
     "data": {
      "image/png": "[encoded data removed]",
      "text/plain": [
       "<Figure size 2160x2160 with 1 Axes>"
      ]
     },
     "metadata": {},
     "output_type": "display_data"
    }
   ],
   "source": [
    "mm_shape = mm.image_data.shape\n",
    "\n",
    "img_color = np.zeros((mm_shape[0], mm_shape[1], 3), dtype='uint8')\n",
    "\n",
    "cv2.drawContours(img_color, contours, -1, (0,255,0), 3)\n",
    "plt.figure(figsize=(30,30))\n",
    "show_image_plt(img_color,'Selected contours')"
   ]
  },
  {
   "cell_type": "markdown",
   "metadata": {},
   "source": [
    "## Feature extraction using get_img_features function"
   ]
  },
  {
   "cell_type": "markdown",
   "metadata": {},
   "source": [
    "Features can be extracted from mammogram images using this helper function as well. We need to provide ground thruth mask separately."
   ]
  },
  {
   "cell_type": "code",
   "execution_count": 25,
   "metadata": {},
   "outputs": [
    {
     "name": "stdout",
     "output_type": "stream",
     "text": [
      "Help on function get_img_features in module immas.features.get_features:\n",
      "\n",
      "get_img_features(img, mask_ground_truth=None, contour_max_number=10)\n",
      "    Function calculates features of the given image. Class id for the true positive is 1,\n",
      "    and for the false positive (not masses) -1.\n",
      "    \n",
      "    Args:\n",
      "        img (numpy.array): image, which features to find\n",
      "        mask_ground_truth (np.array): mask for extracting mass region, default is None.\n",
      "        contour_max_number (int): maximum number of contours (without groundtruth) \n",
      "        to take into account, default is 10. In case you do not want to limit the number \n",
      "        of contours provide None as the parameter value.\n",
      "    \n",
      "    Returns:\n",
      "        (pandas.DataFrame, [opencv.contour]): features of selected contours \n",
      "        and list of contours.\n",
      "\n"
     ]
    }
   ],
   "source": [
    "from immas import get_img_features\n",
    "\n",
    "help(get_img_features)"
   ]
  },
  {
   "cell_type": "code",
   "execution_count": 26,
   "metadata": {},
   "outputs": [
    {
     "name": "stderr",
     "output_type": "stream",
     "text": [
      "/home/okozyn/Projects/immas/immas/segmentation.py:50: RuntimeWarning: invalid value encountered in double_scalars\n",
      "  M1 = float(M1K/W1K)\n"
     ]
    }
   ],
   "source": [
    "features2, contours2 = get_img_features(mm.image_data)"
   ]
  },
  {
   "cell_type": "code",
   "execution_count": 27,
   "metadata": {},
   "outputs": [
    {
     "data": {
      "text/html": [
       "<div>\n",
       "<style scoped>\n",
       "    .dataframe tbody tr th:only-of-type {\n",
       "        vertical-align: middle;\n",
       "    }\n",
       "\n",
       "    .dataframe tbody tr th {\n",
       "        vertical-align: top;\n",
       "    }\n",
       "\n",
       "    .dataframe thead th {\n",
       "        text-align: right;\n",
       "    }\n",
       "</style>\n",
       "<table border=\"1\" class=\"dataframe\">\n",
       "  <thead>\n",
       "    <tr style=\"text-align: right;\">\n",
       "      <th></th>\n",
       "      <th>perimeter</th>\n",
       "      <th>area</th>\n",
       "      <th>circularity</th>\n",
       "      <th>ac</th>\n",
       "      <th>mean_intensity</th>\n",
       "      <th>standard_deviation</th>\n",
       "      <th>smoothness</th>\n",
       "      <th>skewness</th>\n",
       "      <th>class_id</th>\n",
       "    </tr>\n",
       "  </thead>\n",
       "  <tbody>\n",
       "    <tr>\n",
       "      <th>0</th>\n",
       "      <td>3730.790428</td>\n",
       "      <td>98674.0</td>\n",
       "      <td>11.225071</td>\n",
       "      <td>8790.500926</td>\n",
       "      <td>32605.740959</td>\n",
       "      <td>18878.544965</td>\n",
       "      <td>1.0</td>\n",
       "      <td>1.713565e+10</td>\n",
       "      <td>-1.0</td>\n",
       "    </tr>\n",
       "    <tr>\n",
       "      <th>1</th>\n",
       "      <td>4224.076784</td>\n",
       "      <td>23302.5</td>\n",
       "      <td>60.932813</td>\n",
       "      <td>382.429415</td>\n",
       "      <td>32682.298070</td>\n",
       "      <td>19071.931634</td>\n",
       "      <td>1.0</td>\n",
       "      <td>-2.158255e+10</td>\n",
       "      <td>-1.0</td>\n",
       "    </tr>\n",
       "    <tr>\n",
       "      <th>2</th>\n",
       "      <td>2123.929265</td>\n",
       "      <td>12183.0</td>\n",
       "      <td>29.465648</td>\n",
       "      <td>413.464526</td>\n",
       "      <td>32596.632523</td>\n",
       "      <td>18801.860807</td>\n",
       "      <td>1.0</td>\n",
       "      <td>-2.345094e+09</td>\n",
       "      <td>-1.0</td>\n",
       "    </tr>\n",
       "    <tr>\n",
       "      <th>3</th>\n",
       "      <td>964.354461</td>\n",
       "      <td>7791.5</td>\n",
       "      <td>9.498225</td>\n",
       "      <td>820.311172</td>\n",
       "      <td>32766.357361</td>\n",
       "      <td>18938.463817</td>\n",
       "      <td>1.0</td>\n",
       "      <td>4.447417e+10</td>\n",
       "      <td>-1.0</td>\n",
       "    </tr>\n",
       "    <tr>\n",
       "      <th>4</th>\n",
       "      <td>1184.888512</td>\n",
       "      <td>5667.5</td>\n",
       "      <td>19.713039</td>\n",
       "      <td>287.500063</td>\n",
       "      <td>33529.324276</td>\n",
       "      <td>18959.452991</td>\n",
       "      <td>1.0</td>\n",
       "      <td>-1.479250e+11</td>\n",
       "      <td>-1.0</td>\n",
       "    </tr>\n",
       "    <tr>\n",
       "      <th>5</th>\n",
       "      <td>1136.420477</td>\n",
       "      <td>4818.0</td>\n",
       "      <td>21.330520</td>\n",
       "      <td>225.873538</td>\n",
       "      <td>32298.799508</td>\n",
       "      <td>18939.138184</td>\n",
       "      <td>1.0</td>\n",
       "      <td>1.376212e+11</td>\n",
       "      <td>-1.0</td>\n",
       "    </tr>\n",
       "    <tr>\n",
       "      <th>6</th>\n",
       "      <td>1393.682449</td>\n",
       "      <td>4751.5</td>\n",
       "      <td>32.530225</td>\n",
       "      <td>146.064161</td>\n",
       "      <td>32703.288885</td>\n",
       "      <td>18810.358412</td>\n",
       "      <td>1.0</td>\n",
       "      <td>4.602172e+10</td>\n",
       "      <td>-1.0</td>\n",
       "    </tr>\n",
       "    <tr>\n",
       "      <th>7</th>\n",
       "      <td>549.612259</td>\n",
       "      <td>3826.0</td>\n",
       "      <td>6.282869</td>\n",
       "      <td>608.957485</td>\n",
       "      <td>32882.951665</td>\n",
       "      <td>19062.852484</td>\n",
       "      <td>1.0</td>\n",
       "      <td>-1.526180e+11</td>\n",
       "      <td>-1.0</td>\n",
       "    </tr>\n",
       "    <tr>\n",
       "      <th>8</th>\n",
       "      <td>1219.917949</td>\n",
       "      <td>2752.5</td>\n",
       "      <td>43.025314</td>\n",
       "      <td>63.973966</td>\n",
       "      <td>32506.762227</td>\n",
       "      <td>18756.725175</td>\n",
       "      <td>1.0</td>\n",
       "      <td>2.003122e+11</td>\n",
       "      <td>-1.0</td>\n",
       "    </tr>\n",
       "    <tr>\n",
       "      <th>9</th>\n",
       "      <td>766.004175</td>\n",
       "      <td>2041.0</td>\n",
       "      <td>22.877544</td>\n",
       "      <td>89.214121</td>\n",
       "      <td>32094.653503</td>\n",
       "      <td>18755.224715</td>\n",
       "      <td>1.0</td>\n",
       "      <td>2.747701e+11</td>\n",
       "      <td>-1.0</td>\n",
       "    </tr>\n",
       "  </tbody>\n",
       "</table>\n",
       "</div>"
      ],
      "text/plain": [
       "     perimeter     area  circularity           ac  mean_intensity  \\\n",
       "0  3730.790428  98674.0    11.225071  8790.500926    32605.740959   \n",
       "1  4224.076784  23302.5    60.932813   382.429415    32682.298070   \n",
       "2  2123.929265  12183.0    29.465648   413.464526    32596.632523   \n",
       "3   964.354461   7791.5     9.498225   820.311172    32766.357361   \n",
       "4  1184.888512   5667.5    19.713039   287.500063    33529.324276   \n",
       "5  1136.420477   4818.0    21.330520   225.873538    32298.799508   \n",
       "6  1393.682449   4751.5    32.530225   146.064161    32703.288885   \n",
       "7   549.612259   3826.0     6.282869   608.957485    32882.951665   \n",
       "8  1219.917949   2752.5    43.025314    63.973966    32506.762227   \n",
       "9   766.004175   2041.0    22.877544    89.214121    32094.653503   \n",
       "\n",
       "   standard_deviation  smoothness      skewness  class_id  \n",
       "0        18878.544965         1.0  1.713565e+10      -1.0  \n",
       "1        19071.931634         1.0 -2.158255e+10      -1.0  \n",
       "2        18801.860807         1.0 -2.345094e+09      -1.0  \n",
       "3        18938.463817         1.0  4.447417e+10      -1.0  \n",
       "4        18959.452991         1.0 -1.479250e+11      -1.0  \n",
       "5        18939.138184         1.0  1.376212e+11      -1.0  \n",
       "6        18810.358412         1.0  4.602172e+10      -1.0  \n",
       "7        19062.852484         1.0 -1.526180e+11      -1.0  \n",
       "8        18756.725175         1.0  2.003122e+11      -1.0  \n",
       "9        18755.224715         1.0  2.747701e+11      -1.0  "
      ]
     },
     "execution_count": 27,
     "metadata": {},
     "output_type": "execute_result"
    }
   ],
   "source": [
    "features2"
   ]
  },
  {
   "cell_type": "code",
   "execution_count": 28,
   "metadata": {},
   "outputs": [
    {
     "data": {
      "image/png": "[encoded data removed]",
      "text/plain": [
       "<Figure size 2160x2160 with 1 Axes>"
      ]
     },
     "metadata": {},
     "output_type": "display_data"
    }
   ],
   "source": [
    "mm_shape = mm.image_data.shape\n",
    "\n",
    "img_color2 = np.zeros((mm_shape[0], mm_shape[1], 3), dtype='uint8')\n",
    "\n",
    "cv2.drawContours(img_color2, contours2, -1, (255,0,0), 3)\n",
    "plt.figure(figsize=(30,30))\n",
    "show_image_plt(img_color2,'Selected contours')"
   ]
  },
  {
   "cell_type": "markdown",
   "metadata": {},
   "source": [
    "## Reading features of several images"
   ]
  },
  {
   "cell_type": "markdown",
   "metadata": {},
   "source": [
    "`get_dataset_features` function can be used for feature extraction from whole dataset."
   ]
  },
  {
   "cell_type": "code",
   "execution_count": 29,
   "metadata": {},
   "outputs": [
    {
     "name": "stdout",
     "output_type": "stream",
     "text": [
      "Help on function get_dataset_features in module immas.features.get_features:\n",
      "\n",
      "get_dataset_features(data, contour_max_number=10)\n",
      "    Function returns list of features for all of the mammograms.\n",
      "    \n",
      "    Args:\n",
      "        data ([MammogramImage]): list (iterable) of the mammograms from dataset.\n",
      "        contour_max_number (int): maximum number of contours (without groundtruth) \n",
      "        to take into account, default is 10. In case you do not want to limit the number \n",
      "        of contours provide None as the parameter value.\n",
      "    \n",
      "    Returns:\n",
      "        pandas.DataFrame: feature of all images combined in one data table.\n",
      "\n"
     ]
    }
   ],
   "source": [
    "from immas import get_dataset_features\n",
    "\n",
    "help(get_dataset_features)"
   ]
  },
  {
   "cell_type": "code",
   "execution_count": 30,
   "metadata": {},
   "outputs": [],
   "source": [
    "# let's create sample dataset of two images\n",
    "path_image1 = \"../dataset/images/22579730_bbd6a3a35438c11b_MG_R_ML_ANON.tif\"\n",
    "path_mask1 = \"../dataset/masks/22579730_bbd6a3a35438c11b_MG_R_ML_ANON.png\"\n",
    "path_ground_truth1 = \"../dataset/groundtruth/22579730_bbd6a3a35438c11b_MG_R_ML_ANON.tif\"\n",
    "pectoral_muscle1 = \"../dataset/pectoral_muscle_masks/22579730_bbd6a3a35438c11b_MG_R_ML_ANON.tif\"\n",
    "\n",
    "path_image2 = \"../dataset/images/20587690_f4b2d377f43ba0bd_MG_L_ML_ANON.tif\"\n",
    "path_mask2 = \"../dataset/masks/20587690_f4b2d377f43ba0bd_MG_L_ML_ANON.png\"\n",
    "pectoral_muscle2 = \"../dataset/pectoral_muscle_masks/20587690_f4b2d377f43ba0bd_MG_L_ML_ANON.tif\"\n",
    "\n",
    "mm1 = MammogramImage(path_image1, \n",
    "                     path_mask1, \n",
    "                     ground_truth_path=path_ground_truth1, \n",
    "                     pmuscle_mask_path=pectoral_muscle1,\n",
    "                     load_data=False)\n",
    "mm2 = MammogramImage(path_image2, \n",
    "                     path_mask2, \n",
    "                     pmuscle_mask_path=pectoral_muscle2,\n",
    "                     load_data=False)\n",
    "dataset = [mm1, mm2]"
   ]
  },
  {
   "cell_type": "code",
   "execution_count": 31,
   "metadata": {},
   "outputs": [
    {
     "name": "stderr",
     "output_type": "stream",
     "text": [
      "/home/okozyn/Projects/immas/immas/segmentation.py:50: RuntimeWarning: invalid value encountered in double_scalars\n",
      "  M1 = float(M1K/W1K)\n"
     ]
    }
   ],
   "source": [
    "# read features of all images in the dataset\n",
    "dataset_features = get_dataset_features(dataset, contour_max_number=5)"
   ]
  },
  {
   "cell_type": "code",
   "execution_count": 32,
   "metadata": {
    "scrolled": false
   },
   "outputs": [
    {
     "data": {
      "text/html": [
       "<div>\n",
       "<style scoped>\n",
       "    .dataframe tbody tr th:only-of-type {\n",
       "        vertical-align: middle;\n",
       "    }\n",
       "\n",
       "    .dataframe tbody tr th {\n",
       "        vertical-align: top;\n",
       "    }\n",
       "\n",
       "    .dataframe thead th {\n",
       "        text-align: right;\n",
       "    }\n",
       "</style>\n",
       "<table border=\"1\" class=\"dataframe\">\n",
       "  <thead>\n",
       "    <tr style=\"text-align: right;\">\n",
       "      <th></th>\n",
       "      <th>perimeter</th>\n",
       "      <th>area</th>\n",
       "      <th>circularity</th>\n",
       "      <th>ac</th>\n",
       "      <th>mean_intensity</th>\n",
       "      <th>standard_deviation</th>\n",
       "      <th>smoothness</th>\n",
       "      <th>skewness</th>\n",
       "      <th>class_id</th>\n",
       "    </tr>\n",
       "  </thead>\n",
       "  <tbody>\n",
       "    <tr>\n",
       "      <th>0</th>\n",
       "      <td>4224.076784</td>\n",
       "      <td>23302.5</td>\n",
       "      <td>60.932813</td>\n",
       "      <td>382.429415</td>\n",
       "      <td>32682.298070</td>\n",
       "      <td>19071.931634</td>\n",
       "      <td>1.0</td>\n",
       "      <td>-2.158255e+10</td>\n",
       "      <td>-1.0</td>\n",
       "    </tr>\n",
       "    <tr>\n",
       "      <th>1</th>\n",
       "      <td>2123.929265</td>\n",
       "      <td>12183.0</td>\n",
       "      <td>29.465648</td>\n",
       "      <td>413.464526</td>\n",
       "      <td>32596.632523</td>\n",
       "      <td>18801.860807</td>\n",
       "      <td>1.0</td>\n",
       "      <td>-2.345094e+09</td>\n",
       "      <td>-1.0</td>\n",
       "    </tr>\n",
       "    <tr>\n",
       "      <th>2</th>\n",
       "      <td>964.354461</td>\n",
       "      <td>7791.5</td>\n",
       "      <td>9.498225</td>\n",
       "      <td>820.311172</td>\n",
       "      <td>32766.357361</td>\n",
       "      <td>18938.463817</td>\n",
       "      <td>1.0</td>\n",
       "      <td>4.447417e+10</td>\n",
       "      <td>-1.0</td>\n",
       "    </tr>\n",
       "    <tr>\n",
       "      <th>3</th>\n",
       "      <td>1184.888512</td>\n",
       "      <td>5667.5</td>\n",
       "      <td>19.713039</td>\n",
       "      <td>287.500063</td>\n",
       "      <td>33529.324276</td>\n",
       "      <td>18959.452991</td>\n",
       "      <td>1.0</td>\n",
       "      <td>-1.479250e+11</td>\n",
       "      <td>-1.0</td>\n",
       "    </tr>\n",
       "    <tr>\n",
       "      <th>4</th>\n",
       "      <td>1136.420477</td>\n",
       "      <td>4818.0</td>\n",
       "      <td>21.330520</td>\n",
       "      <td>225.873538</td>\n",
       "      <td>32298.799508</td>\n",
       "      <td>18939.138184</td>\n",
       "      <td>1.0</td>\n",
       "      <td>1.376212e+11</td>\n",
       "      <td>-1.0</td>\n",
       "    </tr>\n",
       "    <tr>\n",
       "      <th>5</th>\n",
       "      <td>1743.599186</td>\n",
       "      <td>120333.5</td>\n",
       "      <td>2.010467</td>\n",
       "      <td>59853.513050</td>\n",
       "      <td>32640.330093</td>\n",
       "      <td>18904.684220</td>\n",
       "      <td>1.0</td>\n",
       "      <td>6.647140e+08</td>\n",
       "      <td>1.0</td>\n",
       "    </tr>\n",
       "    <tr>\n",
       "      <th>6</th>\n",
       "      <td>485.043720</td>\n",
       "      <td>11603.0</td>\n",
       "      <td>1.613547</td>\n",
       "      <td>7190.989862</td>\n",
       "      <td>32559.567073</td>\n",
       "      <td>18845.800389</td>\n",
       "      <td>1.0</td>\n",
       "      <td>1.638218e+10</td>\n",
       "      <td>1.0</td>\n",
       "    </tr>\n",
       "    <tr>\n",
       "      <th>7</th>\n",
       "      <td>2097.942335</td>\n",
       "      <td>31916.5</td>\n",
       "      <td>10.973925</td>\n",
       "      <td>2908.394337</td>\n",
       "      <td>32797.452256</td>\n",
       "      <td>18966.369239</td>\n",
       "      <td>1.0</td>\n",
       "      <td>-7.126792e+09</td>\n",
       "      <td>-1.0</td>\n",
       "    </tr>\n",
       "    <tr>\n",
       "      <th>8</th>\n",
       "      <td>1530.856987</td>\n",
       "      <td>7554.0</td>\n",
       "      <td>24.687800</td>\n",
       "      <td>305.981087</td>\n",
       "      <td>32717.045399</td>\n",
       "      <td>18912.067230</td>\n",
       "      <td>1.0</td>\n",
       "      <td>-1.021531e+11</td>\n",
       "      <td>-1.0</td>\n",
       "    </tr>\n",
       "    <tr>\n",
       "      <th>9</th>\n",
       "      <td>1852.660152</td>\n",
       "      <td>6006.0</td>\n",
       "      <td>45.477473</td>\n",
       "      <td>132.065384</td>\n",
       "      <td>32748.098702</td>\n",
       "      <td>18702.087354</td>\n",
       "      <td>1.0</td>\n",
       "      <td>-6.414642e+10</td>\n",
       "      <td>-1.0</td>\n",
       "    </tr>\n",
       "    <tr>\n",
       "      <th>10</th>\n",
       "      <td>1015.584908</td>\n",
       "      <td>5978.5</td>\n",
       "      <td>13.728730</td>\n",
       "      <td>435.473622</td>\n",
       "      <td>32570.077932</td>\n",
       "      <td>18780.396973</td>\n",
       "      <td>1.0</td>\n",
       "      <td>1.065068e+11</td>\n",
       "      <td>-1.0</td>\n",
       "    </tr>\n",
       "    <tr>\n",
       "      <th>11</th>\n",
       "      <td>828.330076</td>\n",
       "      <td>3202.5</td>\n",
       "      <td>17.049351</td>\n",
       "      <td>187.837059</td>\n",
       "      <td>33147.980508</td>\n",
       "      <td>18864.757459</td>\n",
       "      <td>1.0</td>\n",
       "      <td>8.323793e+09</td>\n",
       "      <td>-1.0</td>\n",
       "    </tr>\n",
       "  </tbody>\n",
       "</table>\n",
       "</div>"
      ],
      "text/plain": [
       "      perimeter      area  circularity            ac  mean_intensity  \\\n",
       "0   4224.076784   23302.5    60.932813    382.429415    32682.298070   \n",
       "1   2123.929265   12183.0    29.465648    413.464526    32596.632523   \n",
       "2    964.354461    7791.5     9.498225    820.311172    32766.357361   \n",
       "3   1184.888512    5667.5    19.713039    287.500063    33529.324276   \n",
       "4   1136.420477    4818.0    21.330520    225.873538    32298.799508   \n",
       "5   1743.599186  120333.5     2.010467  59853.513050    32640.330093   \n",
       "6    485.043720   11603.0     1.613547   7190.989862    32559.567073   \n",
       "7   2097.942335   31916.5    10.973925   2908.394337    32797.452256   \n",
       "8   1530.856987    7554.0    24.687800    305.981087    32717.045399   \n",
       "9   1852.660152    6006.0    45.477473    132.065384    32748.098702   \n",
       "10  1015.584908    5978.5    13.728730    435.473622    32570.077932   \n",
       "11   828.330076    3202.5    17.049351    187.837059    33147.980508   \n",
       "\n",
       "    standard_deviation  smoothness      skewness  class_id  \n",
       "0         19071.931634         1.0 -2.158255e+10      -1.0  \n",
       "1         18801.860807         1.0 -2.345094e+09      -1.0  \n",
       "2         18938.463817         1.0  4.447417e+10      -1.0  \n",
       "3         18959.452991         1.0 -1.479250e+11      -1.0  \n",
       "4         18939.138184         1.0  1.376212e+11      -1.0  \n",
       "5         18904.684220         1.0  6.647140e+08       1.0  \n",
       "6         18845.800389         1.0  1.638218e+10       1.0  \n",
       "7         18966.369239         1.0 -7.126792e+09      -1.0  \n",
       "8         18912.067230         1.0 -1.021531e+11      -1.0  \n",
       "9         18702.087354         1.0 -6.414642e+10      -1.0  \n",
       "10        18780.396973         1.0  1.065068e+11      -1.0  \n",
       "11        18864.757459         1.0  8.323793e+09      -1.0  "
      ]
     },
     "execution_count": 32,
     "metadata": {},
     "output_type": "execute_result"
    }
   ],
   "source": [
    "dataset_features"
   ]
  },
  {
   "cell_type": "markdown",
   "metadata": {},
   "source": [
    "### Our dataset features can be easily saved into `.csv` file for futher usage"
   ]
  },
  {
   "cell_type": "code",
   "execution_count": 23,
   "metadata": {},
   "outputs": [],
   "source": [
    "dataset_features.to_csv(\"./sample-features.csv\")"
   ]
  },
  {
   "cell_type": "code",
   "execution_count": null,
   "metadata": {},
   "outputs": [],
   "source": []
  }
 ],
 "metadata": {
  "kernelspec": {
   "display_name": "Python 3 (IMMAS)",
   "language": "python",
   "name": "immas"
  },
  "language_info": {
   "codemirror_mode": {
    "name": "ipython",
    "version": 3
   },
   "file_extension": ".py",
   "mimetype": "text/x-python",
   "name": "python",
   "nbconvert_exporter": "python",
   "pygments_lexer": "ipython3",
   "version": "3.6.5"
  }
 },
 "nbformat": 4,
 "nbformat_minor": 2
}
