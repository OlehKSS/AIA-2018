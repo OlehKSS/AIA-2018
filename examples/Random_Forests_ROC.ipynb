{
 "cells": [
  {
   "cell_type": "markdown",
   "metadata": {},
   "source": [
    "# Random Forests Classifier ROC curve and other analysis"
   ]
  },
  {
   "cell_type": "code",
   "execution_count": 1,
   "metadata": {},
   "outputs": [
    {
     "name": "stderr",
     "output_type": "stream",
     "text": [
      "/home/okozyn/.conda/envs/immas/lib/python3.6/site-packages/scikit_learn-0.19.1-py3.6-linux-x86_64.egg/sklearn/cross_validation.py:41: DeprecationWarning: This module was deprecated in version 0.18 in favor of the model_selection module into which all the refactored classes and functions are moved. Also note that the interface of the new CV iterators are different from that of this module. This module will be removed in 0.20.\n",
      "  \"This module will be removed in 0.20.\", DeprecationWarning)\n"
     ]
    }
   ],
   "source": [
    "import bisect\n",
    "import cv2\n",
    "import matplotlib.pyplot as plt\n",
    "import numpy as np\n",
    "import pandas as pd\n",
    "\n",
    "from sklearn import preprocessing\n",
    "from sklearn.cross_validation import KFold\n",
    "from sklearn.ensemble import RandomForestClassifier\n",
    "from sklearn.metrics import accuracy_score, auc, classification_report, confusion_matrix\n",
    "from sklearn.metrics import f1_score, make_scorer, matthews_corrcoef, roc_curve\n",
    "from sklearn.model_selection import train_test_split, GridSearchCV\n",
    "from sklearn.utils import shuffle\n",
    "\n",
    "from immas import classification\n",
    "\n",
    "%matplotlib inline"
   ]
  },
  {
   "cell_type": "markdown",
   "metadata": {},
   "source": [
    "## Helper Functions"
   ]
  },
  {
   "cell_type": "code",
   "execution_count": 2,
   "metadata": {},
   "outputs": [],
   "source": [
    "def line(x_coords, y_coords):\n",
    "    \"\"\"\n",
    "    Given a pair of coordinates (x1,y2), (x2,y2), define the line equation. Note that this is the entire line vs. t\n",
    "    the line segment.\n",
    "\n",
    "    Parameters\n",
    "    ----------\n",
    "    x_coords: Numpy array of 2 points corresponding to x1,x2\n",
    "    x_coords: Numpy array of 2 points corresponding to y1,y2\n",
    "\n",
    "    Returns\n",
    "    -------\n",
    "    (Gradient, intercept) tuple pair\n",
    "    \"\"\"    \n",
    "    if (x_coords.shape[0] < 2) or (y_coords.shape[0] < 2):\n",
    "        raise ValueError('At least 2 points are needed to compute'\n",
    "                         ' area under curve, but x.shape = %s' % p1.shape)\n",
    "    if ((x_coords[0]-x_coords[1]) == 0):\n",
    "        raise ValueError(\"gradient is infinity\")\n",
    "    gradient = (y_coords[0]-y_coords[1])/(x_coords[0]-x_coords[1])\n",
    "    intercept = y_coords[0] - gradient*1.0*x_coords[0]\n",
    "    return (gradient, intercept)\n",
    "\n",
    "def x_val_line_intercept(gradient, intercept, x_val):\n",
    "    \"\"\"\n",
    "    Given a x=X_val vertical line, what is the intersection point of that line with the \n",
    "    line defined by the gradient and intercept. Note: This can be further improved by using line\n",
    "    segments.\n",
    "\n",
    "    Parameters\n",
    "    ----------\n",
    "    gradient\n",
    "    intercept\n",
    "\n",
    "    Returns\n",
    "    -------\n",
    "    (x_val, y) corresponding to the intercepted point. Note that this will always return a result.\n",
    "    There is no check for whether the x_val is within the bounds of the line segment.\n",
    "    \"\"\"    \n",
    "    y = gradient*x_val + intercept\n",
    "    return (x_val, y)\n",
    "\n",
    "def get_fpr_tpr_for_thresh(fpr, tpr, thresh):\n",
    "    \"\"\"\n",
    "    Derive the partial ROC curve to the point based on the fpr threshold.\n",
    "\n",
    "    Parameters\n",
    "    ----------\n",
    "    fpr: Numpy array of the sorted FPR points that represent the entirety of the ROC.\n",
    "    tpr: Numpy array of the sorted TPR points that represent the entirety of the ROC.\n",
    "    thresh: The threshold based on the FPR to extract the partial ROC based to that value of the threshold.\n",
    "\n",
    "    Returns\n",
    "    -------\n",
    "    thresh_fpr: The FPR points that represent the partial ROC to the point of the fpr threshold.\n",
    "    thresh_tpr: The TPR points that represent the partial ROC to the point of the fpr threshold\n",
    "    \"\"\"    \n",
    "    p = bisect.bisect_left(fpr, thresh)\n",
    "    thresh_fpr = fpr[:p+1].copy()\n",
    "    thresh_tpr = tpr[:p+1].copy()\n",
    "    g, i = line(fpr[p-1:p+1], tpr[p-1:p+1])\n",
    "    new_point = x_val_line_intercept(g, i, thresh)\n",
    "    thresh_fpr[p] = new_point[0]\n",
    "    thresh_tpr[p] = new_point[1]\n",
    "    return thresh_fpr, thresh_tpr\n",
    "\n",
    "\n",
    "def partial_auc_scorer(fpr, tpr, decile=1):\n",
    "    \"\"\"\n",
    "    Derive the AUC based of the partial ROC curve from FPR=0 to FPR=decile threshold.\n",
    "\n",
    "    Parameters\n",
    "    ----------\n",
    "    y_actual: numpy array of the actual labels.\n",
    "    y_pred: Numpy array of The predicted probability scores.\n",
    "    decile: The threshold based on the FPR to extract the partial ROC based to that value of the threshold.\n",
    "\n",
    "    Returns\n",
    "    -------\n",
    "    AUC of the partial ROC. A value that ranges from 0 to 1.\n",
    "    \"\"\"        \n",
    "    fpr_thresh, tpr_thresh = get_fpr_tpr_for_thresh(fpr, tpr, decile)\n",
    "    return auc(fpr_thresh, tpr_thresh)"
   ]
  },
  {
   "cell_type": "markdown",
   "metadata": {},
   "source": [
    "## Import  and normalize data"
   ]
  },
  {
   "cell_type": "code",
   "execution_count": 27,
   "metadata": {},
   "outputs": [
    {
     "name": "stdout",
     "output_type": "stream",
     "text": [
      "Number of images in the test set 205\n",
      "Number of images in the train set 205\n",
      "Number of train regions 3192\n",
      "Number of test regions 3184\n",
      "Regions per image 15.551219512195122\n"
     ]
    },
    {
     "data": {
      "text/html": [
       "<div>\n",
       "<style scoped>\n",
       "    .dataframe tbody tr th:only-of-type {\n",
       "        vertical-align: middle;\n",
       "    }\n",
       "\n",
       "    .dataframe tbody tr th {\n",
       "        vertical-align: top;\n",
       "    }\n",
       "\n",
       "    .dataframe thead th {\n",
       "        text-align: right;\n",
       "    }\n",
       "</style>\n",
       "<table border=\"1\" class=\"dataframe\">\n",
       "  <thead>\n",
       "    <tr style=\"text-align: right;\">\n",
       "      <th></th>\n",
       "      <th>perimeter</th>\n",
       "      <th>area</th>\n",
       "      <th>circularity</th>\n",
       "      <th>ac</th>\n",
       "      <th>shape_factor</th>\n",
       "      <th>mean NRL</th>\n",
       "      <th>SD NRL</th>\n",
       "      <th>Ratio SD NRL and mean RL</th>\n",
       "      <th>entropy NRL</th>\n",
       "      <th>NCPS</th>\n",
       "      <th>...</th>\n",
       "      <th>contrast</th>\n",
       "      <th>uniformity</th>\n",
       "      <th>homogeneity</th>\n",
       "      <th>energy</th>\n",
       "      <th>dissimilarity</th>\n",
       "      <th>gradient mean</th>\n",
       "      <th>gradient SD</th>\n",
       "      <th>gradient skewness</th>\n",
       "      <th>class_id</th>\n",
       "      <th>img_name</th>\n",
       "    </tr>\n",
       "  </thead>\n",
       "  <tbody>\n",
       "    <tr>\n",
       "      <th>10</th>\n",
       "      <td>1355.906635</td>\n",
       "      <td>31143.0</td>\n",
       "      <td>4.697743</td>\n",
       "      <td>6629.353592</td>\n",
       "      <td>59.033581</td>\n",
       "      <td>0.638413</td>\n",
       "      <td>0.239229</td>\n",
       "      <td>0.002594</td>\n",
       "      <td>5.377388</td>\n",
       "      <td>0.001900</td>\n",
       "      <td>...</td>\n",
       "      <td>381.321649</td>\n",
       "      <td>0.196445</td>\n",
       "      <td>0.472807</td>\n",
       "      <td>0.443221</td>\n",
       "      <td>11.889427</td>\n",
       "      <td>28557.491525</td>\n",
       "      <td>31026.408351</td>\n",
       "      <td>0.273095</td>\n",
       "      <td>-1.0</td>\n",
       "      <td>22614074_6bd24a0a42c19ce1_MG_R_CC_ANON</td>\n",
       "    </tr>\n",
       "    <tr>\n",
       "      <th>11</th>\n",
       "      <td>1111.379723</td>\n",
       "      <td>23984.5</td>\n",
       "      <td>4.098117</td>\n",
       "      <td>5852.565252</td>\n",
       "      <td>51.498463</td>\n",
       "      <td>0.577498</td>\n",
       "      <td>0.217161</td>\n",
       "      <td>0.002465</td>\n",
       "      <td>5.133397</td>\n",
       "      <td>0.002371</td>\n",
       "      <td>...</td>\n",
       "      <td>316.643025</td>\n",
       "      <td>0.291789</td>\n",
       "      <td>0.564016</td>\n",
       "      <td>0.540175</td>\n",
       "      <td>9.845182</td>\n",
       "      <td>29874.672131</td>\n",
       "      <td>31583.123298</td>\n",
       "      <td>0.186072</td>\n",
       "      <td>-1.0</td>\n",
       "      <td>22614074_6bd24a0a42c19ce1_MG_R_CC_ANON</td>\n",
       "    </tr>\n",
       "    <tr>\n",
       "      <th>12</th>\n",
       "      <td>833.480229</td>\n",
       "      <td>22346.0</td>\n",
       "      <td>2.473893</td>\n",
       "      <td>9032.726247</td>\n",
       "      <td>31.087859</td>\n",
       "      <td>0.609551</td>\n",
       "      <td>0.155021</td>\n",
       "      <td>0.001868</td>\n",
       "      <td>5.109293</td>\n",
       "      <td>0.004716</td>\n",
       "      <td>...</td>\n",
       "      <td>397.804738</td>\n",
       "      <td>0.176235</td>\n",
       "      <td>0.449262</td>\n",
       "      <td>0.419804</td>\n",
       "      <td>12.443638</td>\n",
       "      <td>18975.491228</td>\n",
       "      <td>28104.567812</td>\n",
       "      <td>1.003877</td>\n",
       "      <td>-1.0</td>\n",
       "      <td>22614074_6bd24a0a42c19ce1_MG_R_CC_ANON</td>\n",
       "    </tr>\n",
       "    <tr>\n",
       "      <th>13</th>\n",
       "      <td>1759.237588</td>\n",
       "      <td>21544.5</td>\n",
       "      <td>11.431486</td>\n",
       "      <td>1884.663032</td>\n",
       "      <td>143.652296</td>\n",
       "      <td>0.508991</td>\n",
       "      <td>0.272860</td>\n",
       "      <td>0.001847</td>\n",
       "      <td>4.920636</td>\n",
       "      <td>0.004877</td>\n",
       "      <td>...</td>\n",
       "      <td>373.406840</td>\n",
       "      <td>0.213132</td>\n",
       "      <td>0.491397</td>\n",
       "      <td>0.461662</td>\n",
       "      <td>11.561044</td>\n",
       "      <td>41183.209877</td>\n",
       "      <td>30428.064293</td>\n",
       "      <td>-0.563340</td>\n",
       "      <td>-1.0</td>\n",
       "      <td>22614074_6bd24a0a42c19ce1_MG_R_CC_ANON</td>\n",
       "    </tr>\n",
       "    <tr>\n",
       "      <th>14</th>\n",
       "      <td>1193.237588</td>\n",
       "      <td>16895.5</td>\n",
       "      <td>6.706145</td>\n",
       "      <td>2519.405715</td>\n",
       "      <td>84.271903</td>\n",
       "      <td>0.503876</td>\n",
       "      <td>0.267287</td>\n",
       "      <td>0.002893</td>\n",
       "      <td>4.964000</td>\n",
       "      <td>0.008760</td>\n",
       "      <td>...</td>\n",
       "      <td>188.879422</td>\n",
       "      <td>0.529220</td>\n",
       "      <td>0.742093</td>\n",
       "      <td>0.727475</td>\n",
       "      <td>5.864291</td>\n",
       "      <td>35953.047904</td>\n",
       "      <td>31488.274318</td>\n",
       "      <td>-0.204364</td>\n",
       "      <td>-1.0</td>\n",
       "      <td>22614074_6bd24a0a42c19ce1_MG_R_CC_ANON</td>\n",
       "    </tr>\n",
       "  </tbody>\n",
       "</table>\n",
       "<p>5 rows × 26 columns</p>\n",
       "</div>"
      ],
      "text/plain": [
       "      perimeter     area  circularity           ac  shape_factor  mean NRL  \\\n",
       "10  1355.906635  31143.0     4.697743  6629.353592     59.033581  0.638413   \n",
       "11  1111.379723  23984.5     4.098117  5852.565252     51.498463  0.577498   \n",
       "12   833.480229  22346.0     2.473893  9032.726247     31.087859  0.609551   \n",
       "13  1759.237588  21544.5    11.431486  1884.663032    143.652296  0.508991   \n",
       "14  1193.237588  16895.5     6.706145  2519.405715     84.271903  0.503876   \n",
       "\n",
       "      SD NRL  Ratio SD NRL and mean RL  entropy NRL      NCPS  \\\n",
       "10  0.239229                  0.002594     5.377388  0.001900   \n",
       "11  0.217161                  0.002465     5.133397  0.002371   \n",
       "12  0.155021                  0.001868     5.109293  0.004716   \n",
       "13  0.272860                  0.001847     4.920636  0.004877   \n",
       "14  0.267287                  0.002893     4.964000  0.008760   \n",
       "\n",
       "                     ...                      contrast  uniformity  \\\n",
       "10                   ...                    381.321649    0.196445   \n",
       "11                   ...                    316.643025    0.291789   \n",
       "12                   ...                    397.804738    0.176235   \n",
       "13                   ...                    373.406840    0.213132   \n",
       "14                   ...                    188.879422    0.529220   \n",
       "\n",
       "    homogeneity    energy  dissimilarity  gradient mean   gradient SD  \\\n",
       "10     0.472807  0.443221      11.889427   28557.491525  31026.408351   \n",
       "11     0.564016  0.540175       9.845182   29874.672131  31583.123298   \n",
       "12     0.449262  0.419804      12.443638   18975.491228  28104.567812   \n",
       "13     0.491397  0.461662      11.561044   41183.209877  30428.064293   \n",
       "14     0.742093  0.727475       5.864291   35953.047904  31488.274318   \n",
       "\n",
       "    gradient skewness  class_id                                img_name  \n",
       "10           0.273095      -1.0  22614074_6bd24a0a42c19ce1_MG_R_CC_ANON  \n",
       "11           0.186072      -1.0  22614074_6bd24a0a42c19ce1_MG_R_CC_ANON  \n",
       "12           1.003877      -1.0  22614074_6bd24a0a42c19ce1_MG_R_CC_ANON  \n",
       "13          -0.563340      -1.0  22614074_6bd24a0a42c19ce1_MG_R_CC_ANON  \n",
       "14          -0.204364      -1.0  22614074_6bd24a0a42c19ce1_MG_R_CC_ANON  \n",
       "\n",
       "[5 rows x 26 columns]"
      ]
     },
     "execution_count": 27,
     "metadata": {},
     "output_type": "execute_result"
    }
   ],
   "source": [
    "NUMBER_OF_IMGS = 410\n",
    "NUMBER_OF_MASSES = 107\n",
    "test_set_perc = 0.5\n",
    "# Loading of data and splitting in groups according to images\n",
    "# Regions of the same image will stay in the same Pandas Dataframe in the end (dataset_df1 or dataset_df2)\n",
    "\n",
    "# without lbp\n",
    "file_path = \"feature-tables/train-data_1527086478.csv\"\n",
    "\n",
    "data = pd.read_csv(file_path, index_col=0)\n",
    "data_per_imgfile = list(data['img_name'].unique())\n",
    "np.random.shuffle(data_per_imgfile)\n",
    "\n",
    "test_set_len = int(test_set_perc * len(data_per_imgfile))\n",
    "print(f\"Number of images in the test set {test_set_len}\")\n",
    "\n",
    "train_imgs = data_per_imgfile[test_set_len:]\n",
    "test_imgs = data_per_imgfile[:test_set_len]\n",
    "print(f\"Number of images in the train set {len(train_imgs)}\")\n",
    "\n",
    "# sampling of the original data set according to images in train/test subsets\n",
    "data_train = data[data[\"img_name\"].isin(train_imgs)]\n",
    "data_test = data[data[\"img_name\"].isin(test_imgs)]\n",
    "print(f\"Number of train regions {len(data_train)}\")\n",
    "print(f\"Number of test regions {len(data_test)}\")\n",
    "\n",
    "\n",
    "# average number of ROIs per image\n",
    "# we need to do simple averaging since mass images have fprs as well\n",
    "reg_per_img = len(data)/(NUMBER_OF_IMGS)\n",
    "print(f\"Regions per image {reg_per_img}\")\n",
    "\n",
    "data_train.head()"
   ]
  },
  {
   "cell_type": "code",
   "execution_count": 28,
   "metadata": {},
   "outputs": [
    {
     "name": "stdout",
     "output_type": "stream",
     "text": [
      "(3192,)\n",
      "(3184,)\n"
     ]
    },
    {
     "data": {
      "text/plain": [
       "array([-1., -1., -1., ..., -1., -1., -1.])"
      ]
     },
     "execution_count": 28,
     "metadata": {},
     "output_type": "execute_result"
    }
   ],
   "source": [
    "# Converts from dataframe to numpy array\n",
    "# Change here (or copy the code) if you want to select only some of the features to the array\n",
    "# (only texture features, only geomatrical features...)\n",
    "\n",
    "# Conversion from pandas dataframe to numpy array\n",
    "# Keeps all the features from the original csv file\n",
    "feature_train = data_train.drop(['class_id','img_name'], axis=1)\n",
    "target_train  = data_train['class_id']\n",
    "x_train = feature_train.as_matrix()\n",
    "y_train = target_train.as_matrix()\n",
    "\n",
    "feature_test = data_test.drop(['class_id','img_name'], axis=1)\n",
    "target_test  = data_test['class_id']\n",
    "x_test = feature_test.as_matrix()\n",
    "y_test = target_test.as_matrix()\n",
    "\n",
    "# Shuflles the datasets and creates one variable with labels for all the samples\n",
    "x_train, y_train = shuffle(x_train, y_train, random_state=None)\n",
    "x_test, y_test = shuffle(x_test, y_test, random_state=None)\n",
    "all_data = np.vstack((x_train, x_test))\n",
    "all_labels = np.concatenate((y_test, y_train),axis=0)\n",
    "\n",
    "# Data standardization for each dataset (two methods)\n",
    "x_train = preprocessing.StandardScaler().fit_transform(x_train)\n",
    "x_test = preprocessing.StandardScaler().fit_transform(x_test)\n",
    "all_data = preprocessing.StandardScaler().fit_transform(all_data)\n",
    "#dataset01_data = preprocessing.robust_scale(dataset01_data)fit_transform\n",
    "#dataset02_data = preprocessing.robust_scale(dataset02_data)\n",
    "\n",
    "print(y_train.shape)\n",
    "print(y_test.shape)\n",
    "\n",
    "all_labels"
   ]
  },
  {
   "cell_type": "markdown",
   "metadata": {},
   "source": [
    "## Classifier with manually selected parameters"
   ]
  },
  {
   "cell_type": "markdown",
   "metadata": {},
   "source": [
    "### Training"
   ]
  },
  {
   "cell_type": "code",
   "execution_count": 14,
   "metadata": {},
   "outputs": [
    {
     "data": {
      "text/plain": [
       "RandomForestClassifier(bootstrap=True, class_weight='balanced',\n",
       "            criterion='gini', max_depth=None, max_features='sqrt',\n",
       "            max_leaf_nodes=None, min_impurity_decrease=0.0,\n",
       "            min_impurity_split=None, min_samples_leaf=50,\n",
       "            min_samples_split=2, min_weight_fraction_leaf=0.0,\n",
       "            n_estimators=1000, n_jobs=1, oob_score=True, random_state=None,\n",
       "            verbose=0, warm_start=False)"
      ]
     },
     "execution_count": 14,
     "metadata": {},
     "output_type": "execute_result"
    }
   ],
   "source": [
    "# 85% of masses detected, 85% accuracy, f1_score=20%, mathew_coef=25%\n",
    "# Parameter selection by me, fit to the train data set firts\n",
    "clf_me_train = RandomForestClassifier(n_estimators=1000, #500\n",
    "                             max_features='sqrt',\n",
    "                             min_samples_leaf=50,\n",
    "                             class_weight='balanced',\n",
    "                             oob_score=True)\n",
    "\n",
    "clf_me_train.fit(x_train, y_train)\n",
    "\n",
    "# Now fit to the test data set, classifier the same\n",
    "clf_me_test = RandomForestClassifier(n_estimators=1000,\n",
    "                             max_features='sqrt',\n",
    "                             min_samples_leaf=50,\n",
    "                             class_weight='balanced',\n",
    "                             oob_score=True)\n",
    "\n",
    "clf_me_test.fit(x_test, y_test)"
   ]
  },
  {
   "cell_type": "markdown",
   "metadata": {},
   "source": [
    "### Analysis"
   ]
  },
  {
   "cell_type": "code",
   "execution_count": 32,
   "metadata": {},
   "outputs": [],
   "source": [
    "prob_me_train = clf_me_train.predict_proba(x_test)\n",
    "pred_me_train = clf_me_train.predict(x_test)\n",
    "\n",
    "prob_me_test = clf_me_test.predict_proba(x_train)\n",
    "pred_me_test = clf_me_test.predict(x_train)\n",
    "\n",
    "prob_me = np.vstack((prob_me_train, prob_me_test))\n",
    "pred_me = np.concatenate((pred_me_train, pred_me_test), axis=0)\n",
    "\n",
    "labels = np.concatenate((y_test, y_train))"
   ]
  },
  {
   "cell_type": "code",
   "execution_count": 41,
   "metadata": {},
   "outputs": [
    {
     "name": "stdout",
     "output_type": "stream",
     "text": [
      "Negative regions per image 15.282926829268293\n",
      "Number of positive images 115, number of positive regions 110\n"
     ]
    },
    {
     "data": {
      "image/png": "[encoded data removed]",
      "text/plain": [
       "<Figure size 432x288 with 1 Axes>"
      ]
     },
     "metadata": {},
     "output_type": "display_data"
    },
    {
     "data": {
      "image/png": "[encoded data removed]",
      "text/plain": [
       "<Figure size 432x288 with 1 Axes>"
      ]
     },
     "metadata": {},
     "output_type": "display_data"
    }
   ],
   "source": [
    "# Counts to adjust the TPR and to create the False Positive per Image\n",
    "_, counts = np.unique(all_labels, return_counts=True)\n",
    "num_img = 410\n",
    "num_pos_img = 115\n",
    "regions = all_labels.shape[0]\n",
    "pos_reg = counts[1]\n",
    "neg_reg = counts[0]\n",
    "neg_reg_per_img = neg_reg / num_img\n",
    "\n",
    "print(f\"Negative regions per image {neg_reg_per_img}\")\n",
    "print(f\"Number of positive images {num_pos_img}, number of positive regions {pos_reg}\")\n",
    "\n",
    "def get_roc(test_labels, out_probs):\n",
    "    \n",
    "    if (not isinstance(test_labels, list)) and (not isinstance(test_labels, tuple)):\n",
    "        test_labels = (test_labels,)\n",
    "    \n",
    "    if (not isinstance(out_probs, list)) and (not isinstance(out_probs, tuple)):\n",
    "        out_probs = (out_probs,)\n",
    "        \n",
    "    for i, labels_probs in enumerate(zip(test_labels, out_probs)):\n",
    "        test_ls, out_prob = labels_probs\n",
    "        fpr, tpr, _ = roc_curve(test_ls, out_prob[:,1], pos_label=1, drop_intermediate=True)\n",
    "        roc_auc = auc(fpr, tpr)\n",
    "        \n",
    "        fpr = fpr * neg_reg_per_img\n",
    "        tpr = tpr * pos_reg / num_pos_img\n",
    "        \n",
    "        # Calculates Partial AUC\n",
    "        partial_auc = partial_auc_scorer(fpr, tpr, 1)\n",
    "        \n",
    "#         plt.plot(fpr, tpr, label=f'AUC = {roc_auc:.2f}, ROC #{i+1}')\n",
    "        plt.plot(fpr, tpr, label=f'Partial AUC (FPPI = 0:1) = {partial_auc:.2f}, ROC #{i+1}')\n",
    "        plt.legend(loc='lower right')\n",
    "\n",
    "    plt.title('Free Response ROC Curve')\n",
    "    plt.xlim([-0,5])\n",
    "    plt.ylim([-0,1])\n",
    "    plt.ylabel('True Positive Rate')\n",
    "    plt.xlabel('False Positive per Image (FPPI)')\n",
    "    plt.grid(color='k', linestyle='dotted', linewidth=0.5, alpha=0.5)\n",
    "    plt.show()\n",
    "\n",
    "\n",
    "get_roc((y_test, y_train), (prob_me_train, prob_me_test))\n",
    "\n",
    "get_roc(all_labels, prob_me)"
   ]
  },
  {
   "cell_type": "code",
   "execution_count": 17,
   "metadata": {},
   "outputs": [
    {
     "name": "stdout",
     "output_type": "stream",
     "text": [
      "Number of masses 110\n",
      "Number of non-masses 6266\n",
      "Confusion matrix:\n",
      "[[  85   25]\n",
      " [ 415 5851]] \n",
      "\n",
      "Classification report:\n",
      "             precision    recall  f1-score   support\n",
      "\n",
      "          1       0.17      0.77      0.28       110\n",
      "         -1       1.00      0.93      0.96      6266\n",
      "\n",
      "avg / total       0.98      0.93      0.95      6376\n",
      " \n",
      "\n",
      "Accuracy:\n",
      "0.93099121706399 \n",
      "\n",
      "Matthew Correlation Coefficient:\n",
      "0.342196730014565 \n",
      "\n"
     ]
    }
   ],
   "source": [
    "# Runs the classifier and outputs the metrics\n",
    "def metrics_report(labels, predictions):\n",
    "    print(f'Number of masses {sum(labels > 0)}')\n",
    "    print(f'Number of non-masses {sum(labels < 0)}')\n",
    "    print('Confusion matrix:')\n",
    "    print(confusion_matrix(labels, predictions, labels=[1,-1]),'\\n')\n",
    "    print('Classification report:')\n",
    "    print(classification_report(labels, predictions, labels=[1,-1]),'\\n')\n",
    "    print('Accuracy:')\n",
    "    print(accuracy_score(labels, predictions),'\\n')\n",
    "    print('Matthew Correlation Coefficient:')\n",
    "    print(matthews_corrcoef(labels, predictions),'\\n')\n",
    "\n",
    "\n",
    "metrics_report(all_labels, pred_me)"
   ]
  },
  {
   "cell_type": "markdown",
   "metadata": {},
   "source": [
    "## Optimized parameters by GridSerachCV"
   ]
  },
  {
   "cell_type": "markdown",
   "metadata": {},
   "source": [
    "## Training"
   ]
  },
  {
   "cell_type": "code",
   "execution_count": 29,
   "metadata": {},
   "outputs": [
    {
     "name": "stderr",
     "output_type": "stream",
     "text": [
      "/home/okozyn/.conda/envs/immas/lib/python3.6/site-packages/scikit_learn-0.19.1-py3.6-linux-x86_64.egg/sklearn/ensemble/forest.py:453: UserWarning: Some inputs do not have OOB scores. This probably means too few trees were used to compute any reliable oob estimates.\n",
      "  warn(\"Some inputs do not have OOB scores. \"\n",
      "/home/okozyn/.conda/envs/immas/lib/python3.6/site-packages/scikit_learn-0.19.1-py3.6-linux-x86_64.egg/sklearn/ensemble/forest.py:458: RuntimeWarning: invalid value encountered in true_divide\n",
      "  predictions[k].sum(axis=1)[:, np.newaxis])\n",
      "/home/okozyn/.conda/envs/immas/lib/python3.6/site-packages/scikit_learn-0.19.1-py3.6-linux-x86_64.egg/sklearn/ensemble/forest.py:453: UserWarning: Some inputs do not have OOB scores. This probably means too few trees were used to compute any reliable oob estimates.\n",
      "  warn(\"Some inputs do not have OOB scores. \"\n",
      "/home/okozyn/.conda/envs/immas/lib/python3.6/site-packages/scikit_learn-0.19.1-py3.6-linux-x86_64.egg/sklearn/ensemble/forest.py:458: RuntimeWarning: invalid value encountered in true_divide\n",
      "  predictions[k].sum(axis=1)[:, np.newaxis])\n"
     ]
    },
    {
     "data": {
      "text/plain": [
       "RandomForestClassifier(bootstrap=True, class_weight='balanced',\n",
       "            criterion='gini', max_depth=16, max_features=4,\n",
       "            max_leaf_nodes=None, min_impurity_decrease=0.0,\n",
       "            min_impurity_split=None, min_samples_leaf=8,\n",
       "            min_samples_split=8, min_weight_fraction_leaf=0.0,\n",
       "            n_estimators=9, n_jobs=-1, oob_score=True, random_state=None,\n",
       "            verbose=0, warm_start=False)"
      ]
     },
     "execution_count": 29,
     "metadata": {},
     "output_type": "execute_result"
    }
   ],
   "source": [
    "# Parameter selection based on GridSearchCV masses 51%,, accuracy=97%, f1_score=20%, mather_coef=18%\n",
    "clf_opt_train = RandomForestClassifier(bootstrap=True, class_weight='balanced',\n",
    "            criterion='gini', max_depth=16, max_features=4,\n",
    "            max_leaf_nodes=None, min_impurity_decrease=0.0,\n",
    "            min_impurity_split=None, min_samples_leaf=8,\n",
    "            min_samples_split=8, min_weight_fraction_leaf=0.0,\n",
    "            n_estimators=9, n_jobs=-1, oob_score=True, random_state=None,\n",
    "            verbose=0, warm_start=False)\n",
    "\n",
    "# Fit to the data. \n",
    "clf_opt_train.fit(x_train, y_train)\n",
    "\n",
    "clf_opt_test = RandomForestClassifier(bootstrap=True, class_weight='balanced',\n",
    "            criterion='gini', max_depth=16, max_features=4,\n",
    "            max_leaf_nodes=None, min_impurity_decrease=0.0,\n",
    "            min_impurity_split=None, min_samples_leaf=8,\n",
    "            min_samples_split=8, min_weight_fraction_leaf=0.0,\n",
    "            n_estimators=9, n_jobs=-1, oob_score=True, random_state=None,\n",
    "            verbose=0, warm_start=False)\n",
    "\n",
    "clf_opt_test.fit(x_test, y_test)"
   ]
  },
  {
   "cell_type": "markdown",
   "metadata": {},
   "source": [
    "### Analysis"
   ]
  },
  {
   "cell_type": "code",
   "execution_count": 30,
   "metadata": {},
   "outputs": [],
   "source": [
    "prob_opt_train = clf_opt_train.predict_proba(x_test)\n",
    "pred_opt_train = clf_opt_train.predict(x_test)\n",
    "\n",
    "prob_opt_test = clf_opt_test.predict_proba(x_train)\n",
    "pred_opt_test = clf_opt_test.predict(x_train)"
   ]
  },
  {
   "cell_type": "code",
   "execution_count": 31,
   "metadata": {},
   "outputs": [
    {
     "data": {
      "image/png": "[encoded data removed]",
      "text/plain": [
       "<Figure size 432x288 with 1 Axes>"
      ]
     },
     "metadata": {},
     "output_type": "display_data"
    }
   ],
   "source": [
    "labels = np.concatenate((y_test, y_train))\n",
    "probs = np.vstack((prob_opt_train, prob_opt_test))\n",
    "\n",
    "get_roc(all_labels, probs)"
   ]
  },
  {
   "cell_type": "code",
   "execution_count": 21,
   "metadata": {},
   "outputs": [
    {
     "name": "stdout",
     "output_type": "stream",
     "text": [
      "Number of masses 55\n",
      "Number of non-masses 3278\n",
      "Confusion matrix:\n",
      "[[  26   29]\n",
      " [  40 3238]] \n",
      "\n",
      "Classification report:\n",
      "             precision    recall  f1-score   support\n",
      "\n",
      "          1       0.39      0.47      0.43        55\n",
      "         -1       0.99      0.99      0.99      3278\n",
      "\n",
      "avg / total       0.98      0.98      0.98      3333\n",
      " \n",
      "\n",
      "Accuracy:\n",
      "0.9792979297929792 \n",
      "\n",
      "Matthew Correlation Coefficient:\n",
      "0.42110676882388415 \n",
      "\n"
     ]
    }
   ],
   "source": [
    "metrics_report(y_test, pred_opt_train)"
   ]
  },
  {
   "cell_type": "markdown",
   "metadata": {},
   "source": [
    "## SVM vs RF"
   ]
  },
  {
   "cell_type": "code",
   "execution_count": 37,
   "metadata": {},
   "outputs": [
    {
     "data": {
      "image/png": "[encoded data removed]",
      "text/plain": [
       "<Figure size 432x288 with 1 Axes>"
      ]
     },
     "metadata": {},
     "output_type": "display_data"
    },
    {
     "name": "stdout",
     "output_type": "stream",
     "text": [
      "Area under the original ROC curve for our classifier: 0.94\n",
      "Partial area under the FROC curve for FPPI between 0 and 1: 0.54036\n"
     ]
    }
   ],
   "source": [
    "dt1 = np.zeros((x_train.shape[0],x_train.shape[1]+1));\n",
    "dt1[:,:-1] = x_train\n",
    "dt1[:,-1] = y_train\n",
    "\n",
    "# Concatenates data and labels of dataset02 into one array\n",
    "dt2 = np.zeros((x_test.shape[0],x_test.shape[1]+1));\n",
    "dt2[:,:-1] = x_test\n",
    "dt2[:,-1] = y_test\n",
    "\n",
    "full_probabilities, full_auc, partial_auc, FROC_fpr, FROC_tpr = classification.run_SVM(dt1, dt2, features='all_except_LBP')"
   ]
  },
  {
   "cell_type": "code",
   "execution_count": 38,
   "metadata": {},
   "outputs": [
    {
     "data": {
      "image/png": "[encoded data removed]",
      "text/plain": [
       "<Figure size 432x288 with 1 Axes>"
      ]
     },
     "metadata": {},
     "output_type": "display_data"
    }
   ],
   "source": [
    "# 1 - rf\n",
    "# 2 - svm\n",
    "\n",
    "get_roc((all_labels, all_labels), (probs, full_probabilities))"
   ]
  },
  {
   "cell_type": "code",
   "execution_count": 39,
   "metadata": {},
   "outputs": [
    {
     "data": {
      "image/png": "[encoded data removed]",
      "text/plain": [
       "<Figure size 432x288 with 1 Axes>"
      ]
     },
     "metadata": {},
     "output_type": "display_data"
    }
   ],
   "source": [
    "get_roc((all_labels, all_labels), (prob_me, full_probabilities))"
   ]
  },
  {
   "cell_type": "markdown",
   "metadata": {},
   "source": [
    "## Save our classifier"
   ]
  },
  {
   "cell_type": "code",
   "execution_count": 42,
   "metadata": {},
   "outputs": [],
   "source": [
    "import pickle\n",
    "\n",
    "# save the classifier\n",
    "with open(\"./models/rf_class_no_lbp.pkl\", \"wb\") as fid:\n",
    "    pickle.dump(clf_me_train, fid)  "
   ]
  },
  {
   "cell_type": "code",
   "execution_count": 45,
   "metadata": {},
   "outputs": [
    {
     "data": {
      "text/plain": [
       "array([0.0614876 , 0.10637074, 0.0111897 , 0.23878851, 0.01130338,\n",
       "       0.03037845, 0.05735494, 0.15050077, 0.11338671, 0.05488706,\n",
       "       0.01678729, 0.0117903 , 0.01136021, 0.01123982, 0.01319647,\n",
       "       0.00658208, 0.0095391 , 0.00774214, 0.00728584, 0.00784468,\n",
       "       0.00717793, 0.02373818, 0.00975484, 0.02031326])"
      ]
     },
     "execution_count": 45,
     "metadata": {},
     "output_type": "execute_result"
    }
   ],
   "source": [
    "clf_me_train.feature_importances_"
   ]
  },
  {
   "cell_type": "code",
   "execution_count": null,
   "metadata": {},
   "outputs": [],
   "source": []
  }
 ],
 "metadata": {
  "kernelspec": {
   "display_name": "Python 3 (IMMAS)",
   "language": "python",
   "name": "immas"
  },
  "language_info": {
   "codemirror_mode": {
    "name": "ipython",
    "version": 3
   },
   "file_extension": ".py",
   "mimetype": "text/x-python",
   "name": "python",
   "nbconvert_exporter": "python",
   "pygments_lexer": "ipython3",
   "version": "3.6.5"
  }
 },
 "nbformat": 4,
 "nbformat_minor": 2
}
