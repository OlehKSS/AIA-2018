{
 "cells": [
  {
   "cell_type": "markdown",
   "metadata": {},
   "source": [
    "# Random Forests Classifier ROC curve and other analysis"
   ]
  },
  {
   "cell_type": "code",
   "execution_count": 82,
   "metadata": {},
   "outputs": [],
   "source": [
    "import cv2\n",
    "import matplotlib.pyplot as plt\n",
    "import numpy as np\n",
    "import pandas as pd\n",
    "\n",
    "from sklearn import preprocessing\n",
    "from sklearn.cross_validation import KFold\n",
    "from sklearn.ensemble import RandomForestClassifier\n",
    "from sklearn.metrics import accuracy_score, auc, classification_report, confusion_matrix\n",
    "from sklearn.metrics import f1_score, make_scorer, matthews_corrcoef, roc_curve\n",
    "from sklearn.model_selection import train_test_split, GridSearchCV\n",
    "from sklearn.utils import shuffle\n",
    "\n",
    "%matplotlib inline"
   ]
  },
  {
   "cell_type": "markdown",
   "metadata": {},
   "source": [
    "## Import  and normalize data"
   ]
  },
  {
   "cell_type": "code",
   "execution_count": 83,
   "metadata": {},
   "outputs": [
    {
     "name": "stdout",
     "output_type": "stream",
     "text": [
      "15.551219512195122\n"
     ]
    },
    {
     "data": {
      "text/html": [
       "<div>\n",
       "<style scoped>\n",
       "    .dataframe tbody tr th:only-of-type {\n",
       "        vertical-align: middle;\n",
       "    }\n",
       "\n",
       "    .dataframe tbody tr th {\n",
       "        vertical-align: top;\n",
       "    }\n",
       "\n",
       "    .dataframe thead th {\n",
       "        text-align: right;\n",
       "    }\n",
       "</style>\n",
       "<table border=\"1\" class=\"dataframe\">\n",
       "  <thead>\n",
       "    <tr style=\"text-align: right;\">\n",
       "      <th></th>\n",
       "      <th>Unnamed: 0</th>\n",
       "      <th>perimeter</th>\n",
       "      <th>area</th>\n",
       "      <th>circularity</th>\n",
       "      <th>ac</th>\n",
       "      <th>shape_factor</th>\n",
       "      <th>mean_intensity</th>\n",
       "      <th>standard_deviation</th>\n",
       "      <th>smoothness</th>\n",
       "      <th>skewness</th>\n",
       "      <th>kurtosis</th>\n",
       "      <th>correlation</th>\n",
       "      <th>contrast</th>\n",
       "      <th>uniformity</th>\n",
       "      <th>homogeneity</th>\n",
       "      <th>energy</th>\n",
       "      <th>dissimilarity</th>\n",
       "      <th>class_id</th>\n",
       "    </tr>\n",
       "  </thead>\n",
       "  <tbody>\n",
       "    <tr>\n",
       "      <th>1555</th>\n",
       "      <td>1555</td>\n",
       "      <td>4867.158503</td>\n",
       "      <td>96940.5</td>\n",
       "      <td>19.446250</td>\n",
       "      <td>4985.048587</td>\n",
       "      <td>244.368782</td>\n",
       "      <td>32888.949183</td>\n",
       "      <td>18895.607594</td>\n",
       "      <td>1.0</td>\n",
       "      <td>-2.676903e+10</td>\n",
       "      <td>2.301411e+17</td>\n",
       "      <td>0.653724</td>\n",
       "      <td>222.752560</td>\n",
       "      <td>0.464620</td>\n",
       "      <td>0.698723</td>\n",
       "      <td>0.681631</td>\n",
       "      <td>6.881463</td>\n",
       "      <td>-1.0</td>\n",
       "    </tr>\n",
       "    <tr>\n",
       "      <th>237</th>\n",
       "      <td>237</td>\n",
       "      <td>410.284271</td>\n",
       "      <td>4659.0</td>\n",
       "      <td>2.875194</td>\n",
       "      <td>1620.412371</td>\n",
       "      <td>36.130754</td>\n",
       "      <td>33357.984160</td>\n",
       "      <td>18942.678632</td>\n",
       "      <td>1.0</td>\n",
       "      <td>-3.231509e+11</td>\n",
       "      <td>2.317281e+17</td>\n",
       "      <td>0.549788</td>\n",
       "      <td>399.545633</td>\n",
       "      <td>0.190706</td>\n",
       "      <td>0.467533</td>\n",
       "      <td>0.436699</td>\n",
       "      <td>12.218299</td>\n",
       "      <td>-1.0</td>\n",
       "    </tr>\n",
       "    <tr>\n",
       "      <th>1071</th>\n",
       "      <td>1071</td>\n",
       "      <td>276.727922</td>\n",
       "      <td>2587.5</td>\n",
       "      <td>2.355135</td>\n",
       "      <td>1098.663300</td>\n",
       "      <td>29.595495</td>\n",
       "      <td>32588.944954</td>\n",
       "      <td>18926.476180</td>\n",
       "      <td>1.0</td>\n",
       "      <td>1.279175e+11</td>\n",
       "      <td>2.317954e+17</td>\n",
       "      <td>0.528307</td>\n",
       "      <td>410.519186</td>\n",
       "      <td>0.172922</td>\n",
       "      <td>0.443970</td>\n",
       "      <td>0.415839</td>\n",
       "      <td>12.642993</td>\n",
       "      <td>-1.0</td>\n",
       "    </tr>\n",
       "    <tr>\n",
       "      <th>1090</th>\n",
       "      <td>1090</td>\n",
       "      <td>1993.705624</td>\n",
       "      <td>31276.0</td>\n",
       "      <td>10.113489</td>\n",
       "      <td>3092.503536</td>\n",
       "      <td>127.089849</td>\n",
       "      <td>33085.813141</td>\n",
       "      <td>18890.106201</td>\n",
       "      <td>1.0</td>\n",
       "      <td>6.374798e+10</td>\n",
       "      <td>2.299846e+17</td>\n",
       "      <td>0.673157</td>\n",
       "      <td>189.643192</td>\n",
       "      <td>0.529190</td>\n",
       "      <td>0.742418</td>\n",
       "      <td>0.727454</td>\n",
       "      <td>5.870941</td>\n",
       "      <td>-1.0</td>\n",
       "    </tr>\n",
       "    <tr>\n",
       "      <th>2257</th>\n",
       "      <td>2257</td>\n",
       "      <td>723.396969</td>\n",
       "      <td>9294.0</td>\n",
       "      <td>4.480648</td>\n",
       "      <td>2074.253499</td>\n",
       "      <td>56.305485</td>\n",
       "      <td>33449.799337</td>\n",
       "      <td>18908.202299</td>\n",
       "      <td>1.0</td>\n",
       "      <td>-1.076505e+11</td>\n",
       "      <td>2.293764e+17</td>\n",
       "      <td>0.626265</td>\n",
       "      <td>291.988508</td>\n",
       "      <td>0.339795</td>\n",
       "      <td>0.605288</td>\n",
       "      <td>0.582919</td>\n",
       "      <td>9.008491</td>\n",
       "      <td>-1.0</td>\n",
       "    </tr>\n",
       "  </tbody>\n",
       "</table>\n",
       "</div>"
      ],
      "text/plain": [
       "      Unnamed: 0    perimeter     area  circularity           ac  \\\n",
       "1555        1555  4867.158503  96940.5    19.446250  4985.048587   \n",
       "237          237   410.284271   4659.0     2.875194  1620.412371   \n",
       "1071        1071   276.727922   2587.5     2.355135  1098.663300   \n",
       "1090        1090  1993.705624  31276.0    10.113489  3092.503536   \n",
       "2257        2257   723.396969   9294.0     4.480648  2074.253499   \n",
       "\n",
       "      shape_factor  mean_intensity  standard_deviation  smoothness  \\\n",
       "1555    244.368782    32888.949183        18895.607594         1.0   \n",
       "237      36.130754    33357.984160        18942.678632         1.0   \n",
       "1071     29.595495    32588.944954        18926.476180         1.0   \n",
       "1090    127.089849    33085.813141        18890.106201         1.0   \n",
       "2257     56.305485    33449.799337        18908.202299         1.0   \n",
       "\n",
       "          skewness      kurtosis  correlation    contrast  uniformity  \\\n",
       "1555 -2.676903e+10  2.301411e+17     0.653724  222.752560    0.464620   \n",
       "237  -3.231509e+11  2.317281e+17     0.549788  399.545633    0.190706   \n",
       "1071  1.279175e+11  2.317954e+17     0.528307  410.519186    0.172922   \n",
       "1090  6.374798e+10  2.299846e+17     0.673157  189.643192    0.529190   \n",
       "2257 -1.076505e+11  2.293764e+17     0.626265  291.988508    0.339795   \n",
       "\n",
       "      homogeneity    energy  dissimilarity  class_id  \n",
       "1555     0.698723  0.681631       6.881463      -1.0  \n",
       "237      0.467533  0.436699      12.218299      -1.0  \n",
       "1071     0.443970  0.415839      12.642993      -1.0  \n",
       "1090     0.742418  0.727454       5.870941      -1.0  \n",
       "2257     0.605288  0.582919       9.008491      -1.0  "
      ]
     },
     "execution_count": 83,
     "metadata": {},
     "output_type": "execute_result"
    }
   ],
   "source": [
    "NUMBER_OF_IMGS = 410\n",
    "NUMBER_OF_MASSES = 107\n",
    "\n",
    "file_path = \"feature-tables/train-data_1526424532.csv\"\n",
    "data = pd.read_csv(file_path)\n",
    "\n",
    "# average number of ROIs per image\n",
    "# we need to do simple averaging since mass images have fprs as well\n",
    "reg_per_img = len(data)/(NUMBER_OF_IMGS)\n",
    "print(reg_per_img)\n",
    "\n",
    "data.sample(5)"
   ]
  },
  {
   "cell_type": "code",
   "execution_count": 136,
   "metadata": {},
   "outputs": [
    {
     "name": "stdout",
     "output_type": "stream",
     "text": [
      "(3188,)\n",
      "(3188,)\n"
     ]
    }
   ],
   "source": [
    "#specify feature and target\n",
    "Feature = data.drop(['class_id', 'Unnamed: 0'], axis=1)\n",
    "Target  = data['class_id']\n",
    "\n",
    "# shuffle the dataset\n",
    "X = Feature.as_matrix()\n",
    "y = Target.as_matrix()\n",
    "X, y = shuffle(X, y, random_state=None)\n",
    "\n",
    "#standardize data (mean = 0)\n",
    "X = preprocessing.robust_scale(X)\n",
    "\n",
    "# Split the dataset in two equal parts\n",
    "X_train, X_test, y_train, y_test = train_test_split(\n",
    "    X, y, test_size=0.5, random_state=0)\n",
    "\n",
    "print(y_train.shape)\n",
    "print(y_test.shape)"
   ]
  },
  {
   "cell_type": "markdown",
   "metadata": {},
   "source": [
    "## Classifier with manually selected parameters"
   ]
  },
  {
   "cell_type": "markdown",
   "metadata": {},
   "source": [
    "### Training"
   ]
  },
  {
   "cell_type": "code",
   "execution_count": 143,
   "metadata": {},
   "outputs": [
    {
     "data": {
      "text/plain": [
       "RandomForestClassifier(bootstrap=True, class_weight='balanced',\n",
       "            criterion='gini', max_depth=None, max_features='sqrt',\n",
       "            max_leaf_nodes=None, min_impurity_decrease=0.0,\n",
       "            min_impurity_split=None, min_samples_leaf=50,\n",
       "            min_samples_split=2, min_weight_fraction_leaf=0.0,\n",
       "            n_estimators=500, n_jobs=1, oob_score=True, random_state=None,\n",
       "            verbose=0, warm_start=False)"
      ]
     },
     "execution_count": 143,
     "metadata": {},
     "output_type": "execute_result"
    }
   ],
   "source": [
    "# 85% of masses detected, 85% accuracy, f1_score=20%, mathew_coef=25%\n",
    "# Parameter selection by me\n",
    "clf_me = RandomForestClassifier(n_estimators=500,\n",
    "                             max_features='sqrt',\n",
    "                             min_samples_leaf=50,\n",
    "                             class_weight='balanced',\n",
    "                             oob_score=True)\n",
    "\n",
    "# Fit the best algorithm to the data. \n",
    "clf_me.fit(X_train, y_train)"
   ]
  },
  {
   "cell_type": "markdown",
   "metadata": {},
   "source": [
    "### Analysis"
   ]
  },
  {
   "cell_type": "code",
   "execution_count": 144,
   "metadata": {},
   "outputs": [],
   "source": [
    "prob_me = clf_me.predict_proba(X_test)\n",
    "pred_me = clf_me.predict(X_test)"
   ]
  },
  {
   "cell_type": "code",
   "execution_count": 196,
   "metadata": {},
   "outputs": [
    {
     "data": {
      "image/png": "[encoded data removed]",
      "text/plain": [
       "<Figure size 432x288 with 1 Axes>"
      ]
     },
     "metadata": {},
     "output_type": "display_data"
    }
   ],
   "source": [
    "# for parameters selected by me\n",
    "def get_roc(test_labels, out_probs):\n",
    "    \n",
    "    if (not isinstance(test_labels, list)) and (not isinstance(test_labels, tuple)):\n",
    "        test_labels = (test_labels,)\n",
    "    \n",
    "    if (not isinstance(out_probs, list)) and (not isinstance(out_probs, tuple)):\n",
    "        out_probs = (out_probs,)\n",
    "        \n",
    "    for i, labels_probs in enumerate(zip(test_labels, out_probs)):\n",
    "        test_ls, out_prob = labels_probs\n",
    "        fpr, tpr, _ = roc_curve(test_ls, out_prob[:,1], pos_label=1, drop_intermediate=True)\n",
    "        roc_auc = auc(fpr, tpr)\n",
    "\n",
    "        plt.title('Receiver Operating Characteristic, RF')\n",
    "        fp = fpr * reg_per_img\n",
    "        plt.plot(fp, tpr, label=f'AUC = {roc_auc:.2f}, ROC #{i+1}')\n",
    "        plt.legend(loc='lower right')\n",
    "    \n",
    "    plt.xlim([-0,5])\n",
    "    plt.ylim([-0,1])\n",
    "    plt.ylabel('True Positive Rate')\n",
    "    plt.xlabel('False Positive Rate')\n",
    "    plt.show()\n",
    "\n",
    "\n",
    "get_roc(y_test, prob_me)"
   ]
  },
  {
   "cell_type": "code",
   "execution_count": 200,
   "metadata": {},
   "outputs": [
    {
     "name": "stdout",
     "output_type": "stream",
     "text": [
      "Number of masses 48\n",
      "Number of non-masses 3140\n",
      "Confusion matrix:\n",
      "[[  37   11]\n",
      " [ 337 2803]] \n",
      "\n",
      "Classification report:\n",
      "             precision    recall  f1-score   support\n",
      "\n",
      "          1       0.10      0.77      0.18        48\n",
      "         -1       1.00      0.89      0.94      3140\n",
      "\n",
      "avg / total       0.98      0.89      0.93      3188\n",
      " \n",
      "\n",
      "Accuracy:\n",
      "0.890840652446675 \n",
      "\n",
      "Matthew Correlation Coefficient:\n",
      "0.25109269674703283 \n",
      "\n"
     ]
    }
   ],
   "source": [
    "# Runs the classifier and outputs the metrics\n",
    "def metrics_report(labels, predictions):\n",
    "    print(f'Number of masses {sum(labels > 0)}')\n",
    "    print(f'Number of non-masses {sum(labels < 0)}')\n",
    "    print('Confusion matrix:')\n",
    "    print(confusion_matrix(labels, predictions, labels=[1,-1]),'\\n')\n",
    "    print('Classification report:')\n",
    "    print(classification_report(labels, predictions, labels=[1,-1]),'\\n')\n",
    "    print('Accuracy:')\n",
    "    print(accuracy_score(labels, predictions),'\\n')\n",
    "    print('Matthew Correlation Coefficient:')\n",
    "    print(matthews_corrcoef(labels, predictions),'\\n')\n",
    "\n",
    "\n",
    "metrics_report(y_test, pred_me)"
   ]
  },
  {
   "cell_type": "code",
   "execution_count": 121,
   "metadata": {},
   "outputs": [
    {
     "name": "stderr",
     "output_type": "stream",
     "text": [
      "/home/okozyn/.conda/envs/immas/lib/python3.6/site-packages/scikit_learn-0.19.1-py3.6-linux-x86_64.egg/sklearn/metrics/classification.py:1137: UndefinedMetricWarning: F-score is ill-defined and being set to 0.0 due to no true samples.\n",
      "  'recall', 'true', average, warn_for)\n",
      "/home/okozyn/.conda/envs/immas/lib/python3.6/site-packages/scikit_learn-0.19.1-py3.6-linux-x86_64.egg/sklearn/metrics/classification.py:538: RuntimeWarning: invalid value encountered in double_scalars\n",
      "  mcc = cov_ytyp / np.sqrt(cov_ytyt * cov_ypyp)\n"
     ]
    },
    {
     "name": "stdout",
     "output_type": "stream",
     "text": [
      "Mean Accuracy: 0.8676654182272159\n",
      "Mean F1 Score: 0.19699211263452748\n",
      "Mean Matthew Correlation coefficient: 0.23079418863940865\n"
     ]
    }
   ],
   "source": [
    "# Validate with k-fold\n",
    "def run_kfold(clf):\n",
    "    kf = KFold(891, n_folds=10)\n",
    "    acc_outcomes = []\n",
    "    f1_outcomes = []\n",
    "    mat_outcomes = []\n",
    "    fold = 0\n",
    "    \n",
    "    for train_index, test_index in kf:\n",
    "        fold += 1\n",
    "        X_train, X_test = Feature.values[train_index], Feature.values[test_index]\n",
    "        y_train, y_test = Target.values[train_index], Target.values[test_index]\n",
    "        clf.fit(X_train, y_train)\n",
    "        predictions = clf.predict(X_test)\n",
    "        accuracy = accuracy_score(y_test, predictions)\n",
    "        f1 = f1_score(y_test, predictions)\n",
    "        mat_coef = matthews_corrcoef(y_test, predictions)\n",
    "        acc_outcomes.append(accuracy)\n",
    "        f1_outcomes.append(f1)\n",
    "        mat_outcomes.append(mat_coef)\n",
    "        #print(\"Fold {0} accuracy: {1}\".format(fold, accuracy))     \n",
    "    mean_acc_outcome = np.mean(acc_outcomes)\n",
    "    mean_f1_outcome = np.mean(f1_outcomes)\n",
    "    mean_mat_outcome = np.mean(mat_outcomes)\n",
    "    print(\"Mean Accuracy: {0}\".format(mean_acc_outcome))\n",
    "    print(\"Mean F1 Score: {0}\".format(mean_f1_outcome))\n",
    "    print(\"Mean Matthew Correlation coefficient: {0}\".format(mean_mat_outcome)) \n",
    "\n",
    "run_kfold(clf_me)"
   ]
  },
  {
   "cell_type": "markdown",
   "metadata": {},
   "source": [
    "## Optimized parameters by GridSerachCV"
   ]
  },
  {
   "cell_type": "markdown",
   "metadata": {},
   "source": [
    "## Training"
   ]
  },
  {
   "cell_type": "code",
   "execution_count": 138,
   "metadata": {},
   "outputs": [
    {
     "data": {
      "text/plain": [
       "RandomForestClassifier(bootstrap=True, class_weight='balanced',\n",
       "            criterion='entropy', max_depth=16, max_features='sqrt',\n",
       "            max_leaf_nodes=None, min_impurity_decrease=0.0,\n",
       "            min_impurity_split=None, min_samples_leaf=5,\n",
       "            min_samples_split=10, min_weight_fraction_leaf=0.0,\n",
       "            n_estimators=35, n_jobs=-1, oob_score=True, random_state=None,\n",
       "            verbose=0, warm_start=False)"
      ]
     },
     "execution_count": 138,
     "metadata": {},
     "output_type": "execute_result"
    }
   ],
   "source": [
    "# Parameter selection based on GridSearchCV masses 51%,, accuracy=97%, f1_score=20%, mather_coef=18%\n",
    "clf_opt_train = RandomForestClassifier(bootstrap=True, class_weight='balanced',\n",
    "            criterion='entropy', max_depth=16, max_features='sqrt',\n",
    "            max_leaf_nodes=None, min_impurity_decrease=0.0,\n",
    "            min_impurity_split=None, min_samples_leaf=5,\n",
    "            min_samples_split=10, min_weight_fraction_leaf=0.0,\n",
    "            n_estimators=35, n_jobs=-1, oob_score=True, random_state=None,\n",
    "            verbose=0, warm_start=False)\n",
    "\n",
    "# Fit to the data. \n",
    "clf_opt_train.fit(X_train, y_train)\n",
    "\n",
    "clf_opt_test = RandomForestClassifier(bootstrap=True, class_weight='balanced',\n",
    "            criterion='entropy', max_depth=16, max_features='sqrt',\n",
    "            max_leaf_nodes=None, min_impurity_decrease=0.0,\n",
    "            min_impurity_split=None, min_samples_leaf=5,\n",
    "            min_samples_split=10, min_weight_fraction_leaf=0.0,\n",
    "            n_estimators=35, n_jobs=-1, oob_score=True, random_state=None,\n",
    "            verbose=0, warm_start=False)\n",
    "\n",
    "clf_opt_test.fit(X_test, y_test)"
   ]
  },
  {
   "cell_type": "markdown",
   "metadata": {},
   "source": [
    "### Analysis"
   ]
  },
  {
   "cell_type": "code",
   "execution_count": 197,
   "metadata": {},
   "outputs": [],
   "source": [
    "prob_opt_train = clf_opt_train.predict_proba(X_test)\n",
    "pred_opt_train = clf_opt_train.predict(X_test)\n",
    "\n",
    "prob_opt_test = clf_opt.predict_proba(X_train)\n",
    "pred_opt_test = clf_opt.predict(X_train)"
   ]
  },
  {
   "cell_type": "code",
   "execution_count": 199,
   "metadata": {},
   "outputs": [
    {
     "data": {
      "image/png": "[encoded data removed]",
      "text/plain": [
       "<Figure size 432x288 with 1 Axes>"
      ]
     },
     "metadata": {},
     "output_type": "display_data"
    }
   ],
   "source": [
    "labels = (y_test, y_train, )\n",
    "probs = (prob_opt_train, prob_opt_test, )\n",
    "\n",
    "get_roc(labels, probs)"
   ]
  },
  {
   "cell_type": "code",
   "execution_count": 201,
   "metadata": {},
   "outputs": [
    {
     "name": "stdout",
     "output_type": "stream",
     "text": [
      "Number of masses 48\n",
      "Number of non-masses 3140\n",
      "Confusion matrix:\n",
      "[[  17   31]\n",
      " [  34 3106]] \n",
      "\n",
      "Classification report:\n",
      "             precision    recall  f1-score   support\n",
      "\n",
      "          1       0.33      0.35      0.34        48\n",
      "         -1       0.99      0.99      0.99      3140\n",
      "\n",
      "avg / total       0.98      0.98      0.98      3188\n",
      " \n",
      "\n",
      "Accuracy:\n",
      "0.9796110414052698 \n",
      "\n",
      "Matthew Correlation Coefficient:\n",
      "0.3332466400566431 \n",
      "\n"
     ]
    }
   ],
   "source": [
    "metrics_report(y_test, pred_opt_train)"
   ]
  },
  {
   "cell_type": "code",
   "execution_count": 49,
   "metadata": {},
   "outputs": [
    {
     "name": "stderr",
     "output_type": "stream",
     "text": [
      "/home/okozyn/.conda/envs/immas/lib/python3.6/site-packages/scikit_learn-0.19.1-py3.6-linux-x86_64.egg/sklearn/metrics/classification.py:1135: UndefinedMetricWarning: F-score is ill-defined and being set to 0.0 due to no predicted samples.\n",
      "  'precision', 'predicted', average, warn_for)\n",
      "/home/okozyn/.conda/envs/immas/lib/python3.6/site-packages/scikit_learn-0.19.1-py3.6-linux-x86_64.egg/sklearn/metrics/classification.py:538: RuntimeWarning: invalid value encountered in double_scalars\n",
      "  mcc = cov_ytyp / np.sqrt(cov_ytyt * cov_ypyp)\n",
      "/home/okozyn/.conda/envs/immas/lib/python3.6/site-packages/scikit_learn-0.19.1-py3.6-linux-x86_64.egg/sklearn/metrics/classification.py:1135: UndefinedMetricWarning: F-score is ill-defined and being set to 0.0 due to no predicted samples.\n",
      "  'precision', 'predicted', average, warn_for)\n",
      "/home/okozyn/.conda/envs/immas/lib/python3.6/site-packages/scikit_learn-0.19.1-py3.6-linux-x86_64.egg/sklearn/metrics/classification.py:538: RuntimeWarning: invalid value encountered in double_scalars\n",
      "  mcc = cov_ytyp / np.sqrt(cov_ytyt * cov_ypyp)\n",
      "/home/okozyn/.conda/envs/immas/lib/python3.6/site-packages/scikit_learn-0.19.1-py3.6-linux-x86_64.egg/sklearn/metrics/classification.py:1137: UndefinedMetricWarning: F-score is ill-defined and being set to 0.0 due to no true samples.\n",
      "  'recall', 'true', average, warn_for)\n",
      "/home/okozyn/.conda/envs/immas/lib/python3.6/site-packages/scikit_learn-0.19.1-py3.6-linux-x86_64.egg/sklearn/metrics/classification.py:538: RuntimeWarning: invalid value encountered in double_scalars\n",
      "  mcc = cov_ytyp / np.sqrt(cov_ytyt * cov_ypyp)\n",
      "/home/okozyn/.conda/envs/immas/lib/python3.6/site-packages/scikit_learn-0.19.1-py3.6-linux-x86_64.egg/sklearn/metrics/classification.py:1135: UndefinedMetricWarning: F-score is ill-defined and being set to 0.0 due to no predicted samples.\n",
      "  'precision', 'predicted', average, warn_for)\n",
      "/home/okozyn/.conda/envs/immas/lib/python3.6/site-packages/scikit_learn-0.19.1-py3.6-linux-x86_64.egg/sklearn/metrics/classification.py:538: RuntimeWarning: invalid value encountered in double_scalars\n",
      "  mcc = cov_ytyp / np.sqrt(cov_ytyt * cov_ypyp)\n"
     ]
    },
    {
     "name": "stdout",
     "output_type": "stream",
     "text": [
      "Mean Accuracy: 0.9708863920099875\n",
      "Mean F1 Score: 0.25666666666666665\n",
      "Mean Matthew Correlation coefficient: 0.27050316908583305\n"
     ]
    }
   ],
   "source": [
    "run_kfold(clf_opt)"
   ]
  },
  {
   "cell_type": "code",
   "execution_count": null,
   "metadata": {},
   "outputs": [],
   "source": []
  }
 ],
 "metadata": {
  "kernelspec": {
   "display_name": "Python 3 (IMMAS)",
   "language": "python",
   "name": "immas"
  },
  "language_info": {
   "codemirror_mode": {
    "name": "ipython",
    "version": 3
   },
   "file_extension": ".py",
   "mimetype": "text/x-python",
   "name": "python",
   "nbconvert_exporter": "python",
   "pygments_lexer": "ipython3",
   "version": "3.6.5"
  }
 },
 "nbformat": 4,
 "nbformat_minor": 2
}
