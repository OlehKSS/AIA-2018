{
 "cells": [
  {
   "cell_type": "code",
   "execution_count": 1,
   "metadata": {},
   "outputs": [],
   "source": [
    "import matplotlib.pyplot as plt\n",
    "%matplotlib inline\n",
    "import cv2\n",
    "import matplotlib.pyplot as plt\n",
    "import numpy as np\n",
    "import pandas as pd\n",
    "from scipy import interp\n",
    "from itertools import cycle\n",
    "from sklearn import svm, datasets, preprocessing\n",
    "from sklearn.svm import SVC  \n",
    "from sklearn.model_selection import train_test_split, GridSearchCV, RandomizedSearchCV\n",
    "from sklearn.metrics import classification_report, confusion_matrix, accuracy_score, matthews_corrcoef, roc_curve, auc, make_scorer, roc_auc_score\n",
    "from sklearn.utils import shuffle\n",
    "import bisect\n",
    "from scipy.stats import expon\n",
    "from immas import classification"
   ]
  },
  {
   "cell_type": "code",
   "execution_count": 2,
   "metadata": {},
   "outputs": [
    {
     "name": "stdout",
     "output_type": "stream",
     "text": [
      "Number of images in the dataset 01: 205\n",
      "Number of images in the dataset 02: 205\n",
      "Number of regions in dataset 01: 3327\n",
      "Number of regions in dataset 02: 3049\n"
     ]
    }
   ],
   "source": [
    "dataset_df1, dataset_df2 = classification.load_features_data('C:\\\\AIA-2018\\\\examples\\\\feature-tables\\\\train-data_1527086478.csv')"
   ]
  },
  {
   "cell_type": "code",
   "execution_count": 3,
   "metadata": {},
   "outputs": [
    {
     "data": {
      "text/plain": [
       "pandas.core.frame.DataFrame"
      ]
     },
     "execution_count": 3,
     "metadata": {},
     "output_type": "execute_result"
    }
   ],
   "source": [
    "type(dataset_df2)"
   ]
  },
  {
   "cell_type": "code",
   "execution_count": 4,
   "metadata": {},
   "outputs": [],
   "source": [
    "# Loading of data and splitting in groups according to images\n",
    "# Regions of the same image will stay in the same Pandas Dataframe in the end (dataset_df1 or dataset_df2)\n",
    "\n",
    "# Load the dataset and groups by image filename\n",
    "filename = 'C:\\\\AIA-2018\\\\examples\\\\feature-tables\\\\train-data_1527086478.csv'\n",
    "data = pd.read_csv(filename)\n",
    "data = data.drop(['Unnamed: 0'],axis=1)\n",
    "data = data.sample(frac=1).reset_index(drop=True)\n",
    "data_per_imgfile = list(data.groupby('img_name'))\n",
    "np.random.shuffle(data_per_imgfile)\n",
    "\n",
    "# Splits in two datasets, for training and testing, with all regions associated to one image in the same set\n",
    "data1 = []\n",
    "data2 = []\n",
    "i = 0\n",
    "for name, group in data_per_imgfile:\n",
    "    if i % 2 == 0:\n",
    "        train = data[data['img_name']==name]\n",
    "        data1.append(train)\n",
    "    else:\n",
    "        test = data[data['img_name']==name]\n",
    "        data2.append(test)\n",
    "    i += 1\n",
    "dataset_df1 = pd.concat(data1)\n",
    "dataset_df2 = pd.concat(data2)"
   ]
  },
  {
   "cell_type": "code",
   "execution_count": 5,
   "metadata": {},
   "outputs": [],
   "source": [
    "# Converts from dataframe to numpy array\n",
    "# Change here (or copy the code) if you want to select only some of the features to the array\n",
    "# (only texture features, only geomatrical features...)\n",
    "\n",
    "# Conversion from pandas dataframe to numpy array\n",
    "# Keeps all the features from the original csv file\n",
    "Feature = dataset_df1.drop(['class_id','img_name'], axis=1)\n",
    "Target  = dataset_df1['class_id']\n",
    "dataset01_data = Feature.as_matrix()\n",
    "dataset01_labels = Target.as_matrix()\n",
    "\n",
    "Feature = dataset_df2.drop(['class_id','img_name'], axis=1)\n",
    "Target  = dataset_df2['class_id']\n",
    "dataset02_data = Feature.as_matrix()\n",
    "dataset02_labels = Target.as_matrix()\n",
    "\n",
    "# Shuflles the datasets and creates one variable with labels for all the samples\n",
    "dataset01_data, dataset01_labels = shuffle(dataset01_data, dataset01_labels, random_state=None)\n",
    "dataset02_data, dataset02_labels = shuffle(dataset02_data, dataset02_labels, random_state=None)\n",
    "all_data = np.vstack((dataset01_data, dataset02_data))\n",
    "all_labels = np.concatenate((dataset01_labels, dataset02_labels),axis=0)\n",
    "\n",
    "# Data standardization for each dataset (two methods)\n",
    "dataset01_data = preprocessing.StandardScaler().fit_transform(dataset01_data)\n",
    "dataset02_data = preprocessing.StandardScaler().fit_transform(dataset02_data)\n",
    "all_data = preprocessing.StandardScaler().fit_transform(all_data)\n",
    "#dataset01_data = preprocessing.robust_scale(dataset01_data)fit_transform\n",
    "#dataset02_data = preprocessing.robust_scale(dataset02_data)"
   ]
  },
  {
   "cell_type": "code",
   "execution_count": 6,
   "metadata": {},
   "outputs": [],
   "source": [
    "dataset01 = np.zeros((dataset01_data.shape[0],dataset01_data.shape[1]+1));\n",
    "dataset01[:,:-1] = dataset01_data\n",
    "dataset01[:,-1] = dataset01_labels\n",
    "\n",
    "dataset02 = np.zeros((dataset02_data.shape[0],dataset02_data.shape[1]+1));\n",
    "dataset02[:,:-1] = dataset02_data\n",
    "dataset02[:,-1] = dataset02_labels"
   ]
  },
  {
   "cell_type": "code",
   "execution_count": 7,
   "metadata": {},
   "outputs": [
    {
     "name": "stdout",
     "output_type": "stream",
     "text": [
      "(3172, 2)\n",
      "(3172, 25)\n"
     ]
    },
    {
     "data": {
      "image/png": "[encoded data removed]",
      "text/plain": [
       "<matplotlib.figure.Figure at 0x1f2d180f908>"
      ]
     },
     "metadata": {},
     "output_type": "display_data"
    },
    {
     "name": "stdout",
     "output_type": "stream",
     "text": [
      "Area under the original ROC curve for our classifier: 0.94\n",
      "Partial area under the FROC curve for FPPI between 0 and 1: 0.57659\n"
     ]
    },
    {
     "ename": "ValueError",
     "evalue": "not enough values to unpack (expected 6, got 5)",
     "output_type": "error",
     "traceback": [
      "\u001b[1;31m---------------------------------------------------------------------------\u001b[0m",
      "\u001b[1;31mValueError\u001b[0m                                Traceback (most recent call last)",
      "\u001b[1;32m<ipython-input-7-7baa0183f6d1>\u001b[0m in \u001b[0;36m<module>\u001b[1;34m()\u001b[0m\n\u001b[1;32m----> 1\u001b[1;33m \u001b[0mfull_probabilities\u001b[0m\u001b[1;33m,\u001b[0m \u001b[0mfull_auc\u001b[0m\u001b[1;33m,\u001b[0m \u001b[0mpartial_auc\u001b[0m\u001b[1;33m,\u001b[0m \u001b[0mfalse_positive_rate\u001b[0m\u001b[1;33m,\u001b[0m \u001b[0mFROC_fpr\u001b[0m\u001b[1;33m,\u001b[0m \u001b[0mFROC_tpr\u001b[0m \u001b[1;33m=\u001b[0m \u001b[0mclassification\u001b[0m\u001b[1;33m.\u001b[0m\u001b[0mrun_SVM\u001b[0m\u001b[1;33m(\u001b[0m\u001b[0mdataset01\u001b[0m\u001b[1;33m,\u001b[0m \u001b[0mdataset02\u001b[0m\u001b[1;33m,\u001b[0m \u001b[0mkernel\u001b[0m\u001b[1;33m=\u001b[0m\u001b[1;34m'poly'\u001b[0m\u001b[1;33m,\u001b[0m \u001b[0mfeatures\u001b[0m\u001b[1;33m=\u001b[0m\u001b[1;34m'all_except_LBP'\u001b[0m\u001b[1;33m)\u001b[0m\u001b[1;33m\u001b[0m\u001b[0m\n\u001b[0m",
      "\u001b[1;31mValueError\u001b[0m: not enough values to unpack (expected 6, got 5)"
     ]
    }
   ],
   "source": [
    "full_probabilities, full_auc, partial_auc, false_positive_rate, FROC_fpr, FROC_tpr = classification.run_SVM(dataset01, dataset02, kernel='poly', features='all_except_LBP')"
   ]
  },
  {
   "cell_type": "code",
   "execution_count": 8,
   "metadata": {},
   "outputs": [],
   "source": [
    "# Trains and tests the classifier with both datasets (first considers the first dataset as the training set and the second as\n",
    "# test, then inverts it)\n",
    "\n",
    "# Classifier parameters\n",
    "\n",
    "# For features without LBP - Maximizing AUC\n",
    "#svclassifier = SVC(C=10, class_weight={1: 20}, gamma=0.0001, kernel='rbf', probability=True)\n",
    "svclassifier = SVC(C=7, class_weight={1:15}, gamma=0.001, kernel='sigmoid', probability=True)\n",
    "#svclassifier = SVC(C=0.001, class_weight={1:20}, kernel='linear', probability=True)\n",
    "#svclassifier = SVC(C=0.5, class_weight={1: 10}, gamma=0.01, kernel='poly', degree=1, coef0=1.0, probability=True)\n",
    "\n",
    "# For features without LBP - Maximizing Matthew Correlation Coefficient\n",
    "#svclassifier = SVC(C=200, class_weight={1: 5}, gamma=0.001, kernel='rbf', probability=True)\n",
    "#svclassifier = SVC(C=9, class_weight={1:5}, gamma=0.001, kernel='sigmoid', probability=True)\n",
    "#svclassifier = SVC(C=0.01, class_weight={1:5}, kernel='linear', probability=True)\n",
    "#svclassifier = SVC(C=10, class_weight={1: 5}, gamma=0.001, kernel='poly', degree=5, coef0=1.5, probability=True)\n",
    "\n",
    "# For features + local LBP - Maximizing AUC\n",
    "#svclassifier = SVC(C=0.01, class_weight={1: 10}, gamma=0.001, kernel='rbf', probability=True)\n",
    "#svclassifier = SVC(C=0.1, class_weight={1:10}, gamma=0.0001, kernel='sigmoid', probability=True)\n",
    "#svclassifier = SVC(C=0.001, class_weight='balanced', kernel='linear', probability=True)\n",
    "#svclassifier = SVC(C=0.001, class_weight={1: 10}, gamma=0.001, kernel='poly', degree=3, coef0=0.5, probability=True)\n",
    "\n",
    "# Trains classifier in DataSet01 and tests in DataSet02\n",
    "svclassifier.fit(dataset01_data, dataset01_labels)\n",
    "prob1 = svclassifier.predict_proba(dataset02_data)\n",
    "prob1 = np.column_stack((prob1,dataset02_labels))\n",
    "\n",
    "# Trains classifier in DataSet02 and tests in DataSet01\n",
    "svclassifier.fit(dataset02_data, dataset02_labels)\n",
    "prob2 = svclassifier.predict_proba(dataset01_data)\n",
    "prob2 = np.column_stack((prob2,dataset01_labels))\n",
    "\n",
    "# Calculate the probabilities taking both tests into account\n",
    "full_prob = np.concatenate((prob1,prob2),axis=0)"
   ]
  },
  {
   "cell_type": "code",
   "execution_count": 9,
   "metadata": {},
   "outputs": [
    {
     "data": {
      "image/png": "[encoded data removed]",
      "text/plain": [
       "<matplotlib.figure.Figure at 0x1f2e938a5f8>"
      ]
     },
     "metadata": {},
     "output_type": "display_data"
    },
    {
     "name": "stdout",
     "output_type": "stream",
     "text": [
      "Area under the original ROC curve for our classifier: 0.95\n",
      "Partial area under the FROC curve for FPPI between 0 and 1: 0.59400\n"
     ]
    }
   ],
   "source": [
    "# FROC Curve section for the cross-validation test\n",
    "false_positive_rate, true_positive_rate, thresholds = roc_curve(full_prob[:,-1], full_prob[:,1], pos_label=1, drop_intermediate=True)\n",
    "roc_auc = auc(false_positive_rate, true_positive_rate)\n",
    "\n",
    "# Counts to adjust the TPR and to create the False Positive per Image\n",
    "unique, counts = np.unique(full_prob[:,-1], return_counts=True)\n",
    "num_img = 410\n",
    "num_pos_img = 115\n",
    "regions = full_prob[:,-1].shape[0]\n",
    "pos_reg = counts[1]\n",
    "neg_reg = counts[0]\n",
    "neg_reg_per_img = neg_reg / num_img\n",
    "false_positive_rate = false_positive_rate * neg_reg_per_img\n",
    "true_positive_rate = true_positive_rate * pos_reg / num_pos_img\n",
    "\n",
    "# Calculates Partial AUC\n",
    "partial_AUC = classification.partial_auc_score(false_positive_rate, true_positive_rate, 1)\n",
    "\n",
    "# Plots the FROC Curve\n",
    "plt.title('Free Response ROC Curve')\n",
    "plt.plot(false_positive_rate, true_positive_rate, 'b',label='Partial AUC (FPPI = 0:1) = %0.2f'% partial_AUC)\n",
    "plt.legend(loc='lower right')\n",
    "plt.xlim([-0,5])\n",
    "plt.ylim([-0,1])\n",
    "plt.ylabel('True Positive Rate')\n",
    "plt.xlabel('False Positive per Image (FPPI)')\n",
    "plt.grid(color='k', linestyle='dotted', linewidth=0.5, alpha=0.5)\n",
    "plt.show()\n",
    "\n",
    "print('Area under the original ROC curve for our classifier: %0.2f'% roc_auc)\n",
    "print('Partial area under the FROC curve for FPPI between 0 and 1: %0.5f'% partial_AUC)"
   ]
  },
  {
   "cell_type": "code",
   "execution_count": 10,
   "metadata": {},
   "outputs": [
    {
     "data": {
      "text/plain": [
       "15.282926829268293"
      ]
     },
     "execution_count": 10,
     "metadata": {},
     "output_type": "execute_result"
    }
   ],
   "source": [
    "neg_reg_per_img"
   ]
  },
  {
   "cell_type": "code",
   "execution_count": 11,
   "metadata": {},
   "outputs": [
    {
     "data": {
      "text/plain": [
       "0.9565217391304348"
      ]
     },
     "execution_count": 11,
     "metadata": {},
     "output_type": "execute_result"
    }
   ],
   "source": [
    "110/115"
   ]
  },
  {
   "cell_type": "code",
   "execution_count": null,
   "metadata": {},
   "outputs": [],
   "source": [
    "# Extensive Grid Searches\n",
    "\n",
    "# Scores for Grid Searches\n",
    "calculate_MCC = make_scorer(matthews_corrcoef)\n",
    "calculate_AUC = make_scorer(roc_auc_score)\n",
    "\n",
    "# Grid Search parameters\n",
    "parameters1 = {'C': [0.001, 0.01, 0.1, 0.5, 5, 7, 10, 20, 50, 200], 'gamma': [1e-4, 1e-3, 0.0003, 0.0005, 0.001, 0.01, 0.05, 0.1, 0.5], 'kernel': ['rbf'],\n",
    "              'class_weight':['balanced', None, {1:1},{1:3},{1:5},{1:7},{1:9},{1:10},{1:15},{1:20},{1:25},{1:30},{1:50},{1:100}]}\n",
    "\n",
    "parameters2 = {'C': [0.001, 0.01, 0.1, 0.5, 5, 7, 9, 10, 50, 200], 'gamma': [1e-4, 1e-3, 0.0005, 0.001, 0.005, 0.01, 0.03, 0.05, 0.1, 0.5], 'kernel': ['sigmoid'],\n",
    "               'class_weight':['balanced', None, {1:1},{1:3},{1:5},{1:7},{1:9},{1:10},{1:15},{1:17},{1:20},{1:50},{1:100}]}\n",
    "\n",
    "parameters3 = {'C': [0.0001, 0.0005, 0.001, 0.003, 0.005, 0.01, 0.1, 0.5, 5, 7, 8, 9, 10, 15, 20],'kernel': ['linear'],\n",
    "               'class_weight':['balanced', None, {1:1},{1:3},{1:5},{1:7},{1:9},{1:10},{1:15},{1:20},{1:22},{1:24},{1:30},{1:40},{1:50},{1:100}]}\n",
    "\n",
    "parameters4 = {'C': [0.01, 0.1, 0.3, 0.5, 1, 7, 10, 100], 'gamma': [1e-3, 0.01, 0.05, 0.1], 'kernel': ['poly'],\n",
    "               'class_weight':['balanced',{1:5},{1:10},{1:50}],'degree':[1,3,5], 'coef0':[0.0, 0.5, 1.0, 1.5]}\n",
    "\n",
    "gridSVM = svm.SVC()\n",
    "grid_search1 = GridSearchCV(gridSVM, param_grid=parameters1, scoring=calculate_MCC, refit=True, verbose=1, return_train_score=False)\n",
    "grid_search1.fit(all_data, all_labels)\n",
    "\n",
    "grid_search2 = GridSearchCV(gridSVM, param_grid=parameters2, scoring=calculate_MCC, refit=True, verbose=1, return_train_score=False)\n",
    "grid_search2.fit(all_data, all_labels)\n",
    "\n",
    "grid_search3 = GridSearchCV(gridSVM, param_grid=parameters3, scoring=calculate_MCC, refit=True, verbose=1, return_train_score=False)\n",
    "grid_search3.fit(all_data, all_labels)\n",
    "\n",
    "grid_search4 = GridSearchCV(gridSVM, param_grid=parameters4, scoring=calculate_MCC, refit=True, verbose=1, return_train_score=False)\n",
    "grid_search4.fit(all_data, all_labels)"
   ]
  },
  {
   "cell_type": "code",
   "execution_count": null,
   "metadata": {},
   "outputs": [],
   "source": [
    "# Results for extensive Grid Searches\n",
    "print(grid_search1.best_score_, grid_search1.best_params_)\n",
    "print(grid_search2.best_score_, grid_search2.best_params_)\n",
    "print(grid_search3.best_score_, grid_search3.best_params_)\n",
    "print(grid_search4.best_score_, grid_search4.best_params_)"
   ]
  },
  {
   "cell_type": "code",
   "execution_count": null,
   "metadata": {},
   "outputs": [],
   "source": [
    "# Randomized Grid Searches\n",
    "\n",
    "# Scores for Grid Searches\n",
    "calculate_MCC = make_scorer(matthews_corrcoef)\n",
    "calculate_AUC = make_scorer(roc_auc_score)\n",
    "\n",
    "# Grid Search parameters\n",
    "parameters1 = {'C': expon(scale=100), 'gamma': expon(scale=.1), 'kernel': ['rbf'],\n",
    "              'class_weight':['balanced', None, {1:1},{1:3},{1:5},{1:7},{1:9},{1:10},{1:15},{1:20},{1:25},{1:30},{1:40},{1:50},{1:100},{1:150},{1:200}]}\n",
    "\n",
    "parameters2 = {'C': expon(scale=100), 'gamma': expon(scale=.1), 'kernel': ['sigmoid'],\n",
    "              'class_weight':['balanced', None, {1:1},{1:3},{1:5},{1:7},{1:9},{1:10},{1:15},{1:20},{1:25},{1:30},{1:40},{1:50},{1:100},{1:150},{1:200}]}\n",
    "\n",
    "parameters3 = {'C': expon(scale=100),'kernel': ['linear'],\n",
    "               'class_weight':['balanced', None, {1:1},{1:3},{1:5},{1:7},{1:9},{1:10},{1:15},{1:20},{1:25},{1:30},{1:50},{1:100}]}\n",
    "\n",
    "parameters4 = {'C': expon(scale=100), 'gamma': expon(scale=.1), 'kernel': ['poly'],\n",
    "               'class_weight':['balanced', None, {1:1},{1:3},{1:5},{1:7},{1:9},{1:10},{1:15},{1:20},{1:25},{1:30},{1:40},{1:50},{1:100},{1:150},{1:200}],'degree':[1,2,3], 'coef0':[1.0, 2.0]}\n",
    "\n",
    "gridSVM = svm.SVC()\n",
    "grid_search1_rand = RandomizedSearchCV(gridSVM, param_distributions=parameters1, n_iter=10, scoring='roc_auc', refit=True, verbose=1,return_train_score=False)\n",
    "grid_search1_rand.fit(all_data, all_labels)\n",
    "\n",
    "grid_search2_rand = RandomizedSearchCV(gridSVM, param_distributions=parameters2, n_iter=10, scoring='roc_auc', refit=True, verbose=1, return_train_score=False)\n",
    "grid_search2_rand.fit(all_data, all_labels)\n",
    "\n",
    "grid_search3_rand = RandomizedSearchCV(gridSVM, param_distributions=parameters3, n_iter=5, scoring='roc_auc', refit=True, verbose=1, return_train_score=False)\n",
    "grid_search3_rand.fit(all_data, all_labels)\n",
    "\n",
    "grid_search4_rand = RandomizedSearchCV(gridSVM, param_distributions=parameters4, n_iter=5, scoring='roc_auc', refit=True, verbose=1, return_train_score=False)\n",
    "grid_search4_rand.fit(all_data, all_labels)"
   ]
  },
  {
   "cell_type": "code",
   "execution_count": null,
   "metadata": {},
   "outputs": [],
   "source": [
    "# Results for Randomized Grid Searches\n",
    "print(grid_search1_rand.best_score_, grid_search1_rand.best_params_)\n",
    "print(grid_search2_rand.best_score_, grid_search2_rand.best_params_)\n",
    "print(grid_search3_rand.best_score_, grid_search3_rand.best_params_)\n",
    "print(grid_search4_rand.best_score_, grid_search4_rand.best_params_)"
   ]
  },
  {
   "cell_type": "code",
   "execution_count": null,
   "metadata": {},
   "outputs": [],
   "source": [
    "# Extensive Grid Searches for LBP (less parameters)\n",
    "\n",
    "# Scores for Grid Searches\n",
    "calculate_MCC = make_scorer(matthews_corrcoef)\n",
    "calculate_AUC = make_scorer(roc_auc_score)\n",
    "\n",
    "# Grid Search parameters\n",
    "parameters1 = {'C': [0.001, 0.01, 0.1, 0.5, 10, 100], 'gamma': [1e-4, 1e-3, 0.001, 0.01, 0.1], 'kernel': ['rbf'],\n",
    "              'class_weight':['balanced', {1:5},{1:10},{1:50}]}\n",
    "\n",
    "parameters2 = {'C': [0.001, 0.01, 0.1, 0.5, 10, 100], 'gamma': [1e-4, 1e-3, 0.001, 0.01, 0.1], 'kernel': ['sigmoid'],\n",
    "               'class_weight':['balanced', {1:5},{1:10},{1:30},{1:50}]}\n",
    "\n",
    "parameters3 = {'C': [0.001, 0.01, 0.1, 0.5, 10, 100],'kernel': ['linear'],\n",
    "               'class_weight':['balanced', None, {1:1},{1:5},{1:7},{1:10},{1:15},{1:20},{1:30},{1:100}]}\n",
    "\n",
    "parameters4 = {'C': [0.001, 0.01, 0.1, 0.5, 10], 'gamma': [1e-3, 0.01, 0.1], 'kernel': ['poly'],\n",
    "               'class_weight':['balanced',{1:5},{1:10},{1:50}],'degree':[1,3,5], 'coef0':[0.0, 0.5, 1.0]}\n",
    "\n",
    "gridSVM = svm.SVC()\n",
    "grid_search1_lbp = GridSearchCV(gridSVM, param_grid=parameters1, scoring='roc_auc', refit=True, n_jobs=2, pre_dispatch='2*n_jobs', cv=2, verbose=2, return_train_score=False)\n",
    "grid_search1_lbp.fit(all_data, all_labels)\n",
    "\n",
    "grid_search2_lbp = GridSearchCV(gridSVM, param_grid=parameters2, scoring='roc_auc', refit=True, n_jobs=2, pre_dispatch='2*n_jobs', cv=2, verbose=3, return_train_score=False)\n",
    "grid_search2_lbp.fit(all_data, all_labels)\n",
    "\n",
    "grid_search3_lbp = GridSearchCV(gridSVM, param_grid=parameters3, scoring='roc_auc', refit=True, n_jobs=2, pre_dispatch='2*n_jobs', cv=2, verbose=3, return_train_score=False)\n",
    "grid_search3_lbp.fit(all_data, all_labels)\n",
    "\n",
    "grid_search4_lbp = GridSearchCV(gridSVM, param_grid=parameters4, scoring='roc_auc', refit=True, n_jobs=2, pre_dispatch='2*n_jobs', cv=2, verbose=3, return_train_score=False)\n",
    "grid_search4_lbp.fit(all_data, all_labels)"
   ]
  },
  {
   "cell_type": "code",
   "execution_count": null,
   "metadata": {},
   "outputs": [],
   "source": [
    "# Results for extensive Grid Searches\n",
    "print(grid_search1_lbp.best_score_, grid_search1_lbp.best_params_)\n",
    "print(grid_search2_lbp.best_score_, grid_search2_lbp.best_params_)\n",
    "print(grid_search3_lbp.best_score_, grid_search3_lbp.best_params_)\n",
    "print(grid_search4_lbp.best_score_, grid_search4_lbp.best_params_)"
   ]
  }
 ],
 "metadata": {
  "kernelspec": {
   "display_name": "Python 3",
   "language": "python",
   "name": "python3"
  },
  "language_info": {
   "codemirror_mode": {
    "name": "ipython",
    "version": 3
   },
   "file_extension": ".py",
   "mimetype": "text/x-python",
   "name": "python",
   "nbconvert_exporter": "python",
   "pygments_lexer": "ipython3",
   "version": "3.6.4"
  }
 },
 "nbformat": 4,
 "nbformat_minor": 2
}
