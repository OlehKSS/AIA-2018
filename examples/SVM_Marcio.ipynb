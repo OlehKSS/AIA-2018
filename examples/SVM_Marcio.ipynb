{
 "cells": [
  {
   "cell_type": "code",
   "execution_count": 1,
   "metadata": {},
   "outputs": [],
   "source": [
    "import matplotlib.pyplot as plt\n",
    "%matplotlib inline\n",
    "import cv2\n",
    "import matplotlib.pyplot as plt\n",
    "import numpy as np\n",
    "import pandas as pd\n",
    "from scipy import interp\n",
    "from itertools import cycle\n",
    "from sklearn import svm, datasets, preprocessing\n",
    "from sklearn.svm import SVC  \n",
    "from sklearn.model_selection import train_test_split, GridSearchCV, RandomizedSearchCV\n",
    "from sklearn.metrics import classification_report, confusion_matrix, accuracy_score, matthews_corrcoef, roc_curve, auc, make_scorer, roc_auc_score\n",
    "from sklearn.utils import shuffle\n",
    "import bisect\n",
    "from scipy.stats import expon\n",
    "\n",
    "def line(x_coords, y_coords):\n",
    "    \"\"\"\n",
    "    Given a pair of coordinates (x1,y2), (x2,y2), define the line equation. Note that this is the entire line vs. t\n",
    "    the line segment.\n",
    "\n",
    "    Parameters\n",
    "    ----------\n",
    "    x_coords: Numpy array of 2 points corresponding to x1,x2\n",
    "    x_coords: Numpy array of 2 points corresponding to y1,y2\n",
    "\n",
    "    Returns\n",
    "    -------\n",
    "    (Gradient, intercept) tuple pair\n",
    "    \"\"\"    \n",
    "    if (x_coords.shape[0] < 2) or (y_coords.shape[0] < 2):\n",
    "        raise ValueError('At least 2 points are needed to compute'\n",
    "                         ' area under curve, but x.shape = %s' % p1.shape)\n",
    "    if ((x_coords[0]-x_coords[1]) == 0):\n",
    "        raise ValueError(\"gradient is infinity\")\n",
    "    gradient = (y_coords[0]-y_coords[1])/(x_coords[0]-x_coords[1])\n",
    "    intercept = y_coords[0] - gradient*1.0*x_coords[0]\n",
    "    return (gradient, intercept)\n",
    "\n",
    "def x_val_line_intercept(gradient, intercept, x_val):\n",
    "    \"\"\"\n",
    "    Given a x=X_val vertical line, what is the intersection point of that line with the \n",
    "    line defined by the gradient and intercept. Note: This can be further improved by using line\n",
    "    segments.\n",
    "\n",
    "    Parameters\n",
    "    ----------\n",
    "    gradient\n",
    "    intercept\n",
    "\n",
    "    Returns\n",
    "    -------\n",
    "    (x_val, y) corresponding to the intercepted point. Note that this will always return a result.\n",
    "    There is no check for whether the x_val is within the bounds of the line segment.\n",
    "    \"\"\"    \n",
    "    y = gradient*x_val + intercept\n",
    "    return (x_val, y)\n",
    "\n",
    "def get_fpr_tpr_for_thresh(fpr, tpr, thresh):\n",
    "    \"\"\"\n",
    "    Derive the partial ROC curve to the point based on the fpr threshold.\n",
    "\n",
    "    Parameters\n",
    "    ----------\n",
    "    fpr: Numpy array of the sorted FPR points that represent the entirety of the ROC.\n",
    "    tpr: Numpy array of the sorted TPR points that represent the entirety of the ROC.\n",
    "    thresh: The threshold based on the FPR to extract the partial ROC based to that value of the threshold.\n",
    "\n",
    "    Returns\n",
    "    -------\n",
    "    thresh_fpr: The FPR points that represent the partial ROC to the point of the fpr threshold.\n",
    "    thresh_tpr: The TPR points that represent the partial ROC to the point of the fpr threshold\n",
    "    \"\"\"    \n",
    "    p = bisect.bisect_left(fpr, thresh)\n",
    "    thresh_fpr = fpr[:p+1].copy()\n",
    "    thresh_tpr = tpr[:p+1].copy()\n",
    "    g, i = line(fpr[p-1:p+1], tpr[p-1:p+1])\n",
    "    new_point = x_val_line_intercept(g, i, thresh)\n",
    "    thresh_fpr[p] = new_point[0]\n",
    "    thresh_tpr[p] = new_point[1]\n",
    "    return thresh_fpr, thresh_tpr\n",
    "\n",
    "\n",
    "def partial_auc_scorer(fpr, tpr, decile=1):\n",
    "    \"\"\"\n",
    "    Derive the AUC based of the partial ROC curve from FPR=0 to FPR=decile threshold.\n",
    "\n",
    "    Parameters\n",
    "    ----------\n",
    "    y_actual: numpy array of the actual labels.\n",
    "    y_pred: Numpy array of The predicted probability scores.\n",
    "    decile: The threshold based on the FPR to extract the partial ROC based to that value of the threshold.\n",
    "\n",
    "    Returns\n",
    "    -------\n",
    "    AUC of the partial ROC. A value that ranges from 0 to 1.\n",
    "    \"\"\"        \n",
    "    fpr_thresh, tpr_thresh = get_fpr_tpr_for_thresh(fpr, tpr, decile)\n",
    "    return auc(fpr_thresh, tpr_thresh)"
   ]
  },
  {
   "cell_type": "code",
   "execution_count": 25,
   "metadata": {},
   "outputs": [],
   "source": [
    "# Loading of data and splitting in groups according to images\n",
    "# Regions of the same image will stay in the same Pandas Dataframe in the end (dataset_df1 or dataset_df2)\n",
    "\n",
    "# Load the dataset and groups by image filename\n",
    "filename = 'C:\\\\AIA-2018\\\\examples\\\\feature-tables\\\\train-data_1527086478.csv'\n",
    "data = pd.read_csv(filename)\n",
    "data = data.drop(['Unnamed: 0'],axis=1)\n",
    "data = data.sample(frac=1).reset_index(drop=True)\n",
    "data_per_imgfile = list(data.groupby('img_name'))\n",
    "np.random.shuffle(data_per_imgfile)\n",
    "\n",
    "# Splits in two datasets, for training and testing, with all regions associated to one image in the same set\n",
    "data1 = []\n",
    "data2 = []\n",
    "i = 0\n",
    "for name, group in data_per_imgfile:\n",
    "    if i % 2 == 0:\n",
    "        train = data[data['img_name']==name]\n",
    "        data1.append(train)\n",
    "    else:\n",
    "        test = data[data['img_name']==name]\n",
    "        data2.append(test)\n",
    "    i += 1\n",
    "dataset_df1 = pd.concat(data1)\n",
    "dataset_df2 = pd.concat(data2)"
   ]
  },
  {
   "cell_type": "code",
   "execution_count": 26,
   "metadata": {},
   "outputs": [],
   "source": [
    "# Converts from dataframe to numpy array\n",
    "# Change here (or copy the code) if you want to select only some of the features to the array\n",
    "# (only texture features, only geomatrical features...)\n",
    "\n",
    "# Conversion from pandas dataframe to numpy array\n",
    "# Keeps all the features from the original csv file\n",
    "Feature = dataset_df1.drop(['class_id','img_name'], axis=1)\n",
    "Target  = dataset_df1['class_id']\n",
    "dataset01_data = Feature.as_matrix()\n",
    "dataset01_labels = Target.as_matrix()\n",
    "\n",
    "Feature = dataset_df2.drop(['class_id','img_name'], axis=1)\n",
    "Target  = dataset_df2['class_id']\n",
    "dataset02_data = Feature.as_matrix()\n",
    "dataset02_labels = Target.as_matrix()\n",
    "\n",
    "# Shuflles the datasets and creates one variable with labels for all the samples\n",
    "dataset01_data, dataset01_labels = shuffle(dataset01_data, dataset01_labels, random_state=None)\n",
    "dataset02_data, dataset02_labels = shuffle(dataset02_data, dataset02_labels, random_state=None)\n",
    "all_data = np.vstack((dataset01_data, dataset02_data))\n",
    "all_labels = np.concatenate((dataset01_labels, dataset02_labels),axis=0)\n",
    "\n",
    "# Data standardization for each dataset (two methods)\n",
    "dataset01_data = preprocessing.StandardScaler().fit_transform(dataset01_data)\n",
    "dataset02_data = preprocessing.StandardScaler().fit_transform(dataset02_data)\n",
    "all_data = preprocessing.StandardScaler().fit_transform(all_data)\n",
    "#dataset01_data = preprocessing.robust_scale(dataset01_data)fit_transform\n",
    "#dataset02_data = preprocessing.robust_scale(dataset02_data)"
   ]
  },
  {
   "cell_type": "code",
   "execution_count": 29,
   "metadata": {},
   "outputs": [],
   "source": [
    "# Trains and tests the classifier with both datasets (first considers the first dataset as the training set and the second as\n",
    "# test, then inverts it)\n",
    "\n",
    "# Classifier parameters\n",
    "#svclassifier = SVC(C=10, class_weight={1: 20}, gamma=0.0001, kernel='rbf', probability=True)\n",
    "svclassifier = SVC(C=7, class_weight={1:15}, gamma=0.001, kernel='sigmoid', probability=True)\n",
    "#svclassifier = SVC(C=0.001, class_weight={1:20}, kernel='linear', probability=True)\n",
    "#svclassifier = SVC(C=0.5, class_weight={1: 10}, gamma=0.01, kernel='poly', degree=1, coef0=1.0, probability=True)\n",
    "\n",
    "# Trains classifier in DataSet01 and tests in DataSet02\n",
    "svclassifier.fit(dataset01_data, dataset01_labels)\n",
    "prob1 = svclassifier.predict_proba(dataset02_data)\n",
    "prob1 = np.column_stack((prob1,dataset02_labels))\n",
    "\n",
    "# Trains classifier in DataSet02 and tests in DataSet01\n",
    "svclassifier.fit(dataset02_data, dataset02_labels)\n",
    "prob2 = svclassifier.predict_proba(dataset01_data)\n",
    "prob2 = np.column_stack((prob2,dataset01_labels))\n",
    "\n",
    "# Calculate the probabilities taking both tests into account\n",
    "full_prob = np.concatenate((prob1,prob2),axis=0)"
   ]
  },
  {
   "cell_type": "code",
   "execution_count": 30,
   "metadata": {},
   "outputs": [
    {
     "data": {
      "image/png": "[encoded data removed]",
      "text/plain": [
       "<matplotlib.figure.Figure at 0x1f7ef555518>"
      ]
     },
     "metadata": {},
     "output_type": "display_data"
    },
    {
     "name": "stdout",
     "output_type": "stream",
     "text": [
      "Area under the original ROC curve for our classifier: 0.94\n",
      "Partial area under the FROC curve for FPPI between 0 and 1: 0.59\n"
     ]
    }
   ],
   "source": [
    "# FROC Curve section for the cross-validation test\n",
    "false_positive_rate, true_positive_rate, thresholds = roc_curve(full_prob[:,-1], full_prob[:,1], pos_label=1, drop_intermediate=True)\n",
    "roc_auc = auc(false_positive_rate, true_positive_rate)\n",
    "\n",
    "# Counts to adjust the TPR and to create the False Positive per Image\n",
    "unique, counts = np.unique(full_prob[:,-1], return_counts=True)\n",
    "num_img = 410\n",
    "num_pos_img = 115\n",
    "regions = full_prob[:,-1].shape[0]\n",
    "pos_reg = counts[1]\n",
    "neg_reg = counts[0]\n",
    "neg_reg_per_img = neg_reg / num_img\n",
    "false_positive_rate = false_positive_rate * neg_reg_per_img\n",
    "true_positive_rate = true_positive_rate * pos_reg / num_pos_img\n",
    "\n",
    "# Calculates Partial AUC\n",
    "partial_AUC = partial_auc_scorer(false_positive_rate, true_positive_rate, 1)\n",
    "\n",
    "# Plots the FROC Curve\n",
    "plt.title('Free Response ROC Curve')\n",
    "plt.plot(false_positive_rate, true_positive_rate, 'b',label='Partial AUC (FPPI = 0:1) = %0.2f'% partial_AUC)\n",
    "plt.legend(loc='lower right')\n",
    "plt.xlim([-0,5])\n",
    "plt.ylim([-0,1])\n",
    "plt.ylabel('True Positive Rate')\n",
    "plt.xlabel('False Positive per Image (FPPI)')\n",
    "plt.grid(color='k', linestyle='dotted', linewidth=0.5, alpha=0.5)\n",
    "plt.show()\n",
    "\n",
    "print('Area under the original ROC curve for our classifier: %0.2f'% roc_auc)\n",
    "print('Partial area under the FROC curve for FPPI between 0 and 1: %0.5f'% partial_AUC)"
   ]
  },
  {
   "cell_type": "code",
   "execution_count": 31,
   "metadata": {},
   "outputs": [
    {
     "name": "stdout",
     "output_type": "stream",
     "text": [
      "Fitting 2 folds for each of 1260 candidates, totalling 2520 fits\n"
     ]
    },
    {
     "name": "stderr",
     "output_type": "stream",
     "text": [
      "[Parallel(n_jobs=1)]: Done 2520 out of 2520 | elapsed:  8.3min finished\n"
     ]
    },
    {
     "name": "stdout",
     "output_type": "stream",
     "text": [
      "Fitting 2 folds for each of 1300 candidates, totalling 2600 fits\n"
     ]
    },
    {
     "name": "stderr",
     "output_type": "stream",
     "text": [
      "[Parallel(n_jobs=1)]: Done 2600 out of 2600 | elapsed:  8.4min finished\n"
     ]
    },
    {
     "name": "stdout",
     "output_type": "stream",
     "text": [
      "Fitting 2 folds for each of 256 candidates, totalling 512 fits\n"
     ]
    },
    {
     "name": "stderr",
     "output_type": "stream",
     "text": [
      "[Parallel(n_jobs=1)]: Done 512 out of 512 | elapsed: 12.1min finished\n"
     ]
    },
    {
     "name": "stdout",
     "output_type": "stream",
     "text": [
      "Fitting 2 folds for each of 3200 candidates, totalling 6400 fits\n"
     ]
    },
    {
     "name": "stderr",
     "output_type": "stream",
     "text": [
      "[Parallel(n_jobs=1)]: Done 6400 out of 6400 | elapsed: 18.0min finished\n"
     ]
    },
    {
     "data": {
      "text/plain": [
       "GridSearchCV(cv=2, error_score='raise',\n",
       "       estimator=SVC(C=1.0, cache_size=200, class_weight=None, coef0=0.0,\n",
       "  decision_function_shape='ovr', degree=3, gamma='auto', kernel='rbf',\n",
       "  max_iter=-1, probability=False, random_state=None, shrinking=True,\n",
       "  tol=0.001, verbose=False),\n",
       "       fit_params=None, iid=True, n_jobs=1,\n",
       "       param_grid={'C': [0.01, 0.1, 0.3, 0.5, 1, 7, 10, 100], 'gamma': [0.001, 0.01, 0.05, 0.1], 'kernel': ['poly'], 'class_weight': ['balanced', {1: 5}, {1: 10}, {1: 50}], 'degree': [1, 3, 5, 7, 9], 'coef0': [0.0, 0.5, 1.0, 1.5, 2.0]},\n",
       "       pre_dispatch='2*n_jobs', refit=True, return_train_score=False,\n",
       "       scoring='roc_auc', verbose=1)"
      ]
     },
     "execution_count": 31,
     "metadata": {},
     "output_type": "execute_result"
    }
   ],
   "source": [
    "# Extensive Grid Searches\n",
    "\n",
    "# Scores for Grid Searches\n",
    "calculate_MCC = make_scorer(matthews_corrcoef)\n",
    "calculate_AUC = make_scorer(roc_auc_score)\n",
    "\n",
    "# Grid Search parameters\n",
    "parameters1 = {'C': [0.001, 0.01, 0.1, 0.5, 5, 7, 10, 20, 50, 200], 'gamma': [1e-4, 1e-3, 0.0003, 0.0005, 0.001, 0.01, 0.05, 0.1, 0.5], 'kernel': ['rbf'],\n",
    "              'class_weight':['balanced', None, {1:1},{1:3},{1:5},{1:7},{1:9},{1:10},{1:15},{1:20},{1:25},{1:30},{1:50},{1:100}]}\n",
    "\n",
    "parameters2 = {'C': [0.001, 0.01, 0.1, 0.5, 5, 7, 9, 10, 50, 200], 'gamma': [1e-4, 1e-3, 0.0005, 0.001, 0.005, 0.01, 0.03, 0.05, 0.1, 0.5], 'kernel': ['sigmoid'],\n",
    "               'class_weight':['balanced', None, {1:1},{1:3},{1:5},{1:7},{1:9},{1:10},{1:15},{1:17},{1:20},{1:50},{1:100}]}\n",
    "\n",
    "parameters3 = {'C': [0.0001, 0.0005, 0.001, 0.003, 0.005, 0.01, 0.1, 0.5, 5, 7, 8, 9, 10, 15, 20],'kernel': ['linear'],\n",
    "               'class_weight':['balanced', None, {1:1},{1:3},{1:5},{1:7},{1:9},{1:10},{1:15},{1:20},{1:22},{1:24},{1:30},{1:40},{1:50},{1:100}]}\n",
    "\n",
    "parameters4 = {'C': [0.01, 0.1, 0.3, 0.5, 1, 7, 10, 100], 'gamma': [1e-3, 0.01, 0.05, 0.1], 'kernel': ['poly'],\n",
    "               'class_weight':['balanced',{1:5},{1:10},{1:50}],'degree':[1,3,5], 'coef0':[0.0, 0.5, 1.0, 1.5]}\n",
    "\n",
    "gridSVM = svm.SVC()\n",
    "grid_search1 = GridSearchCV(gridSVM, param_grid=parameters1, scoring='roc_auc', refit=True, verbose=1, return_train_score=False)\n",
    "grid_search1.fit(all_data, all_labels)\n",
    "\n",
    "grid_search2 = GridSearchCV(gridSVM, param_grid=parameters2, scoring='roc_auc', refit=True, verbose=1, return_train_score=False)\n",
    "grid_search2.fit(all_data, all_labels)\n",
    "\n",
    "grid_search3 = GridSearchCV(gridSVM, param_grid=parameters3, scoring='roc_auc', refit=True, verbose=1, return_train_score=False)\n",
    "grid_search3.fit(all_data, all_labels)\n",
    "\n",
    "grid_search4 = GridSearchCV(gridSVM, param_grid=parameters4, scoring='roc_auc', refit=True, verbose=1, return_train_score=False)\n",
    "grid_search4.fit(all_data, all_labels)"
   ]
  },
  {
   "cell_type": "code",
   "execution_count": 32,
   "metadata": {},
   "outputs": [
    {
     "name": "stdout",
     "output_type": "stream",
     "text": [
      "0.937149986942518 {'C': 10, 'class_weight': {1: 20}, 'gamma': 0.0001, 'kernel': 'rbf'}\n",
      "0.9396773351130199 {'C': 50, 'class_weight': {1: 3}, 'gamma': 0.001, 'kernel': 'sigmoid'}\n",
      "0.9380640106781184 {'C': 0.003, 'class_weight': {1: 20}, 'kernel': 'linear'}\n",
      "0.9377564344369325 {'C': 7, 'class_weight': {1: 10}, 'coef0': 0.0, 'degree': 1, 'gamma': 0.001, 'kernel': 'poly'}\n"
     ]
    }
   ],
   "source": [
    "# Results for extensive Grid Searches\n",
    "print(grid_search1.best_score_, grid_search1.best_params_)\n",
    "print(grid_search2.best_score_, grid_search2.best_params_)\n",
    "print(grid_search3.best_score_, grid_search3.best_params_)\n",
    "print(grid_search4.best_score_, grid_search4.best_params_)"
   ]
  },
  {
   "cell_type": "code",
   "execution_count": 7,
   "metadata": {},
   "outputs": [
    {
     "name": "stdout",
     "output_type": "stream",
     "text": [
      "Fitting 2 folds for each of 10 candidates, totalling 20 fits\n"
     ]
    },
    {
     "name": "stderr",
     "output_type": "stream",
     "text": [
      "[Parallel(n_jobs=1)]: Done  20 out of  20 | elapsed:    1.5s finished\n"
     ]
    },
    {
     "name": "stdout",
     "output_type": "stream",
     "text": [
      "Fitting 2 folds for each of 10 candidates, totalling 20 fits\n"
     ]
    },
    {
     "name": "stderr",
     "output_type": "stream",
     "text": [
      "[Parallel(n_jobs=1)]: Done  20 out of  20 | elapsed:    4.5s finished\n"
     ]
    },
    {
     "name": "stdout",
     "output_type": "stream",
     "text": [
      "Fitting 2 folds for each of 10 candidates, totalling 20 fits\n"
     ]
    },
    {
     "name": "stderr",
     "output_type": "stream",
     "text": [
      "[Parallel(n_jobs=1)]: Done  20 out of  20 | elapsed:   57.8s finished\n"
     ]
    },
    {
     "name": "stdout",
     "output_type": "stream",
     "text": [
      "Fitting 2 folds for each of 10 candidates, totalling 20 fits\n"
     ]
    },
    {
     "name": "stderr",
     "output_type": "stream",
     "text": [
      "[Parallel(n_jobs=1)]: Done  20 out of  20 | elapsed:   34.1s finished\n"
     ]
    },
    {
     "data": {
      "text/plain": [
       "RandomizedSearchCV(cv=2, error_score='raise',\n",
       "          estimator=SVC(C=1.0, cache_size=200, class_weight=None, coef0=0.0,\n",
       "  decision_function_shape='ovr', degree=3, gamma='auto', kernel='rbf',\n",
       "  max_iter=-1, probability=False, random_state=None, shrinking=True,\n",
       "  tol=0.001, verbose=False),\n",
       "          fit_params=None, iid=True, n_iter=10, n_jobs=1,\n",
       "          param_distributions={'C': <scipy.stats._distn_infrastructure.rv_frozen object at 0x000001F7F3B59C50>, 'gamma': <scipy.stats._distn_infrastructure.rv_frozen object at 0x000001F7F3B59EB8>, 'kernel': ['poly'], 'class_weight': ['balanced', None, {1: 1}, {1: 3}, {1: 5}, {1: 7}, {1: 9}, {1: 10}, {1: 15}, {1: 20}, {1: 25}, {1: 30}, {1: 40}, {1: 50}, {1: 100}, {1: 150}, {1: 200}], 'degree': [1, 2, 3], 'coef0': [1.0, 2.0]},\n",
       "          pre_dispatch='2*n_jobs', random_state=None, refit=True,\n",
       "          return_train_score=False, scoring='roc_auc', verbose=1)"
      ]
     },
     "execution_count": 7,
     "metadata": {},
     "output_type": "execute_result"
    }
   ],
   "source": [
    "# Randomized Grid Searches\n",
    "\n",
    "# Scores for Grid Searches\n",
    "calculate_MCC = make_scorer(matthews_corrcoef)\n",
    "calculate_AUC = make_scorer(roc_auc_score)\n",
    "\n",
    "# Grid Search parameters\n",
    "parameters1 = {'C': expon(scale=100), 'gamma': expon(scale=.1), 'kernel': ['rbf'],\n",
    "              'class_weight':['balanced', None, {1:1},{1:3},{1:5},{1:7},{1:9},{1:10},{1:15},{1:20},{1:25},{1:30},{1:40},{1:50},{1:100},{1:150},{1:200}]}\n",
    "\n",
    "parameters2 = {'C': expon(scale=100), 'gamma': expon(scale=.1), 'kernel': ['sigmoid'],\n",
    "              'class_weight':['balanced', None, {1:1},{1:3},{1:5},{1:7},{1:9},{1:10},{1:15},{1:20},{1:25},{1:30},{1:40},{1:50},{1:100},{1:150},{1:200}]}\n",
    "\n",
    "parameters3 = {'C': expon(scale=100),'kernel': ['linear'],\n",
    "               'class_weight':['balanced', None, {1:1},{1:3},{1:5},{1:7},{1:9},{1:10},{1:15},{1:20},{1:25},{1:30},{1:50},{1:100}]}\n",
    "\n",
    "parameters4 = {'C': expon(scale=100), 'gamma': expon(scale=.1), 'kernel': ['poly'],\n",
    "               'class_weight':['balanced', None, {1:1},{1:3},{1:5},{1:7},{1:9},{1:10},{1:15},{1:20},{1:25},{1:30},{1:40},{1:50},{1:100},{1:150},{1:200}],'degree':[1,2,3], 'coef0':[1.0, 2.0]}\n",
    "\n",
    "gridSVM = svm.SVC()\n",
    "grid_search1_rand = RandomizedSearchCV(gridSVM, param_distributions=parameters1, n_iter=100, scoring='roc_auc', refit=True, verbose=1,return_train_score=False)\n",
    "grid_search1_rand.fit(all_data, all_labels)\n",
    "\n",
    "grid_search2_rand = RandomizedSearchCV(gridSVM, param_distributions=parameters2, n_iter=100, scoring='roc_auc', refit=True, verbose=1, return_train_score=False)\n",
    "grid_search2_rand.fit(all_data, all_labels)\n",
    "\n",
    "grid_search3_rand = RandomizedSearchCV(gridSVM, param_distributions=parameters3, n_iter=50, scoring='roc_auc', refit=True, verbose=1, return_train_score=False)\n",
    "grid_search3_rand.fit(all_data, all_labels)\n",
    "\n",
    "grid_search4_rand = RandomizedSearchCV(gridSVM, param_distributions=parameters4, n_iter=50, scoring='roc_auc', refit=True, verbose=1, return_train_score=False)\n",
    "grid_search4_rand.fit(all_data, all_labels)"
   ]
  },
  {
   "cell_type": "code",
   "execution_count": 9,
   "metadata": {},
   "outputs": [
    {
     "name": "stdout",
     "output_type": "stream",
     "text": [
      "0.8997040304094246 {'C': 18.00800597015087, 'class_weight': {1: 30}, 'gamma': 0.017700913537321002, 'kernel': 'rbf'}\n",
      "0.88211705307141 {'C': 56.39982588227458, 'class_weight': {1: 50}, 'gamma': 0.010718181447361037, 'kernel': 'sigmoid'}\n",
      "0.9343963090851057 {'C': 25.54715712601775, 'class_weight': {1: 5}, 'kernel': 'linear'}\n",
      "0.9329890026985462 {'C': 275.7135198424183, 'class_weight': {1: 30}, 'coef0': 1.0, 'degree': 1, 'gamma': 0.2626990221182561, 'kernel': 'poly'}\n"
     ]
    }
   ],
   "source": [
    "# Results for Randomized Grid Searches\n",
    "\n",
    "print(grid_search1_rand.best_score_, grid_search1_rand.best_params_)\n",
    "print(grid_search2_rand.best_score_, grid_search2_rand.best_params_)\n",
    "print(grid_search3_rand.best_score_, grid_search3_rand.best_params_)\n",
    "print(grid_search4_rand.best_score_, grid_search4_rand.best_params_)"
   ]
  }
 ],
 "metadata": {
  "kernelspec": {
   "display_name": "Python 3",
   "language": "python",
   "name": "python3"
  },
  "language_info": {
   "codemirror_mode": {
    "name": "ipython",
    "version": 3
   },
   "file_extension": ".py",
   "mimetype": "text/x-python",
   "name": "python",
   "nbconvert_exporter": "python",
   "pygments_lexer": "ipython3",
   "version": "3.6.4"
  }
 },
 "nbformat": 4,
 "nbformat_minor": 2
}
