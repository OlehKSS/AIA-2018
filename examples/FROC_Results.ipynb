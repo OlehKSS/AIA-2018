{
 "cells": [
  {
   "cell_type": "markdown",
   "metadata": {},
   "source": [
    "# Inbalanced learn examples"
   ]
  },
  {
   "cell_type": "markdown",
   "metadata": {},
   "source": [
    " Using the module inbalanced learn to balanced our dataset (increase positives)\n",
    " To install \"pip install -U imbalanced-learn\" or \"conda install -c glemaitre imbalanced-learn\""
   ]
  },
  {
   "cell_type": "code",
   "execution_count": 1,
   "metadata": {},
   "outputs": [],
   "source": [
    "import imblearn\n",
    "import matplotlib.pyplot as plt\n",
    "%matplotlib inline\n",
    "import cv2\n",
    "import matplotlib.pyplot as plt\n",
    "import numpy as np\n",
    "import pandas as pd\n",
    "from scipy import interp\n",
    "from itertools import cycle\n",
    "from sklearn import svm, datasets, preprocessing\n",
    "from sklearn.svm import SVC  \n",
    "from sklearn.model_selection import train_test_split, GridSearchCV\n",
    "from sklearn.metrics import classification_report, confusion_matrix, accuracy_score, matthews_corrcoef, roc_curve, auc, make_scorer\n",
    "from sklearn.utils import shuffle\n",
    "from sklearn.model_selection import StratifiedKFold\n",
    "from sklearn.ensemble import AdaBoostClassifier\n",
    "import bisect\n",
    "from immas import classification\n",
    "from sklearn.utils import shuffle\n",
    "\n",
    "from imblearn.over_sampling import RandomOverSampler, SMOTE, ADASYN\n",
    "from imblearn.combine import SMOTEENN, SMOTETomek\n",
    "from collections import Counter"
   ]
  },
  {
   "cell_type": "code",
   "execution_count": 2,
   "metadata": {},
   "outputs": [],
   "source": [
    "SVM_baseline = []\n",
    "FROC_baseline = []\n",
    "SVM_resampled = []\n",
    "FROC_resampled = []\n",
    "labels = []"
   ]
  },
  {
   "cell_type": "code",
   "execution_count": 3,
   "metadata": {},
   "outputs": [
    {
     "name": "stdout",
     "output_type": "stream",
     "text": [
      "Number of images in the dataset 01: 205\n",
      "Number of images in the dataset 02: 205\n",
      "Number of regions in dataset 01: 3234\n",
      "Number of regions in dataset 02: 3142\n",
      "Area under the original ROC curve for our classifier: 0.93\n",
      "Partial area under the FROC curve for FPPI between 0 and 1: 0.52380\n",
      "(3142, 2)\n",
      "(3142, 25)\n",
      "Area under the original ROC curve for our classifier: 0.94\n",
      "Partial area under the FROC curve for FPPI between 0 and 1: 0.56770\n",
      "Number of images in the dataset 01: 205\n",
      "Number of images in the dataset 02: 205\n",
      "Number of regions in dataset 01: 3078\n",
      "Number of regions in dataset 02: 3298\n",
      "Area under the original ROC curve for our classifier: 0.94\n",
      "Partial area under the FROC curve for FPPI between 0 and 1: 0.54159\n",
      "(3298, 2)\n",
      "(3298, 25)\n",
      "Area under the original ROC curve for our classifier: 0.94\n",
      "Partial area under the FROC curve for FPPI between 0 and 1: 0.56248\n",
      "Number of images in the dataset 01: 205\n",
      "Number of images in the dataset 02: 205\n",
      "Number of regions in dataset 01: 3088\n",
      "Number of regions in dataset 02: 3288\n",
      "Area under the original ROC curve for our classifier: 0.94\n",
      "Partial area under the FROC curve for FPPI between 0 and 1: 0.57097\n",
      "(3288, 2)\n",
      "(3288, 25)\n",
      "Area under the original ROC curve for our classifier: 0.94\n",
      "Partial area under the FROC curve for FPPI between 0 and 1: 0.56409\n",
      "Number of images in the dataset 01: 205\n",
      "Number of images in the dataset 02: 205\n",
      "Number of regions in dataset 01: 3322\n",
      "Number of regions in dataset 02: 3054\n",
      "Area under the original ROC curve for our classifier: 0.91\n",
      "Partial area under the FROC curve for FPPI between 0 and 1: 0.55659\n",
      "(3054, 2)\n",
      "(3054, 25)\n",
      "Area under the original ROC curve for our classifier: 0.94\n",
      "Partial area under the FROC curve for FPPI between 0 and 1: 0.58698\n",
      "Number of images in the dataset 01: 205\n",
      "Number of images in the dataset 02: 205\n",
      "Number of regions in dataset 01: 3169\n",
      "Number of regions in dataset 02: 3207\n",
      "Area under the original ROC curve for our classifier: 0.93\n",
      "Partial area under the FROC curve for FPPI between 0 and 1: 0.52138\n",
      "(3207, 2)\n",
      "(3207, 25)\n",
      "Area under the original ROC curve for our classifier: 0.94\n",
      "Partial area under the FROC curve for FPPI between 0 and 1: 0.55765\n",
      "Number of images in the dataset 01: 205\n",
      "Number of images in the dataset 02: 205\n",
      "Number of regions in dataset 01: 3260\n",
      "Number of regions in dataset 02: 3116\n",
      "Area under the original ROC curve for our classifier: 0.94\n",
      "Partial area under the FROC curve for FPPI between 0 and 1: 0.55826\n",
      "(3116, 2)\n",
      "(3116, 25)\n",
      "Area under the original ROC curve for our classifier: 0.94\n",
      "Partial area under the FROC curve for FPPI between 0 and 1: 0.58541\n",
      "Number of images in the dataset 01: 205\n",
      "Number of images in the dataset 02: 205\n",
      "Number of regions in dataset 01: 3064\n",
      "Number of regions in dataset 02: 3312\n",
      "Area under the original ROC curve for our classifier: 0.94\n",
      "Partial area under the FROC curve for FPPI between 0 and 1: 0.58354\n",
      "(3312, 2)\n",
      "(3312, 25)\n",
      "Area under the original ROC curve for our classifier: 0.94\n",
      "Partial area under the FROC curve for FPPI between 0 and 1: 0.58346\n",
      "Number of images in the dataset 01: 205\n",
      "Number of images in the dataset 02: 205\n",
      "Number of regions in dataset 01: 3141\n",
      "Number of regions in dataset 02: 3235\n",
      "Area under the original ROC curve for our classifier: 0.93\n",
      "Partial area under the FROC curve for FPPI between 0 and 1: 0.56547\n",
      "(3235, 2)\n",
      "(3235, 25)\n",
      "Area under the original ROC curve for our classifier: 0.94\n",
      "Partial area under the FROC curve for FPPI between 0 and 1: 0.57018\n",
      "Number of images in the dataset 01: 205\n",
      "Number of images in the dataset 02: 205\n",
      "Number of regions in dataset 01: 3199\n",
      "Number of regions in dataset 02: 3177\n",
      "Area under the original ROC curve for our classifier: 0.94\n",
      "Partial area under the FROC curve for FPPI between 0 and 1: 0.54396\n",
      "(3177, 2)\n",
      "(3177, 25)\n",
      "Area under the original ROC curve for our classifier: 0.94\n",
      "Partial area under the FROC curve for FPPI between 0 and 1: 0.55281\n",
      "Number of images in the dataset 01: 205\n",
      "Number of images in the dataset 02: 205\n",
      "Number of regions in dataset 01: 3178\n",
      "Number of regions in dataset 02: 3198\n",
      "Area under the original ROC curve for our classifier: 0.94\n",
      "Partial area under the FROC curve for FPPI between 0 and 1: 0.55534\n",
      "(3198, 2)\n",
      "(3198, 25)\n",
      "Area under the original ROC curve for our classifier: 0.94\n",
      "Partial area under the FROC curve for FPPI between 0 and 1: 0.58112\n"
     ]
    }
   ],
   "source": [
    "for i in range (0,10):\n",
    "    # Loading of data and splitting in groups according to images\n",
    "    # Regions of the same image will stay in the same Pandas Dataframe in the end (dataset_df1 or dataset_df2)\n",
    "\n",
    "    # Load the dataset and groups by image filename\n",
    "    filename = \"C:\\\\AIA-2018\\\\examples\\\\feature-tables\\\\train-data_1527086478.csv\"\n",
    "    dataset_df1, dataset_df2 = classification.load_features_data(filename)\n",
    "\n",
    "    # Conversion from pandas dataframe to numpy array\n",
    "    # Keeps all the features from the original csv file\n",
    "    Feature = dataset_df1.drop(['class_id','img_name'], axis=1)\n",
    "    Target  = dataset_df1['class_id']\n",
    "    dataset01_data = Feature.as_matrix()\n",
    "    dataset01_labels = Target.as_matrix()\n",
    "\n",
    "    Feature = dataset_df2.drop(['class_id','img_name'], axis=1)\n",
    "    Target  = dataset_df2['class_id']\n",
    "    dataset02_data = Feature.as_matrix()\n",
    "    dataset02_labels = Target.as_matrix()\n",
    "\n",
    "    # Shuflles the datasets and creates one variable with labels for all the samples\n",
    "    dataset01_data, dataset01_labels = shuffle(dataset01_data, dataset01_labels, random_state=None)\n",
    "    dataset02_data, dataset02_labels = shuffle(dataset02_data, dataset02_labels, random_state=None)\n",
    "    all_data = np.vstack((dataset01_data, dataset02_data))\n",
    "    all_labels = np.concatenate((dataset01_labels, dataset02_labels),axis=0)\n",
    "\n",
    "    # Data standardization for each dataset (two methods)\n",
    "    dataset01_data = preprocessing.StandardScaler().fit_transform(dataset01_data)\n",
    "    dataset02_data = preprocessing.StandardScaler().fit_transform(dataset02_data)\n",
    "    all_data = preprocessing.StandardScaler().fit_transform(all_data)\n",
    "    #dataset01_data = preprocessing.robust_scale(dataset01_data)fit_transform\n",
    "    #dataset02_data = preprocessing.robust_scale(dataset02_data)\n",
    "\n",
    "    # Concatenates data and labels of dataset01 into one array\n",
    "    dataset01 = np.zeros((dataset01_data.shape[0],dataset01_data.shape[1]+1));\n",
    "    dataset01[:,:-1] = dataset01_data\n",
    "    dataset01[:,-1] = dataset01_labels\n",
    "\n",
    "    # Concatenates data and labels of dataset02 into one array\n",
    "    dataset02 = np.zeros((dataset02_data.shape[0],dataset02_data.shape[1]+1));\n",
    "    dataset02[:,:-1] = dataset02_data\n",
    "    dataset02[:,-1] = dataset02_labels\n",
    "    ROC_labels = np.concatenate((dataset02_labels,dataset01_labels))\n",
    "\n",
    "    # Running with parameters otpimized for features without LBP (oversampling)\n",
    "    oversampling_kernel = SMOTE(random_state=0,k_neighbors=10, m_neighbors=5,kind = 'svm')\n",
    "    SVM_osprob,_,FROC_os,_,_ = classification.optimal_oversampling_SVM (dataset01, dataset02, oversampling_kernel, kernel='rbf', features='all_except_LBP',show_plot='no')\n",
    "    SVM_prob,_,FROC_base,_,_ = classification.run_SVM (dataset01, dataset02, kernel='rbf', features='all_except_LBP',show_plot='no')\n",
    "    SVM_baseline.append(SVM_prob)\n",
    "    FROC_baseline.append(FROC_base)\n",
    "    SVM_resampled.append(SVM_osprob)\n",
    "    FROC_resampled.append(FROC_os)\n",
    "    labels.append(ROC_labels)"
   ]
  },
  {
   "cell_type": "code",
   "execution_count": 4,
   "metadata": {},
   "outputs": [],
   "source": [
    "SVM_baseline = np.vstack(SVM_baseline)\n",
    "SVM_resampled = np.vstack(SVM_resampled)\n",
    "labels = np.concatenate(labels)\n",
    "baseline_mean = np.mean(FROC_baseline)\n",
    "baseline_std = np.std(FROC_baseline)\n",
    "resampled_mean = np.mean(FROC_resampled)\n",
    "resampled_std = np.std(FROC_resampled)"
   ]
  },
  {
   "cell_type": "code",
   "execution_count": 5,
   "metadata": {},
   "outputs": [
    {
     "data": {
      "image/png": "[encoded data removed]",
      "text/plain": [
       "<matplotlib.figure.Figure at 0x21f89ee26d8>"
      ]
     },
     "metadata": {},
     "output_type": "display_data"
    },
    {
     "name": "stdout",
     "output_type": "stream",
     "text": [
      "Baseline SVM mean:  0.5711876988335101 Standard deviation:  0.011667263811245896\n",
      "Resampled SVM mean:  0.5520890774125132 Standard deviation:  0.018744516772438508\n"
     ]
    }
   ],
   "source": [
    "classification.get_roc([labels,labels], [SVM_baseline,SVM_resampled],leg_lbs=['Baseline SVM','Resampled SVM'])\n",
    "print('Baseline SVM mean: ', baseline_mean, 'Standard deviation: ', baseline_std)\n",
    "print('Resampled SVM mean: ', resampled_mean, 'Standard deviation: ', resampled_std)"
   ]
  }
 ],
 "metadata": {
  "kernelspec": {
   "display_name": "Python 3 (IMMAS)",
   "language": "python",
   "name": "immas"
  },
  "language_info": {
   "codemirror_mode": {
    "name": "ipython",
    "version": 3
   },
   "file_extension": ".py",
   "mimetype": "text/x-python",
   "name": "python",
   "nbconvert_exporter": "python",
   "pygments_lexer": "ipython3",
   "version": "3.6.4"
  }
 },
 "nbformat": 4,
 "nbformat_minor": 2
}
