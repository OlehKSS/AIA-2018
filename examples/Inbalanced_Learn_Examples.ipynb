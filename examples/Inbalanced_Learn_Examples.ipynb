{
 "cells": [
  {
   "cell_type": "markdown",
   "metadata": {},
   "source": [
    "# Inbalanced learn examples"
   ]
  },
  {
   "cell_type": "markdown",
   "metadata": {},
   "source": [
    " Using the module inbalanced learn to balanced our dataset (increase positives)\n",
    " To install \"pip install -U imbalanced-learn\" or \"conda install -c glemaitre imbalanced-learn\""
   ]
  },
  {
   "cell_type": "code",
   "execution_count": 1,
   "metadata": {
    "collapsed": true
   },
   "outputs": [],
   "source": [
    "import imblearn"
   ]
  },
  {
   "cell_type": "code",
   "execution_count": 2,
   "metadata": {
    "collapsed": true
   },
   "outputs": [],
   "source": [
    "import matplotlib.pyplot as plt\n",
    "%matplotlib inline\n",
    "import cv2\n",
    "import matplotlib.pyplot as plt\n",
    "import numpy as np\n",
    "import pandas as pd\n",
    "from scipy import interp\n",
    "from itertools import cycle\n",
    "from sklearn import svm, datasets, preprocessing\n",
    "from sklearn.svm import SVC  \n",
    "from sklearn.model_selection import train_test_split, GridSearchCV\n",
    "from sklearn.metrics import classification_report, confusion_matrix, accuracy_score, matthews_corrcoef, roc_curve, auc, make_scorer\n",
    "from sklearn.utils import shuffle\n",
    "from sklearn.model_selection import StratifiedKFold\n",
    "from sklearn.ensemble import AdaBoostClassifier\n",
    "import bisect\n",
    "from immas import classification\n",
    "from sklearn.utils import shuffle\n",
    "\n",
    "from imblearn.over_sampling import RandomOverSampler, SMOTE, ADASYN\n",
    "from imblearn.combine import SMOTEENN, SMOTETomek\n",
    "from collections import Counter"
   ]
  },
  {
   "cell_type": "code",
   "execution_count": 4,
   "metadata": {},
   "outputs": [
    {
     "name": "stdout",
     "output_type": "stream",
     "text": [
      "Number of images in the dataset 01: 205\n",
      "Number of images in the dataset 02: 205\n",
      "Number of regions in dataset 01: 3232\n",
      "Number of regions in dataset 02: 3144\n"
     ]
    }
   ],
   "source": [
    "# Loading of data and splitting in groups according to images\n",
    "# Regions of the same image will stay in the same Pandas Dataframe in the end (dataset_df1 or dataset_df2)\n",
    "\n",
    "# Load the dataset and groups by image filename\n",
    "filename = \"/Users/briannaburton/Documents/Masters/S2-Cassino/Advanced-Image-Analysis/AIA-2018/examples/feature-tables/train-data_1527086478.csv\"\n",
    "dataset_df1, dataset_df2 = classification.load_features_data(filename)\n",
    "\n",
    "# Conversion from pandas dataframe to numpy array\n",
    "# Keeps all the features from the original csv file\n",
    "Feature = dataset_df1.drop(['class_id','img_name'], axis=1)\n",
    "Target  = dataset_df1['class_id']\n",
    "dataset01_data = Feature.as_matrix()\n",
    "dataset01_labels = Target.as_matrix()\n",
    "\n",
    "Feature = dataset_df2.drop(['class_id','img_name'], axis=1)\n",
    "Target  = dataset_df2['class_id']\n",
    "dataset02_data = Feature.as_matrix()\n",
    "dataset02_labels = Target.as_matrix()\n",
    "\n",
    "# Shuflles the datasets and creates one variable with labels for all the samples\n",
    "dataset01_data, dataset01_labels = shuffle(dataset01_data, dataset01_labels, random_state=None)\n",
    "dataset02_data, dataset02_labels = shuffle(dataset02_data, dataset02_labels, random_state=None)\n",
    "all_data = np.vstack((dataset01_data, dataset02_data))\n",
    "all_labels = np.concatenate((dataset01_labels, dataset02_labels),axis=0)\n",
    "\n",
    "# Data standardization for each dataset (two methods)\n",
    "dataset01_data = preprocessing.StandardScaler().fit_transform(dataset01_data)\n",
    "dataset02_data = preprocessing.StandardScaler().fit_transform(dataset02_data)\n",
    "all_data = preprocessing.StandardScaler().fit_transform(all_data)\n",
    "#dataset01_data = preprocessing.robust_scale(dataset01_data)fit_transform\n",
    "#dataset02_data = preprocessing.robust_scale(dataset02_data)\n",
    "\n",
    "# Concatenates data and labels of dataset01 into one array\n",
    "dataset01 = np.zeros((dataset01_data.shape[0],dataset01_data.shape[1]+1));\n",
    "dataset01[:,:-1] = dataset01_data\n",
    "dataset01[:,-1] = dataset01_labels\n",
    "\n",
    "# Concatenates data and labels of dataset02 into one array\n",
    "dataset02 = np.zeros((dataset02_data.shape[0],dataset02_data.shape[1]+1));\n",
    "dataset02[:,:-1] = dataset02_data\n",
    "dataset02[:,-1] = dataset02_labels"
   ]
  },
  {
   "cell_type": "code",
   "execution_count": 5,
   "metadata": {},
   "outputs": [
    {
     "name": "stdout",
     "output_type": "stream",
     "text": [
      "Unbalanced Data Set\n"
     ]
    },
    {
     "data": {
      "image/png": "[encoded data removed]",
      "text/plain": [
       "<Figure size 432x288 with 1 Axes>"
      ]
     },
     "metadata": {},
     "output_type": "display_data"
    },
    {
     "name": "stdout",
     "output_type": "stream",
     "text": [
      "Area under the original ROC curve for our classifier: 0.94\n",
      "Partial area under the FROC curve for FPPI between 0 and 1: 0.52399\n",
      "RandomOverSampler\n"
     ]
    },
    {
     "ename": "AttributeError",
     "evalue": "module 'immas.classification' has no attribute 'oversampled_run_SVM'",
     "output_type": "error",
     "traceback": [
      "\u001b[0;31m---------------------------------------------------------------------------\u001b[0m",
      "\u001b[0;31mAttributeError\u001b[0m                            Traceback (most recent call last)",
      "\u001b[0;32m<ipython-input-5-7236e8c0817b>\u001b[0m in \u001b[0;36m<module>\u001b[0;34m()\u001b[0m\n\u001b[1;32m      2\u001b[0m \u001b[0m_\u001b[0m\u001b[0;34m,\u001b[0m\u001b[0m_\u001b[0m\u001b[0;34m,\u001b[0m\u001b[0m_\u001b[0m\u001b[0;34m,\u001b[0m\u001b[0m_\u001b[0m\u001b[0;34m,\u001b[0m\u001b[0m_\u001b[0m \u001b[0;34m=\u001b[0m \u001b[0mclassification\u001b[0m\u001b[0;34m.\u001b[0m\u001b[0mrun_SVM\u001b[0m \u001b[0;34m(\u001b[0m\u001b[0mdataset01\u001b[0m\u001b[0;34m,\u001b[0m \u001b[0mdataset02\u001b[0m\u001b[0;34m,\u001b[0m \u001b[0mkernel\u001b[0m\u001b[0;34m=\u001b[0m\u001b[0;34m'rbf'\u001b[0m\u001b[0;34m,\u001b[0m \u001b[0mfeatures\u001b[0m\u001b[0;34m=\u001b[0m\u001b[0;34m'all_except_LBP'\u001b[0m\u001b[0;34m)\u001b[0m\u001b[0;34m\u001b[0m\u001b[0m\n\u001b[1;32m      3\u001b[0m \u001b[0mprint\u001b[0m\u001b[0;34m(\u001b[0m\u001b[0;34m\"RandomOverSampler\"\u001b[0m\u001b[0;34m)\u001b[0m\u001b[0;34m\u001b[0m\u001b[0m\n\u001b[0;32m----> 4\u001b[0;31m \u001b[0m_\u001b[0m\u001b[0;34m,\u001b[0m\u001b[0m_\u001b[0m\u001b[0;34m,\u001b[0m\u001b[0m_\u001b[0m\u001b[0;34m,\u001b[0m\u001b[0m_\u001b[0m\u001b[0;34m,\u001b[0m\u001b[0m_\u001b[0m \u001b[0;34m=\u001b[0m \u001b[0mclassification\u001b[0m\u001b[0;34m.\u001b[0m\u001b[0moversampled_run_SVM\u001b[0m \u001b[0;34m(\u001b[0m\u001b[0mdataset01\u001b[0m\u001b[0;34m,\u001b[0m \u001b[0mdataset02\u001b[0m\u001b[0;34m,\u001b[0m \u001b[0mRandomOverSampler\u001b[0m\u001b[0;34m(\u001b[0m\u001b[0mrandom_state\u001b[0m\u001b[0;34m=\u001b[0m\u001b[0;36m0\u001b[0m\u001b[0;34m)\u001b[0m\u001b[0;34m,\u001b[0m \u001b[0mkernel\u001b[0m\u001b[0;34m=\u001b[0m\u001b[0;34m'rbf'\u001b[0m\u001b[0;34m,\u001b[0m \u001b[0mfeatures\u001b[0m\u001b[0;34m=\u001b[0m\u001b[0;34m'all_except_LBP'\u001b[0m\u001b[0;34m)\u001b[0m\u001b[0;34m\u001b[0m\u001b[0m\n\u001b[0m\u001b[1;32m      5\u001b[0m \u001b[0mprint\u001b[0m\u001b[0;34m(\u001b[0m\u001b[0;34m\"ADASYN\"\u001b[0m\u001b[0;34m)\u001b[0m\u001b[0;34m\u001b[0m\u001b[0m\n\u001b[1;32m      6\u001b[0m \u001b[0m_\u001b[0m\u001b[0;34m,\u001b[0m\u001b[0m_\u001b[0m\u001b[0;34m,\u001b[0m\u001b[0m_\u001b[0m\u001b[0;34m,\u001b[0m\u001b[0m_\u001b[0m\u001b[0;34m,\u001b[0m\u001b[0m_\u001b[0m \u001b[0;34m=\u001b[0m \u001b[0mclassification\u001b[0m\u001b[0;34m.\u001b[0m\u001b[0moversampled_run_SVM\u001b[0m \u001b[0;34m(\u001b[0m\u001b[0mdataset01\u001b[0m\u001b[0;34m,\u001b[0m \u001b[0mdataset02\u001b[0m\u001b[0;34m,\u001b[0m \u001b[0mADASYN\u001b[0m\u001b[0;34m(\u001b[0m\u001b[0mrandom_state\u001b[0m\u001b[0;34m=\u001b[0m\u001b[0;36m0\u001b[0m\u001b[0;34m)\u001b[0m\u001b[0;34m,\u001b[0m \u001b[0mkernel\u001b[0m\u001b[0;34m=\u001b[0m\u001b[0;34m'rbf'\u001b[0m\u001b[0;34m,\u001b[0m \u001b[0mfeatures\u001b[0m\u001b[0;34m=\u001b[0m\u001b[0;34m'all_except_LBP'\u001b[0m\u001b[0;34m)\u001b[0m\u001b[0;34m\u001b[0m\u001b[0m\n",
      "\u001b[0;31mAttributeError\u001b[0m: module 'immas.classification' has no attribute 'oversampled_run_SVM'"
     ]
    }
   ],
   "source": [
    "print(\"Unbalanced Data Set\")\n",
    "_,_,_,_,_ = classification.run_SVM (dataset01, dataset02, kernel='rbf', features='all_except_LBP')\n",
    "print(\"RandomOverSampler\")\n",
    "_,_,_,_,_ = classification.oversampled_run_SVM (dataset01, dataset02, RandomOverSampler(random_state=0), kernel='rbf', features='all_except_LBP')\n",
    "print(\"ADASYN\")\n",
    "_,_,_,_,_ = classification.oversampled_run_SVM (dataset01, dataset02, ADASYN(random_state=0), kernel='rbf', features='all_except_LBP')\n",
    "print(\"SMOTE with regular algorithm\")\n",
    "_,_,_,_,_ = classification.oversampled_run_SVM (dataset01, dataset02,  SMOTE(random_state=0), kernel='rbf', features='all_except_LBP')\n",
    "print(\"SMOTE with borderline1 algorithm\")\n",
    "_,_,_,_,_ = classification.oversampled_run_SVM (dataset01, dataset02,  SMOTE(random_state=0, kind = 'borderline1'), kernel='rbf', features='all_except_LBP')\n",
    "print(\"SMOTE with borderline2 algorithm\")\n",
    "_,_,_,_,_ = classification.oversampled_run_SVM (dataset01, dataset02,  SMOTE(random_state=0, kind = 'borderline2'), kernel='rbf', features='all_except_LBP')\n",
    "print(\"SMOTE with SVM algorithm\")\n",
    "_,_,_,_,_ = classification.oversampled_run_SVM (dataset01, dataset02,  SMOTE(random_state=0, kind = 'svm'), kernel='rbf', features='all_except_LBP')\n",
    "print(\"SMOTEENN(random_state=42)\")\n",
    "_,_,_,_,_ = classification.oversampled_run_SVM (dataset01, dataset02,  SMOTEENN(random_state=42), kernel='rbf', features='all_except_LBP')\n",
    "print(\"SMOTETomek(random_state=42)\")\n",
    "_,_,_,_,_ = classification.oversampled_run_SVM (dataset01, dataset02,  SMOTETomek(random_state=42), kernel='rbf', features='all_except_LBP')"
   ]
  },
  {
   "cell_type": "code",
   "execution_count": 7,
   "metadata": {},
   "outputs": [
    {
     "name": "stdout",
     "output_type": "stream",
     "text": [
      "random_state=0\n",
      "Area under the original ROC curve for our classifier: 0.93\n",
      "Partial area under the FROC curve for FPPI between 0 and 1: 0.51968\n",
      "random_state=None\n",
      "Area under the original ROC curve for our classifier: 0.93\n",
      "Partial area under the FROC curve for FPPI between 0 and 1: 0.52011\n",
      "random_state=10\n",
      "Area under the original ROC curve for our classifier: 0.93\n",
      "Partial area under the FROC curve for FPPI between 0 and 1: 0.52028\n",
      "ratio ='minority', random_state=0\n",
      "Area under the original ROC curve for our classifier: 0.93\n",
      "Partial area under the FROC curve for FPPI between 0 and 1: 0.51983\n",
      "ratio ='minority', random_state=None\n",
      "Area under the original ROC curve for our classifier: 0.93\n",
      "Partial area under the FROC curve for FPPI between 0 and 1: 0.51958\n"
     ]
    }
   ],
   "source": [
    "# Testing for Random Over Sampler\n",
    "print('random_state=0')\n",
    "_,_,_,_,_ = classification.oversampled_run_SVM (dataset01, dataset02, RandomOverSampler(random_state=0), kernel='rbf', features='all_except_LBP',show_plot = 'no')\n",
    "print('random_state=None')\n",
    "_,_,_,_,_ = classification.oversampled_run_SVM (dataset01, dataset02, RandomOverSampler(random_state=None), kernel='rbf', features='all_except_LBP',show_plot = 'no')\n",
    "print('random_state=10')\n",
    "_,_,_,_,_ = classification.oversampled_run_SVM (dataset01, dataset02, RandomOverSampler(random_state=10), kernel='rbf', features='all_except_LBP',show_plot = 'no')\n",
    "print(\"ratio ='minority', random_state=0\")\n",
    "_,_,_,_,_ = classification.oversampled_run_SVM (dataset01, dataset02, RandomOverSampler(ratio ='minority', random_state=0), kernel='rbf', features='all_except_LBP',show_plot = 'no')\n",
    "print(\"ratio ='minority', random_state=None\")\n",
    "_,_,_,_,_ = classification.oversampled_run_SVM (dataset01, dataset02, RandomOverSampler(ratio ='minority', random_state=None), kernel='rbf', features='all_except_LBP',show_plot = 'no')"
   ]
  },
  {
   "cell_type": "code",
   "execution_count": 9,
   "metadata": {},
   "outputs": [
    {
     "name": "stdout",
     "output_type": "stream",
     "text": [
      "randomstate=None, n_neighbors = 5\n",
      "Area under the original ROC curve for our classifier: 0.93\n",
      "Partial area under the FROC curve for FPPI between 0 and 1: 0.54291\n",
      "randomstate=None, n_neighbors = 1\n",
      "Area under the original ROC curve for our classifier: 0.94\n",
      "Partial area under the FROC curve for FPPI between 0 and 1: 0.53979\n",
      "randomstate=None, n_neighbors = 10\n",
      "Area under the original ROC curve for our classifier: 0.94\n",
      "Partial area under the FROC curve for FPPI between 0 and 1: 0.54738\n",
      "randomstate=None, n_neighbors = 20\n",
      "Area under the original ROC curve for our classifier: 0.93\n",
      "Partial area under the FROC curve for FPPI between 0 and 1: 0.54191\n"
     ]
    }
   ],
   "source": [
    "# Testing for ADASYN\n",
    "print('randomstate=None, n_neighbors = 1')\n",
    "_,_,_,_,_ = classification.oversampled_run_SVM (dataset01, dataset02, ADASYN(random_state=None,n_neighbors = 1), kernel='rbf', features='all_except_LBP',show_plot = 'no')\n",
    "print('randomstate=None, n_neighbors = 5')\n",
    "_,_,_,_,_ = classification.oversampled_run_SVM (dataset01, dataset02, ADASYN(random_state=None,n_neighbors = 5), kernel='rbf', features='all_except_LBP',show_plot = 'no')\n",
    "print('randomstate=None, n_neighbors = 10')\n",
    "_,_,_,_,_ = classification.oversampled_run_SVM (dataset01, dataset02, ADASYN(random_state=None,n_neighbors = 10), kernel='rbf', features='all_except_LBP',show_plot = 'no')\n",
    "print('randomstate=None, n_neighbors = 21')\n",
    "_,_,_,_,_ = classification.oversampled_run_SVM (dataset01, dataset02, ADASYN(random_state=None,n_neighbors = 21), kernel='rbf', features='all_except_LBP',show_plot = 'no')"
   ]
  },
  {
   "cell_type": "code",
   "execution_count": 10,
   "metadata": {},
   "outputs": [
    {
     "name": "stdout",
     "output_type": "stream",
     "text": [
      "random_state=0, k_neighbors=1, m_neighbors=10\n",
      "Area under the original ROC curve for our classifier: 0.94\n",
      "Partial area under the FROC curve for FPPI between 0 and 1: 0.54520\n",
      "random_state=0, k_neighbors=5, m_neighbors=10\n",
      "Area under the original ROC curve for our classifier: 0.94\n",
      "Partial area under the FROC curve for FPPI between 0 and 1: 0.54647\n",
      "random_state=0, k_neighbors=10, m_neighbors=10\n",
      "Area under the original ROC curve for our classifier: 0.94\n",
      "Partial area under the FROC curve for FPPI between 0 and 1: 0.54694\n",
      "random_state=0, k_neighbors=21, m_neighbors=10\n",
      "Area under the original ROC curve for our classifier: 0.94\n",
      "Partial area under the FROC curve for FPPI between 0 and 1: 0.54867\n",
      "random_state=0, k_neighbors=1, m_neighbors=20\n",
      "Area under the original ROC curve for our classifier: 0.94\n",
      "Partial area under the FROC curve for FPPI between 0 and 1: 0.54571\n",
      "random_state=0, k_neighbors=5, m_neighbors=20\n",
      "Area under the original ROC curve for our classifier: 0.94\n",
      "Partial area under the FROC curve for FPPI between 0 and 1: 0.54645\n",
      "random_state=0, k_neighbors=10, m_neighbors=20\n",
      "Area under the original ROC curve for our classifier: 0.94\n",
      "Partial area under the FROC curve for FPPI between 0 and 1: 0.54710\n",
      "random_state=0, k_neighbors=21, m_neighbors=20\n",
      "Area under the original ROC curve for our classifier: 0.94\n",
      "Partial area under the FROC curve for FPPI between 0 and 1: 0.54850\n",
      "random_state=0, k_neighbors=1, m_neighbors=5\n",
      "Area under the original ROC curve for our classifier: 0.94\n",
      "Partial area under the FROC curve for FPPI between 0 and 1: 0.54534\n",
      "random_state=0, k_neighbors=5, m_neighbors=5\n",
      "Area under the original ROC curve for our classifier: 0.94\n",
      "Partial area under the FROC curve for FPPI between 0 and 1: 0.54609\n",
      "random_state=0, k_neighbors=10, m_neighbors=5\n",
      "Area under the original ROC curve for our classifier: 0.94\n",
      "Partial area under the FROC curve for FPPI between 0 and 1: 0.54738\n",
      "random_state=0, k_neighbors=21, m_neighbors=5\n",
      "Area under the original ROC curve for our classifier: 0.94\n",
      "Partial area under the FROC curve for FPPI between 0 and 1: 0.54884\n"
     ]
    }
   ],
   "source": [
    "#Testing SMOTE with regular algorithm\n",
    "print(\"random_state=0, k_neighbors=1, m_neighbors=10\")\n",
    "_,_,_,_,_ = classification.oversampled_run_SVM (dataset01, dataset02,  SMOTE(random_state=0,k_neighbors=1, m_neighbors=10), kernel='rbf', features='all_except_LBP',show_plot = 'no')\n",
    "print(\"random_state=0, k_neighbors=5, m_neighbors=10\")\n",
    "_,_,_,_,_ = classification.oversampled_run_SVM (dataset01, dataset02,  SMOTE(random_state=0,k_neighbors=5, m_neighbors=10), kernel='rbf', features='all_except_LBP',show_plot = 'no')\n",
    "print(\"random_state=0, k_neighbors=10, m_neighbors=10\")\n",
    "_,_,_,_,_ = classification.oversampled_run_SVM (dataset01, dataset02,  SMOTE(random_state=0,k_neighbors=10, m_neighbors=10), kernel='rbf', features='all_except_LBP',show_plot = 'no')\n",
    "print(\"random_state=0, k_neighbors=21, m_neighbors=10\")\n",
    "_,_,_,_,_ = classification.oversampled_run_SVM (dataset01, dataset02,  SMOTE(random_state=0,k_neighbors=21, m_neighbors=10), kernel='rbf', features='all_except_LBP',show_plot = 'no')\n",
    "print(\"random_state=0, k_neighbors=1, m_neighbors=20\")\n",
    "_,_,_,_,_ = classification.oversampled_run_SVM (dataset01, dataset02,  SMOTE(random_state=0,k_neighbors=1, m_neighbors=20), kernel='rbf', features='all_except_LBP',show_plot = 'no')\n",
    "print(\"random_state=0, k_neighbors=5, m_neighbors=20\")\n",
    "_,_,_,_,_ = classification.oversampled_run_SVM (dataset01, dataset02,  SMOTE(random_state=0,k_neighbors=5, m_neighbors=20), kernel='rbf', features='all_except_LBP',show_plot = 'no')\n",
    "print(\"random_state=0, k_neighbors=10, m_neighbors=20\")\n",
    "_,_,_,_,_ = classification.oversampled_run_SVM (dataset01, dataset02,  SMOTE(random_state=0,k_neighbors=10, m_neighbors=20), kernel='rbf', features='all_except_LBP',show_plot = 'no')\n",
    "print(\"random_state=0, k_neighbors=21, m_neighbors=20\")\n",
    "_,_,_,_,_ = classification.oversampled_run_SVM (dataset01, dataset02,  SMOTE(random_state=0,k_neighbors=21, m_neighbors=20), kernel='rbf', features='all_except_LBP',show_plot = 'no')\n",
    "print(\"random_state=0, k_neighbors=1, m_neighbors=5\")\n",
    "_,_,_,_,_ = classification.oversampled_run_SVM (dataset01, dataset02,  SMOTE(random_state=0,k_neighbors=1, m_neighbors=10), kernel='rbf', features='all_except_LBP',show_plot = 'no')\n",
    "print(\"random_state=0, k_neighbors=5, m_neighbors=5\")\n",
    "_,_,_,_,_ = classification.oversampled_run_SVM (dataset01, dataset02,  SMOTE(random_state=0,k_neighbors=5, m_neighbors=10), kernel='rbf', features='all_except_LBP',show_plot = 'no')\n",
    "print(\"random_state=0, k_neighbors=10, m_neighbors=5\")\n",
    "_,_,_,_,_ = classification.oversampled_run_SVM (dataset01, dataset02,  SMOTE(random_state=0,k_neighbors=10, m_neighbors=10), kernel='rbf', features='all_except_LBP',show_plot = 'no')\n",
    "print(\"random_state=0, k_neighbors=21, m_neighbors=5\")\n",
    "_,_,_,_,_ = classification.oversampled_run_SVM (dataset01, dataset02,  SMOTE(random_state=0,k_neighbors=21, m_neighbors=10), kernel='rbf', features='all_except_LBP',show_plot = 'no')"
   ]
  },
  {
   "cell_type": "code",
   "execution_count": 11,
   "metadata": {},
   "outputs": [
    {
     "name": "stdout",
     "output_type": "stream",
     "text": [
      "random_state=0, k_neighbors=1, m_neighbors=10\n",
      "Area under the original ROC curve for our classifier: 0.94\n",
      "Partial area under the FROC curve for FPPI between 0 and 1: 0.53820\n",
      "random_state=0, k_neighbors=5, m_neighbors=10\n",
      "Area under the original ROC curve for our classifier: 0.94\n",
      "Partial area under the FROC curve for FPPI between 0 and 1: 0.54006\n",
      "random_state=0, k_neighbors=10, m_neighbors=10\n",
      "Area under the original ROC curve for our classifier: 0.94\n",
      "Partial area under the FROC curve for FPPI between 0 and 1: 0.53071\n",
      "random_state=0, k_neighbors=21, m_neighbors=10\n",
      "Area under the original ROC curve for our classifier: 0.94\n",
      "Partial area under the FROC curve for FPPI between 0 and 1: 0.54405\n",
      "random_state=0, k_neighbors=1, m_neighbors=20\n",
      "Area under the original ROC curve for our classifier: 0.94\n",
      "Partial area under the FROC curve for FPPI between 0 and 1: 0.52036\n",
      "random_state=0, k_neighbors=5, m_neighbors=20\n",
      "Area under the original ROC curve for our classifier: 0.94\n",
      "Partial area under the FROC curve for FPPI between 0 and 1: 0.52950\n",
      "random_state=0, k_neighbors=10, m_neighbors=20\n",
      "Area under the original ROC curve for our classifier: 0.94\n",
      "Partial area under the FROC curve for FPPI between 0 and 1: 0.53917\n",
      "random_state=0, k_neighbors=21, m_neighbors=20\n",
      "Area under the original ROC curve for our classifier: 0.94\n",
      "Partial area under the FROC curve for FPPI between 0 and 1: 0.55527\n",
      "random_state=0, k_neighbors=1, m_neighbors=5\n",
      "Area under the original ROC curve for our classifier: 0.94\n",
      "Partial area under the FROC curve for FPPI between 0 and 1: 0.53805\n",
      "random_state=0, k_neighbors=5, m_neighbors=5\n",
      "Area under the original ROC curve for our classifier: 0.94\n",
      "Partial area under the FROC curve for FPPI between 0 and 1: 0.54047\n",
      "random_state=0, k_neighbors=10, m_neighbors=5\n",
      "Area under the original ROC curve for our classifier: 0.94\n",
      "Partial area under the FROC curve for FPPI between 0 and 1: 0.53056\n",
      "random_state=0, k_neighbors=21, m_neighbors=5\n",
      "Area under the original ROC curve for our classifier: 0.94\n",
      "Partial area under the FROC curve for FPPI between 0 and 1: 0.54403\n"
     ]
    }
   ],
   "source": [
    "# Testing SMOTE with borderline1 algorithm\n",
    "print(\"random_state=0, k_neighbors=1, m_neighbors=10\")\n",
    "_,_,_,_,_ = classification.oversampled_run_SVM (dataset01, dataset02,  SMOTE(random_state=0,k_neighbors=1, m_neighbors=10,kind = 'borderline1'), kernel='rbf', features='all_except_LBP',show_plot = 'no')\n",
    "print(\"random_state=0, k_neighbors=5, m_neighbors=10\")\n",
    "_,_,_,_,_ = classification.oversampled_run_SVM (dataset01, dataset02,  SMOTE(random_state=0,k_neighbors=5, m_neighbors=10,kind = 'borderline1'), kernel='rbf', features='all_except_LBP',show_plot = 'no')\n",
    "print(\"random_state=0, k_neighbors=10, m_neighbors=10\")\n",
    "_,_,_,_,_ = classification.oversampled_run_SVM (dataset01, dataset02,  SMOTE(random_state=0,k_neighbors=10, m_neighbors=10,kind = 'borderline1'), kernel='rbf', features='all_except_LBP',show_plot = 'no')\n",
    "print(\"random_state=0, k_neighbors=21, m_neighbors=10\")\n",
    "_,_,_,_,_ = classification.oversampled_run_SVM (dataset01, dataset02,  SMOTE(random_state=0,k_neighbors=21, m_neighbors=10,kind = 'borderline1'), kernel='rbf', features='all_except_LBP',show_plot = 'no')\n",
    "print(\"random_state=0, k_neighbors=1, m_neighbors=20\")\n",
    "_,_,_,_,_ = classification.oversampled_run_SVM (dataset01, dataset02,  SMOTE(random_state=0,k_neighbors=1, m_neighbors=20,kind = 'borderline1'), kernel='rbf', features='all_except_LBP',show_plot = 'no')\n",
    "print(\"random_state=0, k_neighbors=5, m_neighbors=20\")\n",
    "_,_,_,_,_ = classification.oversampled_run_SVM (dataset01, dataset02,  SMOTE(random_state=0,k_neighbors=5, m_neighbors=20,kind = 'borderline1'), kernel='rbf', features='all_except_LBP',show_plot = 'no')\n",
    "print(\"random_state=0, k_neighbors=10, m_neighbors=20\")\n",
    "_,_,_,_,_ = classification.oversampled_run_SVM (dataset01, dataset02,  SMOTE(random_state=0,k_neighbors=10, m_neighbors=20,kind = 'borderline1'), kernel='rbf', features='all_except_LBP',show_plot = 'no')\n",
    "print(\"random_state=0, k_neighbors=21, m_neighbors=20\")\n",
    "_,_,_,_,_ = classification.oversampled_run_SVM (dataset01, dataset02,  SMOTE(random_state=0,k_neighbors=21, m_neighbors=20,kind = 'borderline1'), kernel='rbf', features='all_except_LBP',show_plot = 'no')\n",
    "print(\"random_state=0, k_neighbors=1, m_neighbors=5\")\n",
    "_,_,_,_,_ = classification.oversampled_run_SVM (dataset01, dataset02,  SMOTE(random_state=0,k_neighbors=1, m_neighbors=10,kind = 'borderline1'), kernel='rbf', features='all_except_LBP',show_plot = 'no')\n",
    "print(\"random_state=0, k_neighbors=5, m_neighbors=5\")\n",
    "_,_,_,_,_ = classification.oversampled_run_SVM (dataset01, dataset02,  SMOTE(random_state=0,k_neighbors=5, m_neighbors=10,kind = 'borderline1'), kernel='rbf', features='all_except_LBP',show_plot = 'no')\n",
    "print(\"random_state=0, k_neighbors=10, m_neighbors=5\")\n",
    "_,_,_,_,_ = classification.oversampled_run_SVM (dataset01, dataset02,  SMOTE(random_state=0,k_neighbors=10, m_neighbors=10,kind = 'borderline1'), kernel='rbf', features='all_except_LBP',show_plot = 'no')\n",
    "print(\"random_state=0, k_neighbors=21, m_neighbors=5\")\n",
    "_,_,_,_,_ = classification.oversampled_run_SVM (dataset01, dataset02,  SMOTE(random_state=0,k_neighbors=21, m_neighbors=10,kind = 'borderline1'), kernel='rbf', features='all_except_LBP',show_plot = 'no')"
   ]
  },
  {
   "cell_type": "code",
   "execution_count": 12,
   "metadata": {},
   "outputs": [
    {
     "name": "stdout",
     "output_type": "stream",
     "text": [
      "random_state=0, k_neighbors=1, m_neighbors=10\n",
      "Area under the original ROC curve for our classifier: 0.94\n",
      "Partial area under the FROC curve for FPPI between 0 and 1: 0.52481\n",
      "random_state=0, k_neighbors=5, m_neighbors=10\n",
      "Area under the original ROC curve for our classifier: 0.94\n",
      "Partial area under the FROC curve for FPPI between 0 and 1: 0.53048\n",
      "random_state=0, k_neighbors=10, m_neighbors=10\n",
      "Area under the original ROC curve for our classifier: 0.94\n",
      "Partial area under the FROC curve for FPPI between 0 and 1: 0.54284\n",
      "random_state=0, k_neighbors=21, m_neighbors=10\n",
      "Area under the original ROC curve for our classifier: 0.94\n",
      "Partial area under the FROC curve for FPPI between 0 and 1: 0.54148\n",
      "random_state=0, k_neighbors=1, m_neighbors=20\n",
      "Area under the original ROC curve for our classifier: 0.93\n",
      "Partial area under the FROC curve for FPPI between 0 and 1: 0.52653\n",
      "random_state=0, k_neighbors=5, m_neighbors=20\n",
      "Area under the original ROC curve for our classifier: 0.94\n",
      "Partial area under the FROC curve for FPPI between 0 and 1: 0.53300\n",
      "random_state=0, k_neighbors=10, m_neighbors=20\n",
      "Area under the original ROC curve for our classifier: 0.94\n",
      "Partial area under the FROC curve for FPPI between 0 and 1: 0.54619\n",
      "random_state=0, k_neighbors=21, m_neighbors=20\n",
      "Area under the original ROC curve for our classifier: 0.94\n",
      "Partial area under the FROC curve for FPPI between 0 and 1: 0.56492\n",
      "random_state=0, k_neighbors=1, m_neighbors=5\n",
      "Area under the original ROC curve for our classifier: 0.94\n",
      "Partial area under the FROC curve for FPPI between 0 and 1: 0.52420\n",
      "random_state=0, k_neighbors=5, m_neighbors=5\n",
      "Area under the original ROC curve for our classifier: 0.94\n",
      "Partial area under the FROC curve for FPPI between 0 and 1: 0.53037\n",
      "random_state=0, k_neighbors=10, m_neighbors=5\n",
      "Area under the original ROC curve for our classifier: 0.94\n",
      "Partial area under the FROC curve for FPPI between 0 and 1: 0.54316\n",
      "random_state=0, k_neighbors=21, m_neighbors=5\n",
      "Area under the original ROC curve for our classifier: 0.94\n",
      "Partial area under the FROC curve for FPPI between 0 and 1: 0.54066\n"
     ]
    }
   ],
   "source": [
    "# Testing SMOTE with borderline2 algorithm\n",
    "print(\"random_state=0, k_neighbors=1, m_neighbors=10\")\n",
    "_,_,_,_,_ = classification.oversampled_run_SVM (dataset01, dataset02,  SMOTE(random_state=0,k_neighbors=1, m_neighbors=10,kind = 'borderline2'), kernel='rbf', features='all_except_LBP',show_plot = 'no')\n",
    "print(\"random_state=0, k_neighbors=5, m_neighbors=10\")\n",
    "_,_,_,_,_ = classification.oversampled_run_SVM (dataset01, dataset02,  SMOTE(random_state=0,k_neighbors=5, m_neighbors=10,kind = 'borderline2'), kernel='rbf', features='all_except_LBP',show_plot = 'no')\n",
    "print(\"random_state=0, k_neighbors=10, m_neighbors=10\")\n",
    "_,_,_,_,_ = classification.oversampled_run_SVM (dataset01, dataset02,  SMOTE(random_state=0,k_neighbors=10, m_neighbors=10,kind = 'borderline2'), kernel='rbf', features='all_except_LBP',show_plot = 'no')\n",
    "print(\"random_state=0, k_neighbors=21, m_neighbors=10\")\n",
    "_,_,_,_,_ = classification.oversampled_run_SVM (dataset01, dataset02,  SMOTE(random_state=0,k_neighbors=21, m_neighbors=10,kind = 'borderline2'), kernel='rbf', features='all_except_LBP',show_plot = 'no')\n",
    "print(\"random_state=0, k_neighbors=1, m_neighbors=20\")\n",
    "_,_,_,_,_ = classification.oversampled_run_SVM (dataset01, dataset02,  SMOTE(random_state=0,k_neighbors=1, m_neighbors=20,kind = 'borderline2'), kernel='rbf', features='all_except_LBP',show_plot = 'no')\n",
    "print(\"random_state=0, k_neighbors=5, m_neighbors=20\")\n",
    "_,_,_,_,_ = classification.oversampled_run_SVM (dataset01, dataset02,  SMOTE(random_state=0,k_neighbors=5, m_neighbors=20,kind = 'borderline2'), kernel='rbf', features='all_except_LBP',show_plot = 'no')\n",
    "print(\"random_state=0, k_neighbors=10, m_neighbors=20\")\n",
    "_,_,_,_,_ = classification.oversampled_run_SVM (dataset01, dataset02,  SMOTE(random_state=0,k_neighbors=10, m_neighbors=20,kind = 'borderline2'), kernel='rbf', features='all_except_LBP',show_plot = 'no')\n",
    "print(\"random_state=0, k_neighbors=21, m_neighbors=20\")\n",
    "_,_,_,_,_ = classification.oversampled_run_SVM (dataset01, dataset02,  SMOTE(random_state=0,k_neighbors=21, m_neighbors=20,kind = 'borderline2'), kernel='rbf', features='all_except_LBP',show_plot = 'no')\n",
    "print(\"random_state=0, k_neighbors=1, m_neighbors=5\")\n",
    "_,_,_,_,_ = classification.oversampled_run_SVM (dataset01, dataset02,  SMOTE(random_state=0,k_neighbors=1, m_neighbors=10,kind = 'borderline2'), kernel='rbf', features='all_except_LBP',show_plot = 'no')\n",
    "print(\"random_state=0, k_neighbors=5, m_neighbors=5\")\n",
    "_,_,_,_,_ = classification.oversampled_run_SVM (dataset01, dataset02,  SMOTE(random_state=0,k_neighbors=5, m_neighbors=10,kind = 'borderline2'), kernel='rbf', features='all_except_LBP',show_plot = 'no')\n",
    "print(\"random_state=0, k_neighbors=10, m_neighbors=5\")\n",
    "_,_,_,_,_ = classification.oversampled_run_SVM (dataset01, dataset02,  SMOTE(random_state=0,k_neighbors=10, m_neighbors=10,kind = 'borderline2'), kernel='rbf', features='all_except_LBP',show_plot = 'no')\n",
    "print(\"random_state=0, k_neighbors=21, m_neighbors=5\")\n",
    "_,_,_,_,_ = classification.oversampled_run_SVM (dataset01, dataset02,  SMOTE(random_state=0,k_neighbors=21, m_neighbors=10,kind = 'borderline2'), kernel='rbf', features='all_except_LBP',show_plot = 'no')"
   ]
  },
  {
   "cell_type": "code",
   "execution_count": 13,
   "metadata": {},
   "outputs": [
    {
     "name": "stdout",
     "output_type": "stream",
     "text": [
      "random_state=0, k_neighbors=1, m_neighbors=10\n",
      "Area under the original ROC curve for our classifier: 0.94\n",
      "Partial area under the FROC curve for FPPI between 0 and 1: 0.53879\n",
      "random_state=0, k_neighbors=5, m_neighbors=10\n",
      "Area under the original ROC curve for our classifier: 0.94\n",
      "Partial area under the FROC curve for FPPI between 0 and 1: 0.54520\n",
      "random_state=0, k_neighbors=10, m_neighbors=10\n",
      "Area under the original ROC curve for our classifier: 0.94\n",
      "Partial area under the FROC curve for FPPI between 0 and 1: 0.53468\n",
      "random_state=0, k_neighbors=21, m_neighbors=10\n",
      "Area under the original ROC curve for our classifier: 0.94\n",
      "Partial area under the FROC curve for FPPI between 0 and 1: 0.55194\n",
      "random_state=0, k_neighbors=1, m_neighbors=20\n",
      "Area under the original ROC curve for our classifier: 0.94\n",
      "Partial area under the FROC curve for FPPI between 0 and 1: 0.52286\n",
      "random_state=0, k_neighbors=5, m_neighbors=20\n",
      "Area under the original ROC curve for our classifier: 0.94\n",
      "Partial area under the FROC curve for FPPI between 0 and 1: 0.53048\n",
      "random_state=0, k_neighbors=10, m_neighbors=20\n",
      "Area under the original ROC curve for our classifier: 0.94\n",
      "Partial area under the FROC curve for FPPI between 0 and 1: 0.53612\n",
      "random_state=0, k_neighbors=21, m_neighbors=20\n",
      "Area under the original ROC curve for our classifier: 0.94\n",
      "Partial area under the FROC curve for FPPI between 0 and 1: 0.55374\n",
      "random_state=0, k_neighbors=1, m_neighbors=5\n",
      "Area under the original ROC curve for our classifier: 0.94\n",
      "Partial area under the FROC curve for FPPI between 0 and 1: 0.53885\n",
      "random_state=0, k_neighbors=5, m_neighbors=5\n",
      "Area under the original ROC curve for our classifier: 0.94\n",
      "Partial area under the FROC curve for FPPI between 0 and 1: 0.54532\n",
      "random_state=0, k_neighbors=10, m_neighbors=5\n",
      "Area under the original ROC curve for our classifier: 0.94\n",
      "Partial area under the FROC curve for FPPI between 0 and 1: 0.53463\n",
      "random_state=0, k_neighbors=21, m_neighbors=5\n",
      "Area under the original ROC curve for our classifier: 0.94\n",
      "Partial area under the FROC curve for FPPI between 0 and 1: 0.55196\n"
     ]
    }
   ],
   "source": [
    "# Testing SMOTE with SVM algorithm\n",
    "print(\"random_state=0, k_neighbors=1, m_neighbors=10\")\n",
    "_,_,_,_,_ = classification.oversampled_run_SVM (dataset01, dataset02,  SMOTE(random_state=0,k_neighbors=1, m_neighbors=10,kind = 'svm'), kernel='rbf', features='all_except_LBP',show_plot = 'no')\n",
    "print(\"random_state=0, k_neighbors=5, m_neighbors=10\")\n",
    "_,_,_,_,_ = classification.oversampled_run_SVM (dataset01, dataset02,  SMOTE(random_state=0,k_neighbors=5, m_neighbors=10,kind = 'svm'), kernel='rbf', features='all_except_LBP',show_plot = 'no')\n",
    "print(\"random_state=0, k_neighbors=10, m_neighbors=10\")\n",
    "_,_,_,_,_ = classification.oversampled_run_SVM (dataset01, dataset02,  SMOTE(random_state=0,k_neighbors=10, m_neighbors=10,kind = 'svm'), kernel='rbf', features='all_except_LBP',show_plot = 'no')\n",
    "print(\"random_state=0, k_neighbors=21, m_neighbors=10\")\n",
    "_,_,_,_,_ = classification.oversampled_run_SVM (dataset01, dataset02,  SMOTE(random_state=0,k_neighbors=21, m_neighbors=10,kind = 'svm'), kernel='rbf', features='all_except_LBP',show_plot = 'no')\n",
    "print(\"random_state=0, k_neighbors=1, m_neighbors=20\")\n",
    "_,_,_,_,_ = classification.oversampled_run_SVM (dataset01, dataset02,  SMOTE(random_state=0,k_neighbors=1, m_neighbors=20,kind = 'svm'), kernel='rbf', features='all_except_LBP',show_plot = 'no')\n",
    "print(\"random_state=0, k_neighbors=5, m_neighbors=20\")\n",
    "_,_,_,_,_ = classification.oversampled_run_SVM (dataset01, dataset02,  SMOTE(random_state=0,k_neighbors=5, m_neighbors=20,kind = 'svm'), kernel='rbf', features='all_except_LBP',show_plot = 'no')\n",
    "print(\"random_state=0, k_neighbors=10, m_neighbors=20\")\n",
    "_,_,_,_,_ = classification.oversampled_run_SVM (dataset01, dataset02,  SMOTE(random_state=0,k_neighbors=10, m_neighbors=20,kind = 'svm'), kernel='rbf', features='all_except_LBP',show_plot = 'no')\n",
    "print(\"random_state=0, k_neighbors=21, m_neighbors=20\")\n",
    "_,_,_,_,_ = classification.oversampled_run_SVM (dataset01, dataset02,  SMOTE(random_state=0,k_neighbors=21, m_neighbors=20,kind = 'svm'), kernel='rbf', features='all_except_LBP',show_plot = 'no')\n",
    "print(\"random_state=0, k_neighbors=1, m_neighbors=5\")\n",
    "_,_,_,_,_ = classification.oversampled_run_SVM (dataset01, dataset02,  SMOTE(random_state=0,k_neighbors=1, m_neighbors=10,kind = 'svm'), kernel='rbf', features='all_except_LBP',show_plot = 'no')\n",
    "print(\"random_state=0, k_neighbors=5, m_neighbors=5\")\n",
    "_,_,_,_,_ = classification.oversampled_run_SVM (dataset01, dataset02,  SMOTE(random_state=0,k_neighbors=5, m_neighbors=10,kind = 'svm'), kernel='rbf', features='all_except_LBP',show_plot = 'no')\n",
    "print(\"random_state=0, k_neighbors=10, m_neighbors=5\")\n",
    "_,_,_,_,_ = classification.oversampled_run_SVM (dataset01, dataset02,  SMOTE(random_state=0,k_neighbors=10, m_neighbors=10,kind = 'svm'), kernel='rbf', features='all_except_LBP',show_plot = 'no')\n",
    "print(\"random_state=0, k_neighbors=21, m_neighbors=5\")\n",
    "_,_,_,_,_ = classification.oversampled_run_SVM (dataset01, dataset02,  SMOTE(random_state=0,k_neighbors=21, m_neighbors=10,kind = 'svm'), kernel='rbf', features='all_except_LBP',show_plot = 'no')"
   ]
  },
  {
   "cell_type": "code",
   "execution_count": null,
   "metadata": {
    "collapsed": true
   },
   "outputs": [],
   "source": []
  }
 ],
 "metadata": {
  "kernelspec": {
   "display_name": "Python 3 (IMMAS)",
   "language": "python",
   "name": "immas"
  },
  "language_info": {
   "codemirror_mode": {
    "name": "ipython",
    "version": 3
   },
   "file_extension": ".py",
   "mimetype": "text/x-python",
   "name": "python",
   "nbconvert_exporter": "python",
   "pygments_lexer": "ipython3",
   "version": "3.6.5"
  }
 },
 "nbformat": 4,
 "nbformat_minor": 2
}
