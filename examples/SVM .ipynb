{
 "cells": [
  {
   "cell_type": "code",
   "execution_count": 1,
   "metadata": {},
   "outputs": [
    {
     "name": "stderr",
     "output_type": "stream",
     "text": [
      "C:\\Users\\mahle\\Anaconda3\\lib\\site-packages\\sklearn\\cross_validation.py:41: DeprecationWarning: This module was deprecated in version 0.18 in favor of the model_selection module into which all the refactored classes and functions are moved. Also note that the interface of the new CV iterators are different from that of this module. This module will be removed in 0.20.\n",
      "  \"This module will be removed in 0.20.\", DeprecationWarning)\n"
     ]
    }
   ],
   "source": [
    "import cv2\n",
    "import matplotlib.pyplot as plt\n",
    "import numpy as np\n",
    "import pandas as pd\n",
    "from sklearn import svm, datasets\n",
    "import matplotlib.pyplot as plt\n",
    "%matplotlib inline\n",
    "\n",
    "from sklearn.svm import SVC  \n",
    "from sklearn.model_selection import train_test_split\n",
    "from sklearn.model_selection import GridSearchCV\n",
    "from sklearn.metrics import classification_report, confusion_matrix , accuracy_score\n",
    "from sklearn.utils import shuffle\n",
    "from sklearn.cross_validation import KFold"
   ]
  },
  {
   "cell_type": "code",
   "execution_count": 2,
   "metadata": {},
   "outputs": [
    {
     "data": {
      "text/html": [
       "<div>\n",
       "<style>\n",
       "    .dataframe thead tr:only-child th {\n",
       "        text-align: right;\n",
       "    }\n",
       "\n",
       "    .dataframe thead th {\n",
       "        text-align: left;\n",
       "    }\n",
       "\n",
       "    .dataframe tbody tr th {\n",
       "        vertical-align: top;\n",
       "    }\n",
       "</style>\n",
       "<table border=\"1\" class=\"dataframe\">\n",
       "  <thead>\n",
       "    <tr style=\"text-align: right;\">\n",
       "      <th></th>\n",
       "      <th>perimeter</th>\n",
       "      <th>area</th>\n",
       "      <th>circularity</th>\n",
       "      <th>ac</th>\n",
       "      <th>mean_intensity</th>\n",
       "      <th>standard_deviation</th>\n",
       "      <th>smoothness</th>\n",
       "      <th>skewness</th>\n",
       "    </tr>\n",
       "  </thead>\n",
       "  <tbody>\n",
       "    <tr>\n",
       "      <th>494</th>\n",
       "      <td>101.656854</td>\n",
       "      <td>640.0</td>\n",
       "      <td>1.284942</td>\n",
       "      <td>498.076991</td>\n",
       "      <td>32611.755427</td>\n",
       "      <td>19157.932320</td>\n",
       "      <td>1.0</td>\n",
       "      <td>1.646219e+11</td>\n",
       "    </tr>\n",
       "    <tr>\n",
       "      <th>1871</th>\n",
       "      <td>769.882250</td>\n",
       "      <td>8370.0</td>\n",
       "      <td>5.635251</td>\n",
       "      <td>1485.293110</td>\n",
       "      <td>32992.032929</td>\n",
       "      <td>19001.306563</td>\n",
       "      <td>1.0</td>\n",
       "      <td>6.668491e+10</td>\n",
       "    </tr>\n",
       "    <tr>\n",
       "      <th>2158</th>\n",
       "      <td>232.142135</td>\n",
       "      <td>2013.0</td>\n",
       "      <td>2.130366</td>\n",
       "      <td>944.907865</td>\n",
       "      <td>33978.628289</td>\n",
       "      <td>19017.288017</td>\n",
       "      <td>1.0</td>\n",
       "      <td>-3.315978e+11</td>\n",
       "    </tr>\n",
       "    <tr>\n",
       "      <th>2098</th>\n",
       "      <td>155.313708</td>\n",
       "      <td>1285.0</td>\n",
       "      <td>1.493849</td>\n",
       "      <td>860.194262</td>\n",
       "      <td>33387.624816</td>\n",
       "      <td>19410.775701</td>\n",
       "      <td>1.0</td>\n",
       "      <td>-1.461466e+11</td>\n",
       "    </tr>\n",
       "    <tr>\n",
       "      <th>3956</th>\n",
       "      <td>121.899495</td>\n",
       "      <td>887.5</td>\n",
       "      <td>1.332372</td>\n",
       "      <td>666.105127</td>\n",
       "      <td>33182.848101</td>\n",
       "      <td>19013.556755</td>\n",
       "      <td>1.0</td>\n",
       "      <td>-1.745581e+10</td>\n",
       "    </tr>\n",
       "  </tbody>\n",
       "</table>\n",
       "</div>"
      ],
      "text/plain": [
       "       perimeter    area  circularity           ac  mean_intensity  \\\n",
       "494   101.656854   640.0     1.284942   498.076991    32611.755427   \n",
       "1871  769.882250  8370.0     5.635251  1485.293110    32992.032929   \n",
       "2158  232.142135  2013.0     2.130366   944.907865    33978.628289   \n",
       "2098  155.313708  1285.0     1.493849   860.194262    33387.624816   \n",
       "3956  121.899495   887.5     1.332372   666.105127    33182.848101   \n",
       "\n",
       "      standard_deviation  smoothness      skewness  \n",
       "494         19157.932320         1.0  1.646219e+11  \n",
       "1871        19001.306563         1.0  6.668491e+10  \n",
       "2158        19017.288017         1.0 -3.315978e+11  \n",
       "2098        19410.775701         1.0 -1.461466e+11  \n",
       "3956        19013.556755         1.0 -1.745581e+10  "
      ]
     },
     "execution_count": 2,
     "metadata": {},
     "output_type": "execute_result"
    }
   ],
   "source": [
    "#read dataset\n",
    "filename = 'classifier-train-data.csv'\n",
    "data = pd.read_csv(filename)\n",
    "\n",
    "#specify featuure and target\n",
    "Feature = data.drop(['class_id', 'Unnamed: 0'], axis=1)\n",
    "Target  = data['class_id']\n",
    "\n",
    "Feature.sample(5)"
   ]
  },
  {
   "cell_type": "code",
   "execution_count": 3,
   "metadata": {},
   "outputs": [
    {
     "name": "stdout",
     "output_type": "stream",
     "text": [
      "# Tuning hyper-parameters\n",
      "\n"
     ]
    }
   ],
   "source": [
    "# shuffle the dataset\n",
    "X, y = shuffle(Feature, Target, random_state=0)\n",
    "\n",
    "#standardize data\n",
    "X = (X - X.mean()) / X.std()\n",
    "\n",
    "# Split the dataset in two equal parts\n",
    "X_train, X_test, y_train, y_test = train_test_split(\n",
    "    X, y, test_size=0.5, random_state=0)\n",
    "\n",
    "\n",
    "# Set the parameters by cross-validation\n",
    "parameters = [{'kernel': ['rbf'],\n",
    "               'gamma': [1e-4, 1e-3, 0.01, 0.1, 0.2, 0.5],\n",
    "                'C': [1, 10, 100, 1000]},\n",
    "              {'kernel': ['linear'], 'C': [1, 10, 100, 1000]}]\n",
    "\n",
    "print(\"# Tuning hyper-parameters\")\n",
    "print()\n"
   ]
  },
  {
   "cell_type": "code",
   "execution_count": 4,
   "metadata": {},
   "outputs": [
    {
     "data": {
      "text/plain": [
       "SVC(C=1.0, cache_size=200, class_weight=None, coef0=0.0,\n",
       "  decision_function_shape='ovr', degree=3, gamma='auto', kernel='linear',\n",
       "  max_iter=-1, probability=False, random_state=None, shrinking=True,\n",
       "  tol=0.001, verbose=False)"
      ]
     },
     "execution_count": 4,
     "metadata": {},
     "output_type": "execute_result"
    }
   ],
   "source": [
    "#Train algorithm\n",
    "svclassifier = SVC(kernel='linear')  \n",
    "svclassifier.fit(X_train, y_train)"
   ]
  },
  {
   "cell_type": "code",
   "execution_count": 5,
   "metadata": {},
   "outputs": [
    {
     "name": "stdout",
     "output_type": "stream",
     "text": [
      "[[2072    5]\n",
      " [  15   45]]\n",
      "             precision    recall  f1-score   support\n",
      "\n",
      "       -1.0       0.99      1.00      1.00      2077\n",
      "        1.0       0.90      0.75      0.82        60\n",
      "\n",
      "avg / total       0.99      0.99      0.99      2137\n",
      "\n",
      "0.9906410856340665\n"
     ]
    }
   ],
   "source": [
    "#make prediction\n",
    "y_pred = svclassifier.predict(X_test)\n",
    "print(confusion_matrix(y_test,y_pred))  \n",
    "print(classification_report(y_test,y_pred))\n",
    "print(accuracy_score(y_test, y_pred))"
   ]
  },
  {
   "cell_type": "code",
   "execution_count": 6,
   "metadata": {},
   "outputs": [
    {
     "name": "stdout",
     "output_type": "stream",
     "text": [
      "Fold 1 accuracy: 1.0\n",
      "Fold 2 accuracy: 1.0\n",
      "Fold 3 accuracy: 0.9887640449438202\n",
      "Fold 4 accuracy: 1.0\n",
      "Fold 5 accuracy: 0.9775280898876404\n",
      "Fold 6 accuracy: 0.9887640449438202\n",
      "Fold 7 accuracy: 0.9887640449438202\n",
      "Fold 8 accuracy: 0.9887640449438202\n",
      "Fold 9 accuracy: 0.9887640449438202\n",
      "Fold 10 accuracy: 0.9887640449438202\n",
      "Mean Accuracy: 0.9910112359550561\n"
     ]
    }
   ],
   "source": [
    "# Validate with k-fold\n",
    "def run_kfold(clf):\n",
    "    kf = KFold(891, n_folds=10)\n",
    "    outcomes = []\n",
    "    fold = 0\n",
    "    for train_index, test_index in kf:\n",
    "        fold += 1\n",
    "        X_train, X_test =X.values[train_index], X.values[test_index]\n",
    "        y_train, y_test = y.values[train_index], y.values[test_index]\n",
    "        svclassifier.fit(X_train, y_train)\n",
    "        predictions = svclassifier.predict(X_test)\n",
    "        accuracy = accuracy_score(y_test, predictions)\n",
    "        outcomes.append(accuracy)\n",
    "        print(\"Fold {0} accuracy: {1}\".format(fold, accuracy))     \n",
    "    mean_outcome = np.mean(outcomes)\n",
    "    print(\"Mean Accuracy: {0}\".format(mean_outcome)) \n",
    "\n",
    "run_kfold(svclassifier)"
   ]
  },
  {
   "cell_type": "code",
   "execution_count": null,
   "metadata": {
    "collapsed": true
   },
   "outputs": [],
   "source": [
    "clf = GridSearchCV(svm.SVC(decision_function_shape='ovo'), parameters, cv=5)\n",
    "clf.fit(X_train, y_train)\n",
    "\n",
    "print(\"Best parameters set found on development set:\")\n",
    "print()\n",
    "print(clf.best_params_)\n",
    "print()\n",
    "print(\"Grid scores on training set:\")\n",
    "print()\n",
    "means = clf.cv_results_['mean_test_score']\n",
    "stds = clf.cv_results_['std_test_score']\n",
    "for mean, std, params in zip(means, stds, clf.cv_results_['params']):\n",
    "    print(\"%0.3f (+/-%0.03f) for %r\"\n",
    "          % (mean, std * 2, params))\n",
    "print()"
   ]
  },
  {
   "cell_type": "code",
   "execution_count": 101,
   "metadata": {
    "collapsed": true
   },
   "outputs": [],
   "source": []
  },
  {
   "cell_type": "code",
   "execution_count": null,
   "metadata": {
    "collapsed": true
   },
   "outputs": [],
   "source": []
  }
 ],
 "metadata": {
  "kernelspec": {
   "display_name": "Python 3",
   "language": "python",
   "name": "python3"
  },
  "language_info": {
   "codemirror_mode": {
    "name": "ipython",
    "version": 3
   },
   "file_extension": ".py",
   "mimetype": "text/x-python",
   "name": "python",
   "nbconvert_exporter": "python",
   "pygments_lexer": "ipython3",
   "version": "3.6.2"
  }
 },
 "nbformat": 4,
 "nbformat_minor": 2
}
