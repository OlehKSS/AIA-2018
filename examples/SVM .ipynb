{
 "cells": [
  {
   "cell_type": "code",
   "execution_count": 102,
   "metadata": {},
   "outputs": [],
   "source": [
    "import cv2\n",
    "import matplotlib.pyplot as plt\n",
    "import numpy as np\n",
    "import pandas as pd\n",
    "from sklearn import svm, datasets\n",
    "import matplotlib.pyplot as plt\n",
    "%matplotlib inline\n",
    "\n",
    "from sklearn.svm import SVC  \n",
    "from sklearn.model_selection import train_test_split\n",
    "from sklearn.model_selection import GridSearchCV\n",
    "from sklearn.metrics import classification_report, confusion_matrix , accuracy_score\n",
    "from sklearn.utils import shuffle\n",
    "from sklearn.cross_validation import KFold\n",
    "\n",
    "from sklearn.metrics import roc_auc_score"
   ]
  },
  {
   "cell_type": "code",
   "execution_count": 111,
   "metadata": {},
   "outputs": [],
   "source": [
    "def DATA(filename):\n",
    "    #filename = 'classifier-train-data.csv'\n",
    "    data = pd.read_csv(filename)\n",
    "\n",
    "    #specify featuure and target\n",
    "    Feature = data.drop(['class_id', 'Unnamed: 0'], axis=1)\n",
    "    Target  = data['class_id']\n",
    "    \n",
    "    # shuffle the dataset\n",
    "    X, y = shuffle(Feature, Target, random_state=0)\n",
    "\n",
    "    #standardize data\n",
    "    X = (X - X.mean()) / X.std()\n",
    "\n",
    "    # Split the dataset in two equal parts\n",
    "    X_train, X_test, y_train, y_test = train_test_split(\n",
    "        X, y, test_size=0.5, random_state=0)\n",
    "\n",
    "    return X_train, X_test, y_train, y_test, X, y\n",
    "\n",
    "\n",
    "def run_SVM (X_train, X_test, y_train, y_test, kernel= 'poly'):\n",
    "    #Train algorithm\n",
    "    svclassifier = SVC(C=1, cache_size=200, class_weight='balanced', coef0=0.0,\n",
    "                      decision_function_shape='ovr', degree=3, gamma=0.01, kernel= kernel,\n",
    "                      max_iter=-1, probability=True, random_state=None, shrinking=True,\n",
    "                      tol=0.001, verbose=False)\n",
    "    \n",
    "    svclassifier.fit(X_train, y_train)\n",
    "    #make prediction\n",
    "    y_pred = svclassifier.predict(X_test)\n",
    "    \n",
    "    # results\n",
    "    print(confusion_matrix(y_test,y_pred))  \n",
    "    print(classification_report(y_test,y_pred))\n",
    "    print(\"Accuracy:  %f\" % (accuracy_score(y_test, y_pred)))\n",
    "    \n",
    "    #AUROC results\n",
    "    prob_y = svclassifier.predict_proba(X_test)\n",
    "    prob_y  = [p[1] for p in prob_y]\n",
    "    print(\"AUROC:  %f\" % roc_auc_score(y_test, prob_y) )\n",
    "    \n",
    "    return svclassifier\n",
    "    \n",
    "    # Validate with k-fold\n",
    "def run_kfold(clf):\n",
    "    kf = KFold(891, n_folds=10)\n",
    "    outcomes = []\n",
    "    fold = 0\n",
    "    for train_index, test_index in kf:\n",
    "        fold += 1\n",
    "        X_train, X_test =X.values[train_index], X.values[test_index]\n",
    "        y_train, y_test = y.values[train_index], y.values[test_index]\n",
    "        clf.fit(X_train, y_train)\n",
    "        predictions = clf.predict(X_test)\n",
    "        accuracy = accuracy_score(y_test, predictions)\n",
    "        outcomes.append(accuracy)\n",
    "        print(\"Fold {0} accuracy: {1}\".format(fold, accuracy))     \n",
    "    mean_outcome = np.mean(outcomes)\n",
    "    print(\"Mean Accuracy: {0}\".format(mean_outcome)) "
   ]
  },
  {
   "cell_type": "code",
   "execution_count": 112,
   "metadata": {},
   "outputs": [
    {
     "name": "stdout",
     "output_type": "stream",
     "text": [
      "[[2818  319]\n",
      " [   6   45]]\n",
      "             precision    recall  f1-score   support\n",
      "\n",
      "       -1.0       1.00      0.90      0.95      3137\n",
      "        1.0       0.12      0.88      0.22        51\n",
      "\n",
      "avg / total       0.98      0.90      0.93      3188\n",
      "\n",
      "Accuracy:  0.898055\n",
      "AUROC:  0.910411\n"
     ]
    },
    {
     "data": {
      "text/plain": [
       "SVC(C=1, cache_size=200, class_weight='balanced', coef0=0.0,\n",
       "  decision_function_shape='ovr', degree=3, gamma=0.01, kernel='linear',\n",
       "  max_iter=-1, probability=True, random_state=None, shrinking=True,\n",
       "  tol=0.001, verbose=False)"
      ]
     },
     "execution_count": 112,
     "metadata": {},
     "output_type": "execute_result"
    }
   ],
   "source": [
    "filename = './feature-tables/train-data_1526424532.csv'\n",
    "X_train, X_test, y_train, y_test, X, y = DATA(filename)\n",
    "run_SVM (X_train, X_test, y_train, y_test, 'linear')"
   ]
  },
  {
   "cell_type": "code",
   "execution_count": 113,
   "metadata": {},
   "outputs": [
    {
     "name": "stdout",
     "output_type": "stream",
     "text": [
      "[[2891  246]\n",
      " [  12   39]]\n",
      "             precision    recall  f1-score   support\n",
      "\n",
      "       -1.0       1.00      0.92      0.96      3137\n",
      "        1.0       0.14      0.76      0.23        51\n",
      "\n",
      "avg / total       0.98      0.92      0.95      3188\n",
      "\n",
      "Accuracy:  0.919072\n",
      "AUROC:  0.906355\n"
     ]
    },
    {
     "data": {
      "text/plain": [
       "SVC(C=1, cache_size=200, class_weight='balanced', coef0=0.0,\n",
       "  decision_function_shape='ovr', degree=3, gamma=0.01, kernel='rbf',\n",
       "  max_iter=-1, probability=True, random_state=None, shrinking=True,\n",
       "  tol=0.001, verbose=False)"
      ]
     },
     "execution_count": 113,
     "metadata": {},
     "output_type": "execute_result"
    }
   ],
   "source": [
    "run_SVM (X_train, X_test, y_train, y_test, 'rbf')"
   ]
  },
  {
   "cell_type": "code",
   "execution_count": 114,
   "metadata": {},
   "outputs": [
    {
     "name": "stdout",
     "output_type": "stream",
     "text": [
      "[[2936  201]\n",
      " [  19   32]]\n",
      "             precision    recall  f1-score   support\n",
      "\n",
      "       -1.0       0.99      0.94      0.96      3137\n",
      "        1.0       0.14      0.63      0.23        51\n",
      "\n",
      "avg / total       0.98      0.93      0.95      3188\n",
      "\n",
      "Accuracy:  0.930991\n",
      "AUROC:  0.921844\n"
     ]
    },
    {
     "data": {
      "text/plain": [
       "SVC(C=1, cache_size=200, class_weight='balanced', coef0=0.0,\n",
       "  decision_function_shape='ovr', degree=3, gamma=0.01, kernel='sigmoid',\n",
       "  max_iter=-1, probability=True, random_state=None, shrinking=True,\n",
       "  tol=0.001, verbose=False)"
      ]
     },
     "execution_count": 114,
     "metadata": {},
     "output_type": "execute_result"
    }
   ],
   "source": [
    "run_SVM (X_train, X_test, y_train, y_test, 'sigmoid')"
   ]
  },
  {
   "cell_type": "code",
   "execution_count": 115,
   "metadata": {},
   "outputs": [
    {
     "name": "stdout",
     "output_type": "stream",
     "text": [
      "[[3086   51]\n",
      " [  37   14]]\n",
      "             precision    recall  f1-score   support\n",
      "\n",
      "       -1.0       0.99      0.98      0.99      3137\n",
      "        1.0       0.22      0.27      0.24        51\n",
      "\n",
      "avg / total       0.98      0.97      0.97      3188\n",
      "\n",
      "Accuracy:  0.972396\n",
      "AUROC:  0.114391\n"
     ]
    }
   ],
   "source": [
    "scv=run_SVM (X_train, X_test, y_train, y_test,'poly')"
   ]
  },
  {
   "cell_type": "code",
   "execution_count": 77,
   "metadata": {},
   "outputs": [],
   "source": [
    "#run_kfold(svc)"
   ]
  },
  {
   "cell_type": "code",
   "execution_count": null,
   "metadata": {},
   "outputs": [
    {
     "name": "stderr",
     "output_type": "stream",
     "text": [
      "C:\\Users\\mahle\\Anaconda3\\lib\\site-packages\\sklearn\\model_selection\\_split.py:597: Warning: The least populated class in y has only 59 members, which is too few. The minimum number of members in any class cannot be less than n_splits=100.\n",
      "  % (min_groups, self.n_splits)), Warning)\n"
     ]
    }
   ],
   "source": [
    "parameters = [{'kernel': ['poly'],\n",
    "               'gamma': [1e-4, 1e-3, 0.01, 0.1, 0.2, 0.5],\n",
    "                'C': [1, 10, 100, 1000]},\n",
    "             {'kernel': ['sigmoid'], 'C': [1, 10, 100, 1000]}]\n",
    "\n",
    "clf = GridSearchCV(svm.SVC(decision_function_shape='ovr', class_weight='balanced', probability=True), parameters, cv=100, n_jobs=4)\n",
    "clf.fit(X_train, y_train)\n",
    "\n",
    "print(\"Best parameters set found on development set:\")\n",
    "print()\n",
    "print(clf.best_params_)\n",
    "print()\n",
    "print(\"Grid scores on training set:\")\n",
    "print()\n",
    "means = clf.cv_results_['mean_test_score']\n",
    "stds = clf.cv_results_['std_test_score']\n",
    "for mean, std, params in zip(means, stds, clf.cv_results_['params']):\n",
    "    print(\"%0.3f (+/-%0.03f) for %r\"\n",
    "          % (mean, std * 2, params))\n",
    "print()"
   ]
  },
  {
   "cell_type": "code",
   "execution_count": 85,
   "metadata": {},
   "outputs": [
    {
     "data": {
      "text/plain": [
       "SVC(C=1, cache_size=200, class_weight='balanced', coef0=0.0,\n",
       "  decision_function_shape='ovr', degree=3, gamma=0.01, kernel='poly',\n",
       "  max_iter=-1, probability=True, random_state=None, shrinking=True,\n",
       "  tol=0.001, verbose=False)"
      ]
     },
     "execution_count": 85,
     "metadata": {},
     "output_type": "execute_result"
    }
   ],
   "source": [
    "clf.best_estimator_"
   ]
  },
  {
   "cell_type": "code",
   "execution_count": 91,
   "metadata": {},
   "outputs": [
    {
     "name": "stdout",
     "output_type": "stream",
     "text": [
      "Best Score:  0.971765 \n",
      "Best Params:  {'C': 1, 'gamma': 0.01, 'kernel': 'poly'}\n",
      "Best Index:  2.000000\n",
      "Best Estimator:  SVC(C=1, cache_size=200, class_weight='balanced', coef0=0.0,\n",
      "  decision_function_shape='ovr', degree=3, gamma=0.01, kernel='poly',\n",
      "  max_iter=-1, probability=True, random_state=None, shrinking=True,\n",
      "  tol=0.001, verbose=False)\n"
     ]
    }
   ],
   "source": [
    "print(\"Best Score:  %f \" % (clf.best_score_ ))\n",
    "print(\"Best Params:  %r\" % (clf.best_params_ ))\n",
    "print(\"Best Index:  %f\" % (clf.best_index_ ))\n",
    "print(\"Best Estimator:  %r\" % (clf.best_estimator_ ))\n"
   ]
  },
  {
   "cell_type": "code",
   "execution_count": null,
   "metadata": {},
   "outputs": [],
   "source": []
  },
  {
   "cell_type": "code",
   "execution_count": null,
   "metadata": {},
   "outputs": [],
   "source": []
  },
  {
   "cell_type": "code",
   "execution_count": null,
   "metadata": {},
   "outputs": [],
   "source": []
  },
  {
   "cell_type": "code",
   "execution_count": null,
   "metadata": {
    "collapsed": true
   },
   "outputs": [],
   "source": []
  },
  {
   "cell_type": "code",
   "execution_count": null,
   "metadata": {
    "collapsed": true
   },
   "outputs": [],
   "source": []
  }
 ],
 "metadata": {
  "kernelspec": {
   "display_name": "Python 3",
   "language": "python",
   "name": "python3"
  },
  "language_info": {
   "codemirror_mode": {
    "name": "ipython",
    "version": 3
   },
   "file_extension": ".py",
   "mimetype": "text/x-python",
   "name": "python",
   "nbconvert_exporter": "python",
   "pygments_lexer": "ipython3",
   "version": "3.6.2"
  }
 },
 "nbformat": 4,
 "nbformat_minor": 2
}
