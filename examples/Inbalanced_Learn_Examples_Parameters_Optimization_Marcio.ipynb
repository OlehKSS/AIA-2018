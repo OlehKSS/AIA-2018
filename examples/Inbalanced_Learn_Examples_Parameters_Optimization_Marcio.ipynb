{
 "cells": [
  {
   "cell_type": "markdown",
   "metadata": {},
   "source": [
    "# Inbalanced learn examples"
   ]
  },
  {
   "cell_type": "markdown",
   "metadata": {},
   "source": [
    " Using the module inbalanced learn to balanced our dataset (increase positives)\n",
    " To install \"pip install -U imbalanced-learn\" or \"conda install -c glemaitre imbalanced-learn\""
   ]
  },
  {
   "cell_type": "code",
   "execution_count": 1,
   "metadata": {},
   "outputs": [],
   "source": [
    "import imblearn"
   ]
  },
  {
   "cell_type": "code",
   "execution_count": 2,
   "metadata": {},
   "outputs": [],
   "source": [
    "import matplotlib.pyplot as plt\n",
    "%matplotlib inline\n",
    "import cv2\n",
    "import matplotlib.pyplot as plt\n",
    "import numpy as np\n",
    "import pandas as pd\n",
    "from scipy import interp\n",
    "from itertools import cycle\n",
    "from sklearn import svm, datasets, preprocessing\n",
    "from sklearn.svm import SVC  \n",
    "from sklearn.model_selection import train_test_split, GridSearchCV\n",
    "from sklearn.metrics import classification_report, confusion_matrix, accuracy_score, matthews_corrcoef, roc_curve, auc, make_scorer\n",
    "from sklearn.utils import shuffle\n",
    "from sklearn.model_selection import StratifiedKFold\n",
    "from sklearn.ensemble import AdaBoostClassifier\n",
    "import bisect\n",
    "from immas import classification\n",
    "from sklearn.utils import shuffle\n",
    "\n",
    "from imblearn.over_sampling import RandomOverSampler, SMOTE, ADASYN\n",
    "from imblearn.combine import SMOTEENN, SMOTETomek\n",
    "from collections import Counter"
   ]
  },
  {
   "cell_type": "code",
   "execution_count": 11,
   "metadata": {},
   "outputs": [
    {
     "name": "stdout",
     "output_type": "stream",
     "text": [
      "Number of images in the dataset 01: 205\n",
      "Number of images in the dataset 02: 205\n",
      "Number of regions in dataset 01: 3299\n",
      "Number of regions in dataset 02: 3077\n"
     ]
    }
   ],
   "source": [
    "# Loading of data and splitting in groups according to images\n",
    "# Regions of the same image will stay in the same Pandas Dataframe in the end (dataset_df1 or dataset_df2)\n",
    "\n",
    "# Load the dataset and groups by image filename\n",
    "filename = \"C:\\\\AIA-2018\\\\examples\\\\feature-tables\\\\train-data_1527086478.csv\"\n",
    "dataset_df1, dataset_df2 = classification.load_features_data(filename)\n",
    "\n",
    "# Conversion from pandas dataframe to numpy array\n",
    "# Keeps all the features from the original csv file\n",
    "Feature = dataset_df1.drop(['class_id','img_name'], axis=1)\n",
    "Target  = dataset_df1['class_id']\n",
    "dataset01_data = Feature.as_matrix()\n",
    "dataset01_labels = Target.as_matrix()\n",
    "\n",
    "Feature = dataset_df2.drop(['class_id','img_name'], axis=1)\n",
    "Target  = dataset_df2['class_id']\n",
    "dataset02_data = Feature.as_matrix()\n",
    "dataset02_labels = Target.as_matrix()\n",
    "\n",
    "# Shuflles the datasets and creates one variable with labels for all the samples\n",
    "dataset01_data, dataset01_labels = shuffle(dataset01_data, dataset01_labels, random_state=None)\n",
    "dataset02_data, dataset02_labels = shuffle(dataset02_data, dataset02_labels, random_state=None)\n",
    "all_data = np.vstack((dataset01_data, dataset02_data))\n",
    "all_labels = np.concatenate((dataset01_labels, dataset02_labels),axis=0)\n",
    "\n",
    "# Data standardization for each dataset (two methods)\n",
    "dataset01_data = preprocessing.StandardScaler().fit_transform(dataset01_data)\n",
    "dataset02_data = preprocessing.StandardScaler().fit_transform(dataset02_data)\n",
    "all_data = preprocessing.StandardScaler().fit_transform(all_data)\n",
    "#dataset01_data = preprocessing.robust_scale(dataset01_data)fit_transform\n",
    "#dataset02_data = preprocessing.robust_scale(dataset02_data)\n",
    "\n",
    "# Concatenates data and labels of dataset01 into one array\n",
    "dataset01 = np.zeros((dataset01_data.shape[0],dataset01_data.shape[1]+1));\n",
    "dataset01[:,:-1] = dataset01_data\n",
    "dataset01[:,-1] = dataset01_labels\n",
    "\n",
    "# Concatenates data and labels of dataset02 into one array\n",
    "dataset02 = np.zeros((dataset02_data.shape[0],dataset02_data.shape[1]+1));\n",
    "dataset02[:,:-1] = dataset02_data\n",
    "dataset02[:,-1] = dataset02_labels"
   ]
  },
  {
   "cell_type": "code",
   "execution_count": 12,
   "metadata": {},
   "outputs": [
    {
     "data": {
      "image/png": "[encoded data removed]",
      "text/plain": [
       "<matplotlib.figure.Figure at 0x2530fdf35f8>"
      ]
     },
     "metadata": {},
     "output_type": "display_data"
    },
    {
     "name": "stdout",
     "output_type": "stream",
     "text": [
      "Area under the original ROC curve for our classifier: 0.94\n",
      "Partial area under the FROC curve for FPPI between 0 and 1: 0.59582\n"
     ]
    }
   ],
   "source": [
    "_,_,_,_,_ = classification.optimal_oversampling_SVM (dataset01, dataset02, kernel='rbf', features='all_except_LBP')"
   ]
  },
  {
   "cell_type": "code",
   "execution_count": 4,
   "metadata": {},
   "outputs": [],
   "source": [
    "# Data Augmentation with over sampling\n",
    "\n",
    "# Parameters for features without LBP\n",
    "#oversampling_kernel = SMOTETomek(random_state=42,smote = SMOTE(random_state=0, k_neighbors=10, m_neighbors=5, kind = 'svm'))\n",
    "oversampling_kernel = SMOTE(random_state=0,k_neighbors=10, m_neighbors=5,kind = 'svm')\n",
    "\n",
    "# Parameters for features with LBP\n",
    "#oversampling_kernel = SMOTE(random_state=0,k_neighbors=5, m_neighbors=20,kind = 'borderline2')\n",
    "\n",
    "dataset01_data_resampled, dataset01_labels_resampled = oversampling_kernel.fit_sample(dataset01_data, dataset01_labels)\n",
    "dataset02_data_resampled, dataset02_labels_resampled = oversampling_kernel.fit_sample(dataset02_data, dataset02_labels)\n",
    "all_data = np.vstack((dataset01_data_resampled, dataset02_data_resampled))\n",
    "all_labels = np.concatenate((dataset01_labels_resampled, dataset02_labels_resampled),axis=0)"
   ]
  },
  {
   "cell_type": "code",
   "execution_count": 5,
   "metadata": {},
   "outputs": [],
   "source": [
    "# Extensive Grid Searches\n",
    "\n",
    "# Grid Search parameters\n",
    "parameters1 = {'C': [0.001, 0.01, 0.1, 0.5, 5, 7, 10, 20, 50, 200], 'gamma': [1e-4, 1e-3, 0.0003, 0.0005, 0.001, 0.01, 0.05, 0.1, 0.5], 'kernel': ['rbf'],\n",
    "              'class_weight':['balanced', None, {1:1},{1:3},{1:5},{1:7},{1:9},{1:10},{1:15},{1:20},{1:25},{1:30},{1:50},{1:100}]}\n",
    "\n",
    "parameters2 = {'C': [0.001, 0.01, 0.1, 0.5, 5, 7, 9, 10, 50, 200], 'gamma': [1e-4, 1e-3, 0.0005, 0.001, 0.005, 0.01, 0.03, 0.05, 0.1, 0.5], 'kernel': ['sigmoid'],\n",
    "               'class_weight':['balanced', None, {1:1},{1:3},{1:5},{1:7},{1:9},{1:10},{1:15},{1:17},{1:20},{1:50},{1:100}]}\n",
    "\n",
    "parameters3 = {'C': [0.0001, 0.0005, 0.001, 0.003, 0.005, 0.01, 0.1, 0.5, 5, 7, 8, 9, 10, 15, 20],'kernel': ['linear'],\n",
    "               'class_weight':['balanced', None, {1:1},{1:3},{1:5},{1:7},{1:9},{1:10},{1:15},{1:20},{1:22},{1:24},{1:30},{1:40},{1:50},{1:100}]}\n",
    "\n",
    "parameters4 = {'C': [0.01, 0.1, 0.3, 0.5, 1, 7, 10, 100], 'gamma': [1e-3, 0.01, 0.05, 0.1], 'kernel': ['poly'],\n",
    "               'class_weight':['balanced',{1:5},{1:10},{1:50}],'degree':[1,3,5], 'coef0':[0.0, 0.5, 1.0, 1.5]}\n",
    "\n",
    "gridSVM = svm.SVC()"
   ]
  },
  {
   "cell_type": "code",
   "execution_count": 6,
   "metadata": {},
   "outputs": [
    {
     "name": "stdout",
     "output_type": "stream",
     "text": [
      "Fitting 2 folds for each of 1260 candidates, totalling 2520 fits\n"
     ]
    },
    {
     "name": "stderr",
     "output_type": "stream",
     "text": [
      "[Parallel(n_jobs=2)]: Done  37 tasks      | elapsed:  1.2min\n",
      "[Parallel(n_jobs=2)]: Done 158 tasks      | elapsed:  3.9min\n",
      "[Parallel(n_jobs=2)]: Done 361 tasks      | elapsed:  8.2min\n",
      "[Parallel(n_jobs=2)]: Done 644 tasks      | elapsed: 12.8min\n",
      "[Parallel(n_jobs=2)]: Done 1009 tasks      | elapsed: 16.6min\n",
      "[Parallel(n_jobs=2)]: Done 1454 tasks      | elapsed: 19.3min\n",
      "[Parallel(n_jobs=2)]: Done 1981 tasks      | elapsed: 22.2min\n",
      "[Parallel(n_jobs=2)]: Done 2520 out of 2520 | elapsed: 24.9min finished\n"
     ]
    },
    {
     "name": "stdout",
     "output_type": "stream",
     "text": [
      "0.9765516223181196 {'C': 7, 'class_weight': {1: 7}, 'gamma': 0.0003, 'kernel': 'rbf'}\n"
     ]
    }
   ],
   "source": [
    "grid_search1 = GridSearchCV(gridSVM, param_grid=parameters1, scoring='roc_auc', refit=True, n_jobs=2, pre_dispatch='2*n_jobs', cv=2, verbose=2, return_train_score=False)\n",
    "grid_search1.fit(all_data, all_labels)\n",
    "print(grid_search1.best_score_, grid_search1.best_params_)"
   ]
  },
  {
   "cell_type": "code",
   "execution_count": 7,
   "metadata": {},
   "outputs": [
    {
     "name": "stdout",
     "output_type": "stream",
     "text": [
      "Fitting 2 folds for each of 1300 candidates, totalling 2600 fits\n"
     ]
    },
    {
     "name": "stderr",
     "output_type": "stream",
     "text": [
      "[Parallel(n_jobs=2)]: Done  37 tasks      | elapsed:  1.2min\n",
      "[Parallel(n_jobs=2)]: Done 158 tasks      | elapsed:  4.3min\n",
      "[Parallel(n_jobs=2)]: Done 361 tasks      | elapsed:  8.6min\n",
      "[Parallel(n_jobs=2)]: Done 644 tasks      | elapsed: 13.6min\n",
      "[Parallel(n_jobs=2)]: Done 1009 tasks      | elapsed: 18.7min\n",
      "[Parallel(n_jobs=2)]: Done 1454 tasks      | elapsed: 22.6min\n",
      "[Parallel(n_jobs=2)]: Done 1981 tasks      | elapsed: 26.7min\n",
      "[Parallel(n_jobs=2)]: Done 2588 tasks      | elapsed: 31.0min\n",
      "[Parallel(n_jobs=2)]: Done 2600 out of 2600 | elapsed: 31.1min finished\n"
     ]
    },
    {
     "name": "stdout",
     "output_type": "stream",
     "text": [
      "0.9761149150678969 {'C': 5, 'class_weight': {1: 7}, 'gamma': 0.0005, 'kernel': 'sigmoid'}\n"
     ]
    }
   ],
   "source": [
    "grid_search2 = GridSearchCV(gridSVM, param_grid=parameters2, scoring='roc_auc', refit=True, n_jobs=2, pre_dispatch='2*n_jobs', cv=2, verbose=2, return_train_score=False)\n",
    "grid_search2.fit(all_data, all_labels)\n",
    "print(grid_search2.best_score_, grid_search2.best_params_)"
   ]
  },
  {
   "cell_type": "code",
   "execution_count": null,
   "metadata": {},
   "outputs": [
    {
     "name": "stdout",
     "output_type": "stream",
     "text": [
      "Fitting 2 folds for each of 240 candidates, totalling 480 fits\n"
     ]
    },
    {
     "name": "stderr",
     "output_type": "stream",
     "text": [
      "[Parallel(n_jobs=2)]: Done  37 tasks      | elapsed:   23.8s\n",
      "[Parallel(n_jobs=2)]: Done 158 tasks      | elapsed:  1.1min\n",
      "[Parallel(n_jobs=2)]: Done 361 tasks      | elapsed:  3.3min\n",
      "[Parallel(n_jobs=2)]: Done 480 out of 480 | elapsed:  7.1min finished\n"
     ]
    },
    {
     "name": "stdout",
     "output_type": "stream",
     "text": [
      "0.976209875118467 {'C': 0.003, 'class_weight': {1: 7}, 'kernel': 'linear'}\n"
     ]
    }
   ],
   "source": [
    "grid_search3 = GridSearchCV(gridSVM, param_grid=parameters3, scoring='roc_auc', refit=True, n_jobs=2, pre_dispatch='2*n_jobs', cv=2, verbose=2, return_train_score=False)\n",
    "grid_search3.fit(all_data, all_labels)\n",
    "print(grid_search3.best_score_, grid_search3.best_params_)"
   ]
  },
  {
   "cell_type": "code",
   "execution_count": null,
   "metadata": {},
   "outputs": [
    {
     "name": "stdout",
     "output_type": "stream",
     "text": [
      "Fitting 2 folds for each of 1536 candidates, totalling 3072 fits\n"
     ]
    },
    {
     "name": "stderr",
     "output_type": "stream",
     "text": [
      "[Parallel(n_jobs=2)]: Done  37 tasks      | elapsed:   34.6s\n",
      "[Parallel(n_jobs=2)]: Done 158 tasks      | elapsed:  2.0min\n",
      "[Parallel(n_jobs=2)]: Done 361 tasks      | elapsed:  3.9min\n",
      "[Parallel(n_jobs=2)]: Done 644 tasks      | elapsed:  6.1min\n",
      "[Parallel(n_jobs=2)]: Done 1009 tasks      | elapsed:  8.7min\n",
      "[Parallel(n_jobs=2)]: Done 1454 tasks      | elapsed: 11.5min\n",
      "[Parallel(n_jobs=2)]: Done 1981 tasks      | elapsed: 14.8min\n",
      "[Parallel(n_jobs=2)]: Done 2588 tasks      | elapsed: 21.4min\n"
     ]
    }
   ],
   "source": [
    "grid_search4 = GridSearchCV(gridSVM, param_grid=parameters4, scoring='roc_auc', refit=True, n_jobs=2, pre_dispatch='2*n_jobs', cv=2, verbose=2, return_train_score=False)\n",
    "grid_search4.fit(all_data, all_labels)\n",
    "print(grid_search4.best_score_, grid_search4.best_params_)"
   ]
  },
  {
   "cell_type": "code",
   "execution_count": null,
   "metadata": {},
   "outputs": [],
   "source": [
    "print(grid_search1.best_score_, grid_search1.best_params_)\n",
    "print(grid_search2.best_score_, grid_search2.best_params_)\n",
    "print(grid_search3.best_score_, grid_search3.best_params_)\n",
    "print(grid_search4.best_score_, grid_search4.best_params_)"
   ]
  },
  {
   "cell_type": "code",
   "execution_count": null,
   "metadata": {},
   "outputs": [],
   "source": [
    "# LBP EXPERIMENTS\n",
    "\n",
    "# Loading of data and splitting in groups according to images\n",
    "# Regions of the same image will stay in the same Pandas Dataframe in the end (dataset_df1 or dataset_df2)\n",
    "\n",
    "# Load the dataset and groups by image filename\n",
    "filename = \"C:\\\\AIA-2018\\\\examples\\\\feature-tables\\\\train-data_1527093743.csv\"\n",
    "dataset_df1, dataset_df2 = classification.load_features_data(filename)\n",
    "\n",
    "# Conversion from pandas dataframe to numpy array\n",
    "# Keeps all the features from the original csv file\n",
    "Feature = dataset_df1.drop(['class_id','img_name'], axis=1)\n",
    "Target  = dataset_df1['class_id']\n",
    "dataset01_data = Feature.as_matrix()\n",
    "dataset01_labels = Target.as_matrix()\n",
    "\n",
    "Feature = dataset_df2.drop(['class_id','img_name'], axis=1)\n",
    "Target  = dataset_df2['class_id']\n",
    "dataset02_data = Feature.as_matrix()\n",
    "dataset02_labels = Target.as_matrix()\n",
    "\n",
    "# Shuflles the datasets and creates one variable with labels for all the samples\n",
    "dataset01_data, dataset01_labels = shuffle(dataset01_data, dataset01_labels, random_state=None)\n",
    "dataset02_data, dataset02_labels = shuffle(dataset02_data, dataset02_labels, random_state=None)\n",
    "all_data = np.vstack((dataset01_data, dataset02_data))\n",
    "all_labels = np.concatenate((dataset01_labels, dataset02_labels),axis=0)\n",
    "\n",
    "# Data standardization for each dataset (two methods)\n",
    "dataset01_data = preprocessing.StandardScaler().fit_transform(dataset01_data)\n",
    "dataset02_data = preprocessing.StandardScaler().fit_transform(dataset02_data)\n",
    "all_data = preprocessing.StandardScaler().fit_transform(all_data)\n",
    "#dataset01_data = preprocessing.robust_scale(dataset01_data)fit_transform\n",
    "#dataset02_data = preprocessing.robust_scale(dataset02_data)\n",
    "\n",
    "# Concatenates data and labels of dataset01 into one array\n",
    "dataset01 = np.zeros((dataset01_data.shape[0],dataset01_data.shape[1]+1));\n",
    "dataset01[:,:-1] = dataset01_data\n",
    "dataset01[:,-1] = dataset01_labels\n",
    "\n",
    "# Concatenates data and labels of dataset02 into one array\n",
    "dataset02 = np.zeros((dataset02_data.shape[0],dataset02_data.shape[1]+1));\n",
    "dataset02[:,:-1] = dataset02_data\n",
    "dataset02[:,-1] = dataset02_labels\n",
    "\n",
    "# LBP oversampling\n",
    "oversampling_kernel = SMOTE(random_state=0,k_neighbors=5, m_neighbors=20,kind = 'borderline2')\n",
    "\n",
    "dataset01_data_resampled, dataset01_labels_resampled = oversampling_kernel.fit_sample(dataset01_data, dataset01_labels)\n",
    "dataset02_data_resampled, dataset02_labels_resampled = oversampling_kernel.fit_sample(dataset02_data, dataset02_labels)\n",
    "all_data = np.vstack((dataset01_data_resampled, dataset02_data_resampled))\n",
    "all_labels = np.concatenate((dataset01_labels_resampled, dataset02_labels_resampled),axis=0)"
   ]
  },
  {
   "cell_type": "code",
   "execution_count": null,
   "metadata": {},
   "outputs": [],
   "source": [
    "# Extensive Grid Searches for LBP (less parameters)\n",
    "\n",
    "# Scores for Grid Searches\n",
    "calculate_MCC = make_scorer(matthews_corrcoef)\n",
    "calculate_AUC = make_scorer(roc_auc_score)\n",
    "\n",
    "# Grid Search parameters\n",
    "parameters1 = {'C': [0.001, 0.01, 0.1, 0.5, 10, 100], 'gamma': [1e-4, 1e-3, 0.001, 0.01, 0.1], 'kernel': ['rbf'],\n",
    "              'class_weight':['balanced', {1:5},{1:10},{1:50}]}\n",
    "\n",
    "parameters2 = {'C': [0.001, 0.01, 0.1, 0.5, 10, 100], 'gamma': [1e-4, 1e-3, 0.001, 0.01, 0.1], 'kernel': ['sigmoid'],\n",
    "               'class_weight':['balanced', {1:5},{1:10},{1:30},{1:50}]}\n",
    "\n",
    "parameters3 = {'C': [0.001, 0.01, 0.1, 0.5, 10, 100],'kernel': ['linear'],\n",
    "               'class_weight':['balanced', None, {1:1},{1:5},{1:7},{1:10},{1:15},{1:20},{1:30},{1:100}]}\n",
    "\n",
    "parameters4 = {'C': [0.001, 0.01, 0.1, 0.5, 10], 'gamma': [1e-3, 0.01, 0.1], 'kernel': ['poly'],\n",
    "               'class_weight':['balanced',{1:5},{1:10},{1:50}],'degree':[1,3,5], 'coef0':[0.0, 0.5, 1.0]}\n",
    "\n",
    "gridSVM = svm.SVC()\n",
    "grid_search1_lbp = GridSearchCV(gridSVM, param_grid=parameters1, scoring='roc_auc', refit=True, n_jobs=2, pre_dispatch='2*n_jobs', cv=2, verbose=2, return_train_score=False)\n",
    "grid_search1_lbp.fit(all_data, all_labels)\n",
    "\n",
    "grid_search2_lbp = GridSearchCV(gridSVM, param_grid=parameters2, scoring='roc_auc', refit=True, n_jobs=2, pre_dispatch='2*n_jobs', cv=2, verbose=3, return_train_score=False)\n",
    "grid_search2_lbp.fit(all_data, all_labels)\n",
    "\n",
    "grid_search3_lbp = GridSearchCV(gridSVM, param_grid=parameters3, scoring='roc_auc', refit=True, n_jobs=2, pre_dispatch='2*n_jobs', cv=2, verbose=3, return_train_score=False)\n",
    "grid_search3_lbp.fit(all_data, all_labels)\n",
    "\n",
    "grid_search4_lbp = GridSearchCV(gridSVM, param_grid=parameters4, scoring='roc_auc', refit=True, n_jobs=2, pre_dispatch='2*n_jobs', cv=2, verbose=3, return_train_score=False)\n",
    "grid_search4_lbp.fit(all_data, all_labels)"
   ]
  },
  {
   "cell_type": "code",
   "execution_count": null,
   "metadata": {},
   "outputs": [],
   "source": [
    "# Results for extensive Grid Searches\n",
    "print(grid_search1_lbp.best_score_, grid_search1_lbp.best_params_)\n",
    "print(grid_search2_lbp.best_score_, grid_search2_lbp.best_params_)\n",
    "print(grid_search3_lbp.best_score_, grid_search3_lbp.best_params_)\n",
    "print(grid_search4_lbp.best_score_, grid_search4_lbp.best_params_)"
   ]
  },
  {
   "cell_type": "code",
   "execution_count": null,
   "metadata": {},
   "outputs": [],
   "source": [
    "_,_,_,_,_ = classification.optimal_oversampling_SVM (dataset01, dataset02, kernel='rbf', features='all_with_LBP')"
   ]
  }
 ],
 "metadata": {
  "kernelspec": {
   "display_name": "Python 3 (IMMAS)",
   "language": "python",
   "name": "immas"
  },
  "language_info": {
   "codemirror_mode": {
    "name": "ipython",
    "version": 3
   },
   "file_extension": ".py",
   "mimetype": "text/x-python",
   "name": "python",
   "nbconvert_exporter": "python",
   "pygments_lexer": "ipython3",
   "version": "3.6.4"
  }
 },
 "nbformat": 4,
 "nbformat_minor": 2
}
