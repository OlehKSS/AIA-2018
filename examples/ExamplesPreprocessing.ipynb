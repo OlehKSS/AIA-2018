{
 "cells": [
  {
   "cell_type": "markdown",
   "metadata": {},
   "source": [
    "# Intelligent Mammogram Mass Analysis and Segmentation (IMMAS)"
   ]
  },
  {
   "cell_type": "markdown",
   "metadata": {
    "collapsed": true
   },
   "source": [
    "## Enhancement - PreProcessing"
   ]
  },
  {
   "cell_type": "code",
   "execution_count": 2,
   "metadata": {},
   "outputs": [],
   "source": [
    "# Defines function to apply preprocessing techniques.\n",
    "# This can be used to try different parameters for the preprocessing functions.\n",
    "# Also can be used to try those functions in different orders.\n",
    "\n",
    "import immas\n",
    "import matplotlib.pyplot as plt\n",
    "from immas import preprocessing\n",
    "\n",
    "def testPreProcessing (img):\n",
    "    img = preprocessing.resize(img)\n",
    "    #img = preprocessing.open(img)\n",
    "    #img = preprocessing.close(img)\n",
    "    #img = preprocessing.erode(img)\n",
    "    #img = preprocessing.dilate(img)\n",
    "    #img = preprocessing.clahe(img)\n",
    "    img = preprocessing.morphoEnhancement(img,2)\n",
    "    #img = preprocessing.waveletTransform(img)#.astype('uint16')\n",
    "    return img"
   ]
  },
  {
   "cell_type": "markdown",
   "metadata": {},
   "source": [
    "### Applies preprocessing to a small subset of the dataset and saves the results as .tif files"
   ]
  },
  {
   "cell_type": "code",
   "execution_count": 3,
   "metadata": {},
   "outputs": [
    {
     "name": "stdout",
     "output_type": "stream",
     "text": [
      "Reading list of files...\n",
      "Reading mamograms images and all additional data...\n",
      "All data have been successfully loaded.\n",
      "Number of images for training is 6, number of images for testing is 18\n"
     ]
    }
   ],
   "source": [
    "# Loads images inside the folder dataset/masses_examples\n",
    "# Saves images inside the folder dataset/masses_examples_preprocessed\n",
    "# Uses the function defined above to do the preprocessing; to change the sequence and parameters applied to the images, just \n",
    "# change the definition of the function\n",
    "\n",
    "from immas.io import read_dataset\n",
    "from immas import preprocessing\n",
    "import numpy as np\n",
    "import cv2\n",
    "import os\n",
    "\n",
    "data_set = read_dataset(image_folder=\"../dataset/masses_examples\",\n",
    "            mask_folder=\"../dataset/masks\",\n",
    "            results_folder=\"../dataset/groundtruth\",\n",
    "            pmuscle_mask_folder=\"../dataset/pectoral_muscle_masks\")\n",
    "\n",
    "print(\"Number of images for training is {0}, number of images for testing is {1}\".format(\n",
    "    len(data_set[\"train\"]), len(data_set[\"test\"])))\n",
    "\n",
    "savepath = \"../dataset/masses_examples_preprocessed\"\n",
    "\n",
    "img = data_set[\"train\"]\n",
    "for m in img:\n",
    "    m.read_data()\n",
    "    m.image_data = testPreProcessing(m.image_data)\n",
    "    cv2.imwrite(os.path.join(savepath, m.file_name) + '.tif', m.image_data)\n",
    "    \n",
    "img = data_set[\"test\"]\n",
    "for m in img:\n",
    "    m.read_data()\n",
    "    m.image_data = testPreProcessing(m.image_data)\n",
    "    cv2.imwrite(os.path.join(savepath, m.file_name) + '.tif', m.image_data)"
   ]
  },
  {
   "cell_type": "code",
   "execution_count": null,
   "metadata": {},
   "outputs": [],
   "source": []
  }
 ],
 "metadata": {
  "kernelspec": {
   "display_name": "Python 3 (IMMAS)",
   "language": "python",
   "name": "immas"
  },
  "language_info": {
   "codemirror_mode": {
    "name": "ipython",
    "version": 3
   },
   "file_extension": ".py",
   "mimetype": "text/x-python",
   "name": "python",
   "nbconvert_exporter": "python",
   "pygments_lexer": "ipython3",
   "version": "3.6.4"
  }
 },
 "nbformat": 4,
 "nbformat_minor": 2
}
