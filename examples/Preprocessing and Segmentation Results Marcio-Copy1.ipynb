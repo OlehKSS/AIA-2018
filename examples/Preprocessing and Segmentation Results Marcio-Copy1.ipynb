{
 "cells": [
  {
   "cell_type": "code",
   "execution_count": 1,
   "metadata": {},
   "outputs": [],
   "source": [
    "import cv2\n",
    "import matplotlib.pyplot as plt\n",
    "from immas import MammogramImage , preprocessing , segmentation\n",
    "from immas.io import read_dataset\n",
    "from immas.basic_functions import show_image_plt\n",
    "from immas import preprocessing\n",
    "\n",
    "#Openkernel , Openkernel1 and Openkernel2 are tuples\n",
    "def Segmentation(img,Openkernel= (10,10), Openkernel1= (13,13), OpenKernel2=(20,20), Kernel3=(20,20)):\n",
    "    img = segmentation.multithresholding(img)\n",
    "    img = segmentation.thresh_to_binary(img)\n",
    "    #img1 = preprocessing.open(img,Openkernel)\n",
    "    img1 = img\n",
    "    img2 = preprocessing.open(img,Openkernel1)\n",
    "    img3 = preprocessing.close(img2,Kernel3)\n",
    "    return (img1,img2,img3)\n",
    "\n",
    "#mean 1&2 are numbers\n",
    "def Segmentation2(img, mean1=30,mean2=30, OpenKerne2=(20,20)):\n",
    "    img = segmentation.mean_shift(img,mean1,mean2)\n",
    "    img = segmentation.multithresholding(img)\n",
    "    img = segmentation.thresh_to_binary(img)\n",
    "    img = preprocessing.open(img,OpenKerne2)\n",
    "    return img\n",
    "\n",
    "from immas import preprocessing\n",
    "\n",
    "def testPreProcessing (img, kernel_size = 20, clahe_kernel = 10.0):\n",
    "    #img = preprocessing.resize(img, 0.5, 0.5)\n",
    "    #img = preprocessing.close(img)\n",
    "    #img = preprocessing.dilate(img)\n",
    "    #img = preprocessing.clahe(img,10.0)\n",
    "    img = preprocessing.open(img,(5,5))\n",
    "    img = preprocessing.morphoEnhancement(img,kernel_size, clahe_kernel)\n",
    "    img = preprocessing.waveletTransform(img)\n",
    "    #img = preprocessing.erode(img,(3,3))    \n",
    "    return img"
   ]
  },
  {
   "cell_type": "code",
   "execution_count": 2,
   "metadata": {
    "scrolled": false
   },
   "outputs": [],
   "source": [
    "#def Plot_Result(img, Morpho_kernel_size, Morpho_clahe_kernel, Kernel1, Kernel2, Kernel3):\n",
    "def Plot_Result(img, Morpho_kernel_size=20, Morpho_clahe_kernel=10.0, Kernel1=(10,10), Kernel2=(23,23), Kernel3=(10,10)):    \n",
    "    av_jaccard = 0\n",
    "    m.read_data()\n",
    "    m.image_data = testPreProcessing(m.image_data, Morpho_kernel_size, Morpho_clahe_kernel )\n",
    "\n",
    "    #segment using both methods\n",
    "    result1, result2, result4 = Segmentation(m.image_data, Kernel1, Kernel2, Kernel3)\n",
    "    #result3 = Segmentation2(m.image_data, mean1,mean2, Openkernel2)\n",
    "\n",
    "    #show both results\n",
    "    plt.figure(figsize=(20, 40))\n",
    "    plt.subplot(1,4,1)\n",
    "    plt.axis(\"off\")\n",
    "    plt.imshow(m.cropped_ground_truth, interpolation=\"nearest\", cmap=plt.cm.gray)\n",
    "    plt.title('Groundtruth')\n",
    "\n",
    "    plt.subplot(1,4,2)\n",
    "    plt.axis(\"off\")\n",
    "    plt.imshow(result1, interpolation=\"nearest\", cmap=plt.cm.gray)\n",
    "    plt.title('Segmentation1')\n",
    "\n",
    "    plt.subplot(1,4,3)\n",
    "    plt.axis(\"off\")\n",
    "    plt.imshow(result2, interpolation=\"nearest\", cmap=plt.cm.gray)   \n",
    "    plt.title('Segmentation2')\n",
    "\n",
    "    plt.subplot(1,4,4)\n",
    "    plt.axis(\"off\")\n",
    "    plt.imshow(result4, interpolation=\"nearest\", cmap=plt.cm.gray)          \n",
    "    plt.title('Segmentation3')\n",
    "    av_jaccard = segmentation.jaccard_index(result4,  m.cropped_ground_truth)\n",
    "    print(av_jaccard)\n",
    "    plt.show()\n",
    "    return av_jaccard"
   ]
  },
  {
   "cell_type": "code",
   "execution_count": 3,
   "metadata": {
    "scrolled": false
   },
   "outputs": [],
   "source": [
    "def main():\n",
    "    import multiprocessing as mp\n",
    "\n",
    "    data_set = read_dataset(image_folder=\"../dataset/masses_examples\",\n",
    "                mask_folder=\"../dataset/masks\",\n",
    "                results_folder=\"../dataset/groundtruth\",\n",
    "                train_set_fraction=1)\n",
    "\n",
    "    print(\"Number of images for training is {0}, number of images for testing is {1}\".format(\n",
    "        len(data_set[\"train\"]), len(data_set[\"test\"])))\n",
    "\n",
    "    img = data_set[\"train\"]\n",
    "\n",
    "    pool = mp.Pool(processes=4)\n",
    "    results = [pool.apply(Plot_Result,(m)) for m in img]\n",
    "\n",
    "#Plot_Result(img, Morpho_kernel_size=20, Morpho_clahe_kernel=10.0, Kernel1=(20,20), Kernel2=(27,27), Kernel3=(5,5))"
   ]
  },
  {
   "cell_type": "markdown",
   "metadata": {},
   "source": [
    "main()"
   ]
  },
  {
   "cell_type": "code",
   "execution_count": null,
   "metadata": {},
   "outputs": [
    {
     "name": "stdout",
     "output_type": "stream",
     "text": [
      "Reading list of files...\n",
      "Reading mamograms images and all additional data...\n",
      "All data have been successfully loaded.\n",
      "Number of images for training is 107, number of images for testing is 0\n"
     ]
    }
   ],
   "source": [
    "main()"
   ]
  },
  {
   "cell_type": "code",
   "execution_count": null,
   "metadata": {},
   "outputs": [],
   "source": [
    "print(\"Number of images for training is {0}, number of images for testing is {1}\".format(\n",
    "    len(data_set[\"train\"]), len(data_set[\"test\"])))\n",
    "\n",
    "av_jaccard = 0\n",
    "img = data_set[\"train\"]\n",
    "count = 0\n",
    "for m in img:\n",
    "    m.read_data()\n",
    "    m.image_data = testPreProcessing(m.image_data,20,10.0)\n",
    "    #Best parameters should be made default ... for segmentations\n",
    "    Seg, SegA, SegB = Segmentation(m.image_data, Openkernel=(20,20), Openkernel1=(23,23), OpenKernel2=(20,20), Kernel3=(5,10))\n",
    "    av_jaccard = av_jaccard + segmentation.jaccard_index(SegB,  m.cropped_ground_truth)\n",
    "    count = count + 1\n",
    "    print(segmentation.jaccard_index(SegB,  m.cropped_ground_truth))\n",
    "\n",
    "print(\"Average jaccard index for training set (Segmentaion1)is {}\".format(av_jaccard/count))\n",
    "#print(\"Average jaccard index for training set (Segmentaion2)is {}\".format(av_jaccard2/count))"
   ]
  },
  {
   "cell_type": "code",
   "execution_count": null,
   "metadata": {},
   "outputs": [],
   "source": [
    "path_image = \"../dataset/images/22579730_bbd6a3a35438c11b_MG_R_ML_ANON.tif\"\n",
    "path_mask = \"../dataset/masks/20587080_b6a4f750c6df4f90_MG_R_ML_ANON.png\"\n",
    "pectoral_muscle = \"../dataset/pectoral_muscle_masks/20587080_b6a4f750c6df4f90_MG_R_ML_ANON.tif\"\n",
    "mm = MammogramImage(path_image, path_mask, pmuscle_mask_path=pectoral_muscle)\n",
    "\n",
    "\n",
    "img = mm.image_data\n",
    "\n",
    "\n",
    "enhanced = preprocessing.clahe(img)\n",
    "morpho = preprocessing.morphoEnhancement(img)\n",
    "img_wavelet = preprocessing.waveletTransform(morpho)\n",
    "\n",
    "plt.figure(figsize=(20, 10))\n",
    "plt.subplot(1,4,1)\n",
    "plt.axis(\"off\")\n",
    "plt.imshow(img, interpolation=\"nearest\", cmap=plt.cm.gray)\n",
    "plt.title('Image')\n",
    "\n",
    "plt.subplot(1,4,2)\n",
    "plt.axis(\"off\")\n",
    "plt.imshow(enhanced, interpolation=\"nearest\", cmap=plt.cm.gray)\n",
    "plt.title('CLAHE')\n",
    "\n",
    "plt.subplot(1,4,3)\n",
    "plt.axis(\"off\")\n",
    "plt.imshow(morpho, interpolation=\"nearest\", cmap=plt.cm.gray)\n",
    "plt.title('Morpho')\n",
    "\n",
    "plt.subplot(1,4,4)\n",
    "plt.axis(\"off\")\n",
    "plt.imshow(img_wavelet, interpolation=\"nearest\", cmap=plt.cm.gray)\n",
    "plt.title('Wavelet and Morpho')\n",
    "plt.show()"
   ]
  }
 ],
 "metadata": {
  "kernelspec": {
   "display_name": "Python 3",
   "language": "python",
   "name": "python3"
  },
  "language_info": {
   "codemirror_mode": {
    "name": "ipython",
    "version": 3
   },
   "file_extension": ".py",
   "mimetype": "text/x-python",
   "name": "python",
   "nbconvert_exporter": "python",
   "pygments_lexer": "ipython3",
   "version": "3.6.4"
  }
 },
 "nbformat": 4,
 "nbformat_minor": 2
}
