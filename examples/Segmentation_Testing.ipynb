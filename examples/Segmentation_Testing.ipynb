{
 "cells": [
  {
   "cell_type": "markdown",
   "metadata": {},
   "source": [
    "# Segmentation Testing"
   ]
  },
  {
   "cell_type": "markdown",
   "metadata": {},
   "source": [
    "A file which provides examples for testing and optimizing the segmentation process"
   ]
  },
  {
   "cell_type": "code",
   "execution_count": 1,
   "metadata": {
    "collapsed": true
   },
   "outputs": [],
   "source": [
    "from immas import segmentation, preprocessing, MammogramImage\n",
    "from immas.basic_functions import show_image_plt\n",
    "import numpy, cv2, os\n",
    "from immas.io import read_dataset"
   ]
  },
  {
   "cell_type": "code",
   "execution_count": null,
   "metadata": {
    "collapsed": true
   },
   "outputs": [],
   "source": [
    "help(segmentation.multithresholding)\n",
    "help(segmentation.mean_shift)"
   ]
  },
  {
   "cell_type": "code",
   "execution_count": null,
   "metadata": {
    "collapsed": true
   },
   "outputs": [],
   "source": [
    "path_image = \"../dataset/images/22579730_bbd6a3a35438c11b_MG_R_ML_ANON.tif\"\n",
    "path_mask = \"../dataset/masks/20587080_b6a4f750c6df4f90_MG_R_ML_ANON.png\"\n",
    "pectoral_muscle = \"../dataset/pectoral_muscle_masks/20587080_b6a4f750c6df4f90_MG_R_ML_ANON.tif\"\n",
    "mm = MammogramImage(path_image, path_mask, pmuscle_mask_path=pectoral_muscle)\n",
    "show_image_plt(mm.image_data,'Cropped image')"
   ]
  },
  {
   "cell_type": "markdown",
   "metadata": {},
   "source": [
    "## Implement Mean Shift"
   ]
  },
  {
   "cell_type": "code",
   "execution_count": null,
   "metadata": {
    "collapsed": true
   },
   "outputs": [],
   "source": [
    "clahe = preprocessing.clahe(mm.image_data)\n",
    "shifted_clahe = segmentation.mean_shift(clahe,20,30)\n",
    "shifted = segmentation.mean_shift(mm.image_data,20,30)\n",
    "show_image_plt(shifted_clahe,\"mean shifted image with clahe\")\n",
    "show_image_plt(shifted,\"mean shifted image no preprocessing\")"
   ]
  },
  {
   "cell_type": "markdown",
   "metadata": {},
   "source": [
    "## Implement multithresholding"
   ]
  },
  {
   "cell_type": "code",
   "execution_count": null,
   "metadata": {
    "collapsed": true
   },
   "outputs": [],
   "source": [
    "thresh_clahe = segmentation.multithresholding(clahe)\n",
    "show_image_plt(thresh_clahe, 'thresholded image with clahe')\n",
    "thresh = segmentation.multithresholding(mm.image_data)\n",
    "show_image_plt(thresh, 'thresholded image no preprocessing')"
   ]
  },
  {
   "cell_type": "markdown",
   "metadata": {
    "collapsed": true
   },
   "source": [
    "## Turn Thresholded Image to Binary"
   ]
  },
  {
   "cell_type": "code",
   "execution_count": null,
   "metadata": {
    "collapsed": true
   },
   "outputs": [],
   "source": [
    "binary = segmentation.thresh_to_binary(thresh_clahe)\n",
    "show_image_plt(binary, 'thresholded image then binarized')"
   ]
  },
  {
   "cell_type": "code",
   "execution_count": null,
   "metadata": {
    "collapsed": true
   },
   "outputs": [],
   "source": [
    "segmented_images = preprocessing.open(binary,(10,10))\n",
    "show_image_plt(segmented_images, 'cleaned binary image')"
   ]
  },
  {
   "cell_type": "code",
   "execution_count": 2,
   "metadata": {
    "collapsed": true
   },
   "outputs": [],
   "source": [
    "def testPreProcessing (img):\n",
    "    #img = preprocessing.open(img)\n",
    "    #img = preprocessing.close(img)\n",
    "    #img = preprocessing.erode(img)\n",
    "    #img = preprocessing.dilate(img)\n",
    "    #img = preprocessing.clahe(img)\n",
    "    img = preprocessing.morphoEnhancement(img,2)\n",
    "    #img = preprocessing.waveletTransform(img)#.astype('uint16')\n",
    "    return img\n",
    "\n",
    "def testPreProcessing2 (img):\n",
    "    #img = preprocessing.open(img)\n",
    "    #img = preprocessing.close(img)\n",
    "    #img = preprocessing.erode(img)\n",
    "    #img = preprocessing.dilate(img)\n",
    "    img = preprocessing.clahe(img, 2, 8)\n",
    "    #img = preprocessing.morphoEnhancement(img,2)\n",
    "    #img = preprocessing.waveletTransform(img)#.astype('uint16')\n",
    "    return img\n",
    "\n",
    "# Defines function to apply segmentation techniques.\n",
    "# This can be used to try different parameters for the segmentation functions.\n",
    "# Also can be used to try those functions in different orders.\n",
    "\n",
    "def testSegmentation(img):\n",
    "    img = segmentation.mean_shift(img,20,30)\n",
    "    img = segmentation.multithresholding(img)\n",
    "    img = segmentation.thresh_to_binary(img)\n",
    "    img = preprocessing.open(img,(20,20))\n",
    "    return img"
   ]
  },
  {
   "cell_type": "code",
   "execution_count": null,
   "metadata": {
    "collapsed": true
   },
   "outputs": [],
   "source": [
    "#Trying with preprocessing 1\n",
    "\n",
    "data_set = read_dataset(image_folder=\"../dataset/masses_examples\",\n",
    "            mask_folder=\"../dataset/masks\",\n",
    "            results_folder=\"../dataset/groundtruth\",\n",
    "            pmuscle_mask_folder=\"../dataset/pectoral_muscle_masks\")\n",
    "\n",
    "print(\"Number of images for training is {0}, number of images for testing is {1}\".format(\n",
    "    len(data_set[\"train\"]), len(data_set[\"test\"])))\n",
    "\n",
    "img = data_set[\"train\"]\n",
    "for m in img:\n",
    "    m.read_data()\n",
    "    m.image_data = testPreProcessing(m.image_data)\n",
    "    m.image_data = testSegmentation(m.image_data)\n",
    "    show_image_plt(m.image_data,\"{}\".format(m.file_name))\n",
    "    \n",
    "#img = data_set[\"test\"]\n",
    "#for m in img:\n",
    "#    m.read_data()\n",
    "#    m.image_data = testPreProcessing(m.image_data)\n",
    "#    cv2.imwrite(os.path.join(savepath, m.file_name) + '.tif', m.uncropped_image)\n",
    "    "
   ]
  },
  {
   "cell_type": "code",
   "execution_count": 6,
   "metadata": {},
   "outputs": [
    {
     "name": "stdout",
     "output_type": "stream",
     "text": [
      "Reading list of files...\n",
      "Reading mamograms images and all additional data...\n",
      "All data have been successfully loaded.\n",
      "Number of images for training is 6, number of images for testing is 18\n"
     ]
    },
    {
     "name": "stderr",
     "output_type": "stream",
     "text": [
      "/usr/local/lib/python3.6/site-packages/immas-1.0-py3.6.egg/immas/segmentation.py:50: RuntimeWarning: invalid value encountered in double_scalars\n"
     ]
    },
    {
     "name": "stdout",
     "output_type": "stream",
     "text": [
      "Average jaccard index for training set is 0.3249296039580237\n"
     ]
    }
   ],
   "source": [
    "# Trying with preprocessing 2\n",
    "data_set = read_dataset(image_folder=\"../dataset/masses_examples\",\n",
    "            mask_folder=\"../dataset/masks\",\n",
    "            results_folder=\"../dataset/groundtruth\",\n",
    "            pmuscle_mask_folder=\"../dataset/pectoral_muscle_masks\")\n",
    "\n",
    "print(\"Number of images for training is {0}, number of images for testing is {1}\".format(\n",
    "    len(data_set[\"train\"]), len(data_set[\"test\"])))\n",
    "\n",
    "av_jaccard = 0\n",
    "img = data_set[\"train\"]\n",
    "for m in img:\n",
    "    m.read_data()\n",
    "    m.image_data = testPreProcessing2(m.image_data)\n",
    "    m.image_data = testSegmentation(m.image_data)\n",
    "    segmented_image = (m.uncropped_image).astype('uint8')\n",
    "    av_jaccard = av_jaccard + segmentation.jaccard_index(segmented_image,m.image_ground_truth)\n",
    "    \n",
    "print(\"Average jaccard index for training set is {}\".format(av_jaccard/len(data_set[\"train\"])))\n",
    "\n",
    "#img = data_set[\"test\"]\n",
    "#for m in img:\n",
    "#    m.read_data()\n",
    "#    m.image_data = testPreProcessing(m.image_data)\n",
    "#    cv2.imwrite(os.path.join(savepath, m.file_name) + '.tif', m.uncropped_image)\n",
    "    "
   ]
  },
  {
   "cell_type": "code",
   "execution_count": null,
   "metadata": {
    "collapsed": true
   },
   "outputs": [],
   "source": []
  }
 ],
 "metadata": {
  "kernelspec": {
   "display_name": "Python 3 (IMMAS)",
   "language": "python",
   "name": "immas"
  },
  "language_info": {
   "codemirror_mode": {
    "name": "ipython",
    "version": 3
   },
   "file_extension": ".py",
   "mimetype": "text/x-python",
   "name": "python",
   "nbconvert_exporter": "python",
   "pygments_lexer": "ipython3",
   "version": "3.6.5"
  }
 },
 "nbformat": 4,
 "nbformat_minor": 2
}
